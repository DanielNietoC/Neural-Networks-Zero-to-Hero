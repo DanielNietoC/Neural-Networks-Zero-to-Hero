{
  "cells": [
    {
      "cell_type": "markdown",
      "metadata": {
        "id": "rToK0Tku8PPn"
      },
      "source": [
        "## makemore: becoming a backprop ninja"
      ]
    },
    {
      "cell_type": "code",
      "execution_count": null,
      "metadata": {
        "id": "8sFElPqq8PPp"
      },
      "outputs": [],
      "source": [
        "# there no change change in the first several cells from last lecture"
      ]
    },
    {
      "cell_type": "code",
      "execution_count": null,
      "metadata": {
        "id": "ChBbac4y8PPq"
      },
      "outputs": [],
      "source": [
        "import torch\n",
        "import torch.nn.functional as F\n",
        "import matplotlib.pyplot as plt # for making figures\n",
        "%matplotlib inline"
      ]
    },
    {
      "cell_type": "code",
      "source": [
        "# download the names.txt file from github\n",
        "!wget https://raw.githubusercontent.com/karpathy/makemore/master/names.txt"
      ],
      "metadata": {
        "id": "x6GhEWW18aCS",
        "colab": {
          "base_uri": "https://localhost:8080/"
        },
        "outputId": "f72f6059-3617-4c1c-977d-6cf5cb3978af"
      },
      "execution_count": null,
      "outputs": [
        {
          "output_type": "stream",
          "name": "stdout",
          "text": [
            "--2023-11-07 10:08:51--  https://raw.githubusercontent.com/karpathy/makemore/master/names.txt\n",
            "Resolving raw.githubusercontent.com (raw.githubusercontent.com)... 185.199.108.133, 185.199.109.133, 185.199.110.133, ...\n",
            "Connecting to raw.githubusercontent.com (raw.githubusercontent.com)|185.199.108.133|:443... connected.\n",
            "HTTP request sent, awaiting response... 200 OK\n",
            "Length: 228145 (223K) [text/plain]\n",
            "Saving to: ‘names.txt’\n",
            "\n",
            "\rnames.txt             0%[                    ]       0  --.-KB/s               \rnames.txt           100%[===================>] 222.80K  --.-KB/s    in 0.04s   \n",
            "\n",
            "2023-11-07 10:08:52 (5.05 MB/s) - ‘names.txt’ saved [228145/228145]\n",
            "\n"
          ]
        }
      ]
    },
    {
      "cell_type": "code",
      "execution_count": null,
      "metadata": {
        "id": "klmu3ZG08PPr",
        "colab": {
          "base_uri": "https://localhost:8080/"
        },
        "outputId": "01be1ec9-dec1-4d11-89b5-d263d8f72766"
      },
      "outputs": [
        {
          "output_type": "stream",
          "name": "stdout",
          "text": [
            "32033\n",
            "15\n",
            "['emma', 'olivia', 'ava', 'isabella', 'sophia', 'charlotte', 'mia', 'amelia']\n"
          ]
        }
      ],
      "source": [
        "# read in all the words\n",
        "words = open('names.txt', 'r').read().splitlines()\n",
        "print(len(words))\n",
        "print(max(len(w) for w in words))\n",
        "print(words[:8])"
      ]
    },
    {
      "cell_type": "code",
      "execution_count": null,
      "metadata": {
        "id": "BCQomLE_8PPs",
        "colab": {
          "base_uri": "https://localhost:8080/"
        },
        "outputId": "f50ebe98-e911-4081-96c8-b593901a5193"
      },
      "outputs": [
        {
          "output_type": "stream",
          "name": "stdout",
          "text": [
            "{1: 'a', 2: 'b', 3: 'c', 4: 'd', 5: 'e', 6: 'f', 7: 'g', 8: 'h', 9: 'i', 10: 'j', 11: 'k', 12: 'l', 13: 'm', 14: 'n', 15: 'o', 16: 'p', 17: 'q', 18: 'r', 19: 's', 20: 't', 21: 'u', 22: 'v', 23: 'w', 24: 'x', 25: 'y', 26: 'z', 0: '.'}\n",
            "27\n"
          ]
        }
      ],
      "source": [
        "# build the vocabulary of characters and mappings to/from integers\n",
        "chars = sorted(list(set(''.join(words))))\n",
        "stoi = {s:i+1 for i,s in enumerate(chars)}\n",
        "stoi['.'] = 0\n",
        "itos = {i:s for s,i in stoi.items()}\n",
        "vocab_size = len(itos)\n",
        "print(itos)\n",
        "print(vocab_size)"
      ]
    },
    {
      "cell_type": "code",
      "execution_count": null,
      "metadata": {
        "id": "V_zt2QHr8PPs",
        "colab": {
          "base_uri": "https://localhost:8080/"
        },
        "outputId": "6d93228d-8af3-4d3e-a80c-dce5f9aa2d15"
      },
      "outputs": [
        {
          "output_type": "stream",
          "name": "stdout",
          "text": [
            "torch.Size([182625, 3]) torch.Size([182625])\n",
            "torch.Size([22655, 3]) torch.Size([22655])\n",
            "torch.Size([22866, 3]) torch.Size([22866])\n"
          ]
        }
      ],
      "source": [
        "# build the dataset\n",
        "block_size = 3 # context length: how many characters do we take to predict the next one?\n",
        "\n",
        "def build_dataset(words):\n",
        "  X, Y = [], []\n",
        "\n",
        "  for w in words:\n",
        "    context = [0] * block_size\n",
        "    for ch in w + '.':\n",
        "      ix = stoi[ch]\n",
        "      X.append(context)\n",
        "      Y.append(ix)\n",
        "      context = context[1:] + [ix] # crop and append\n",
        "\n",
        "  X = torch.tensor(X)\n",
        "  Y = torch.tensor(Y)\n",
        "  print(X.shape, Y.shape)\n",
        "  return X, Y\n",
        "\n",
        "import random\n",
        "random.seed(42)\n",
        "random.shuffle(words)\n",
        "n1 = int(0.8*len(words))\n",
        "n2 = int(0.9*len(words))\n",
        "\n",
        "Xtr,  Ytr  = build_dataset(words[:n1])     # 80%\n",
        "Xdev, Ydev = build_dataset(words[n1:n2])   # 10%\n",
        "Xte,  Yte  = build_dataset(words[n2:])     # 10%"
      ]
    },
    {
      "cell_type": "code",
      "execution_count": null,
      "metadata": {
        "id": "eg20-vsg8PPt"
      },
      "outputs": [],
      "source": [
        "# ok boilerplate done, now we get to the action:"
      ]
    },
    {
      "cell_type": "code",
      "execution_count": null,
      "metadata": {
        "id": "MJPU8HT08PPu"
      },
      "outputs": [],
      "source": [
        "# utility function we will use later when comparing manual gradients to PyTorch gradients\n",
        "def cmp(s, dt, t):\n",
        "  ex = torch.all(dt == t.grad).item()\n",
        "  app = torch.allclose(dt, t.grad)\n",
        "  maxdiff = (dt - t.grad).abs().max().item()\n",
        "  print(f'{s:15s} | exact: {str(ex):5s} | approximate: {str(app):5s} | maxdiff: {maxdiff}')"
      ]
    },
    {
      "cell_type": "code",
      "execution_count": null,
      "metadata": {
        "id": "ZlFLjQyT8PPu",
        "colab": {
          "base_uri": "https://localhost:8080/"
        },
        "outputId": "96937e49-65a3-4b89-d718-fbd9bddb7520"
      },
      "outputs": [
        {
          "output_type": "stream",
          "name": "stdout",
          "text": [
            "4137\n"
          ]
        }
      ],
      "source": [
        "n_embd = 10 # the dimensionality of the character embedding vectors\n",
        "n_hidden = 64 # the number of neurons in the hidden layer of the MLP\n",
        "\n",
        "g = torch.Generator().manual_seed(2147483647) # for reproducibility\n",
        "C  = torch.randn((vocab_size, n_embd),            generator=g)\n",
        "# Layer 1\n",
        "W1 = torch.randn((n_embd * block_size, n_hidden), generator=g) * (5/3)/((n_embd * block_size)**0.5)\n",
        "b1 = torch.randn(n_hidden,                        generator=g) * 0.1 # using b1 just for fun, it's useless because of BN\n",
        "# Layer 2\n",
        "W2 = torch.randn((n_hidden, vocab_size),          generator=g) * 0.1\n",
        "b2 = torch.randn(vocab_size,                      generator=g) * 0.1\n",
        "# BatchNorm parameters\n",
        "bngain = torch.randn((1, n_hidden))*0.1 + 1.0\n",
        "bnbias = torch.randn((1, n_hidden))*0.1\n",
        "\n",
        "# Note: I am initializating many of these parameters in non-standard ways\n",
        "# because sometimes initializating with e.g. all zeros could mask an incorrect\n",
        "# implementation of the backward pass.\n",
        "\n",
        "parameters = [C, W1, b1, W2, b2, bngain, bnbias]\n",
        "print(sum(p.nelement() for p in parameters)) # number of parameters in total\n",
        "for p in parameters:\n",
        "  p.requires_grad = True"
      ]
    },
    {
      "cell_type": "code",
      "execution_count": null,
      "metadata": {
        "id": "QY-y96Y48PPv"
      },
      "outputs": [],
      "source": [
        "batch_size = 32\n",
        "n = batch_size # a shorter variable also, for convenience\n",
        "# construct a minibatch\n",
        "ix = torch.randint(0, Xtr.shape[0], (batch_size,), generator=g)\n",
        "Xb, Yb = Xtr[ix], Ytr[ix] # batch X,Y"
      ]
    },
    {
      "cell_type": "code",
      "execution_count": null,
      "metadata": {
        "id": "8ofj1s6d8PPv",
        "colab": {
          "base_uri": "https://localhost:8080/"
        },
        "outputId": "b5e5f23a-bcb8-4bc6-b3e1-40793e7e14db"
      },
      "outputs": [
        {
          "output_type": "execute_result",
          "data": {
            "text/plain": [
              "tensor(3.3470, grad_fn=<NegBackward0>)"
            ]
          },
          "metadata": {},
          "execution_count": 9
        }
      ],
      "source": [
        "# forward pass, \"chunkated\" into smaller steps that are possible to backward one at a time\n",
        "\n",
        "emb = C[Xb] # embed the characters into vectors\n",
        "embcat = emb.view(emb.shape[0], -1) # concatenate the vectors\n",
        "# the shape of -1 is inferred from other dimensions\n",
        "\n",
        "# Linear layer 1\n",
        "hprebn = embcat @ W1 + b1 # hidden layer pre-activation\n",
        "# BatchNorm layer\n",
        "bnmeani = 1/n*hprebn.sum(0, keepdim=True)\n",
        "bndiff = hprebn - bnmeani\n",
        "bndiff2 = bndiff**2\n",
        "bnvar = 1/(n-1)*(bndiff2).sum(0, keepdim=True) # note: Bessel's correction (dividing by n-1, not n)\n",
        "bnvar_inv = (bnvar + 1e-5)**-0.5\n",
        "bnraw = bndiff * bnvar_inv\n",
        "hpreact = bngain * bnraw + bnbias\n",
        "# Non-linearity\n",
        "h = torch.tanh(hpreact) # hidden layer\n",
        "# Linear layer 2\n",
        "logits = h @ W2 + b2 # output layer\n",
        "# cross entropy loss (same as F.cross_entropy(logits, Yb))\n",
        "logit_maxes = logits.max(1, keepdim=True).values\n",
        "norm_logits = logits - logit_maxes # subtract max for numerical stability (.exp() won't overflow)\n",
        "counts = norm_logits.exp()\n",
        "counts_sum = counts.sum(1, keepdims=True)\n",
        "counts_sum_inv = counts_sum**-1 # if I use (1.0 / counts_sum) instead then I can't get backprop to be bit exact...\n",
        "probs = counts * counts_sum_inv\n",
        "logprobs = probs.log()\n",
        "loss = -logprobs[range(n), Yb].mean()\n",
        "\n",
        "# PyTorch backward pass\n",
        "for p in parameters:\n",
        "  p.grad = None\n",
        "for t in [logprobs, probs, counts, counts_sum, counts_sum_inv, # afaik there is no cleaner way\n",
        "          norm_logits, logit_maxes, logits, h, hpreact, bnraw,\n",
        "         bnvar_inv, bnvar, bndiff2, bndiff, hprebn, bnmeani,\n",
        "         embcat, emb]:\n",
        "  t.retain_grad()\n",
        "loss.backward()\n",
        "loss"
      ]
    },
    {
      "cell_type": "code",
      "execution_count": null,
      "metadata": {
        "id": "mO-8aqxK8PPw",
        "colab": {
          "base_uri": "https://localhost:8080/"
        },
        "outputId": "9877e750-7fd8-4c8e-f457-e9324cac8280"
      },
      "outputs": [
        {
          "output_type": "stream",
          "name": "stdout",
          "text": [
            "logprobs        | exact: True  | approximate: True  | maxdiff: 0.0\n",
            "probs           | exact: True  | approximate: True  | maxdiff: 0.0\n",
            "counts_sum_inv  | exact: True  | approximate: True  | maxdiff: 0.0\n",
            "counts_sum      | exact: True  | approximate: True  | maxdiff: 0.0\n",
            "counts          | exact: True  | approximate: True  | maxdiff: 0.0\n",
            "norm_logits     | exact: True  | approximate: True  | maxdiff: 0.0\n",
            "logit_maxes     | exact: True  | approximate: True  | maxdiff: 0.0\n",
            "logits          | exact: True  | approximate: True  | maxdiff: 0.0\n",
            "h               | exact: True  | approximate: True  | maxdiff: 0.0\n",
            "W2              | exact: True  | approximate: True  | maxdiff: 0.0\n",
            "b2              | exact: True  | approximate: True  | maxdiff: 0.0\n",
            "hpreact         | exact: False | approximate: True  | maxdiff: 9.313225746154785e-10\n",
            "bngain          | exact: False | approximate: True  | maxdiff: 2.7939677238464355e-09\n",
            "bnbias          | exact: False | approximate: True  | maxdiff: 3.725290298461914e-09\n",
            "bnraw           | exact: False | approximate: True  | maxdiff: 9.313225746154785e-10\n",
            "bnvar_inv       | exact: False | approximate: True  | maxdiff: 3.725290298461914e-09\n",
            "bnvar           | exact: False | approximate: True  | maxdiff: 9.313225746154785e-10\n",
            "bndiff2         | exact: False | approximate: True  | maxdiff: 2.9103830456733704e-11\n",
            "bndiff          | exact: False | approximate: True  | maxdiff: 4.656612873077393e-10\n",
            "bnmeani         | exact: False | approximate: True  | maxdiff: 3.725290298461914e-09\n",
            "hprebn          | exact: False | approximate: True  | maxdiff: 4.656612873077393e-10\n",
            "embcat          | exact: False | approximate: True  | maxdiff: 1.3969838619232178e-09\n",
            "W1              | exact: False | approximate: True  | maxdiff: 5.587935447692871e-09\n",
            "b1              | exact: False | approximate: True  | maxdiff: 3.725290298461914e-09\n",
            "emb             | exact: False | approximate: True  | maxdiff: 1.3969838619232178e-09\n",
            "C               | exact: False | approximate: True  | maxdiff: 5.587935447692871e-09\n"
          ]
        }
      ],
      "source": [
        "from torch._C import TensorType\n",
        "# Exercise 1: backprop through the whole thing manually,\n",
        "# backpropagating through exactly all of the variables\n",
        "# as they are defined in the forward pass above, one by one\n",
        "\n",
        "# -----------------\n",
        "# YOUR CODE HERE :)\n",
        "\n",
        "\n",
        "loss_grad = 1 #base case. dloss/dloss = 1\n",
        "\n",
        "\n",
        "#dlogprobs = derivative of the loss wrt every element in logprobs\n",
        "#Yb = [ 8, 14, ... ,18]\n",
        "#loss = -( logprobs[0,8]+logprobs[1,14]+ ... + logprobs[31,18] ) / n\n",
        "#dloss/dlogprobs[0,8] = -1/n\n",
        "#dloss/dlogprobs[1,14] = -1/n\n",
        "#.\n",
        "#.\n",
        "#.\n",
        "#dloss/dlogprobs[31,18] = -1/n\n",
        "#dloss/dlogprobs[0,2] = 0 ; logprobs[0,2] is not present in the expression of the loss\n",
        "\n",
        "\n",
        "dlogprobs = torch.zeros_like(logprobs) #create array of zeros with the same size as logprobs\n",
        "dlogprobs[range(n), Yb] = -1.0/n #the only non-zero gradients are the ones present in the expression of loss\n",
        "\n",
        "#-----------\n",
        "\n",
        "#dloss/dprobs = (dloss/dlogprobs) * (dlogprobs/dprobs)\n",
        "#logprobs = ln(probs)\n",
        "#dln(x)/dx = 1/x\n",
        "#dlogprobs/dprobs = 1/probs\n",
        "dprobs = dlogprobs/probs #intuitively, the elements with lower probablity (low probs) make dprobs gradient higher. In elements with high probability (probs close to 1), dlogprobs just gets passed.\n",
        "\n",
        "\n",
        "# -----------------\n",
        "\n",
        "#dloss/counts_sum_inv = (dloss/dprobs) * (dprobs/dcounts_sum_inv)\n",
        "#probs = counts * counts_sum_inv (32x27) * (27x1)\n",
        "\n",
        "# c = a * b\n",
        "# a[3x3] * b[3x1]\n",
        "# a11*b1  a12*b1  a13*b1\n",
        "# a21*b2  a22*b2  a23*b2\n",
        "# a31*b3  a32*b3  a33*b3\n",
        "\n",
        "#dc/db = a is the derivative wrt replicated b (an auxiliar b with shape 3x3)\n",
        "#dprobs/dcounts_sum_inv = counts !!!\n",
        "\n",
        "#to backpropagate through the replication, we need to sum all the gradients of the b1 every time it is used (as we did in micrograd; class 0)\n",
        "\n",
        "dcounts_sum_inv = (dprobs * counts).sum(1, keepdims=True) #keepdims so dcounts_sum_inv is [32,1], as counts_sum_inv is\n",
        "\n",
        "# -----------------\n",
        "\n",
        "#dloss/counts = (dprobs/dcounts + dcounts_sum/dcounts)* chainrule\n",
        "#dprobs/dcounts = counts_sum_inv\n",
        "dcounts = counts_sum_inv * dprobs\n",
        "#counts is used twice (for calculating counst_sum_inv and for probs), so we will later have to add its second contribution\n",
        "\n",
        "# -----------------\n",
        "\n",
        "#dloss/dcounts_sum = dcount_sum_inv/dcounts_sum * chainrule\n",
        "#counts_sum_inv = counts_sum**-1\n",
        "#d(1/x)/dx = -1/x**2\n",
        "#dcount_sum_inv/dcounts_sum = -1.0/counts_sum**2\n",
        "dcounts_sum = (-counts_sum**-2) * dcounts_sum_inv\n",
        "\n",
        "# -----------------\n",
        "\n",
        "#dcounts = dcounts + dcounts_sum/dcounts      update counts gradient with its 2nd contribution\n",
        "#counts_sum = (counts[0,0] + counts[0,1] ... + counts[0,26]) x32 elements\n",
        "\n",
        "# a11 a12 a13   --->  b1 (= a11 + a12 + a13)\n",
        "# a21 a22 a23   --->  b2 (= a21 + a22 + a23)\n",
        "# a31 a32 a33   --->  b3 (= a31 + a32 + a33)\n",
        "#db1/(a11,a12,a13) = 1\n",
        "#db1/anything else = 0\n",
        "\n",
        "#derivative of b1 will flow through all the elements of the sum\n",
        "#dloss/a11 = dloss/b1 * db1/da11\n",
        "#          = dloss/b1 * 1\n",
        "\n",
        "#dloss/db1 are the derivatives contained in dcounts_sum (calculated above)\n",
        "#We just take dcounts_sum (size 32) and replicate it 27 times to make this new component of dcounts be of shape equal to counts (32x27)\n",
        "\n",
        "#dcounts_sum/dcounts = torch.ones_like(counts) * dcounts_sum\n",
        "dcounts += torch.ones_like(counts) * dcounts_sum #we add the two branches of counts\n",
        "\n",
        "# -----------------\n",
        "\n",
        "#dloss/dnorm_logits = dcounts/dnorm_logits * chain_rule\n",
        "#counts = norm_logits.exp()\n",
        "#dexp(x)=exp(x)\n",
        "dnorm_logits = counts * dcounts #remember counts=norm_logits.exp()\n",
        "\n",
        "# -----------------\n",
        "\n",
        "#dloss/dlogit_maxes = dnorm_logits/dlogit_maxes * chain_rule\n",
        "\n",
        "# c = a - b\n",
        "# a[3x3] - b[3x1]\n",
        "# a11-b1  a12-b1  a13-b1\n",
        "# a21-b2  a22-b2  a23-b2\n",
        "# a31-b3  a32-b3  a33-b3\n",
        "\n",
        "#norm_logits = logits - logit_maxes\n",
        "#dnorm_logits/dlogit_maxes = -1 wrt replicated b\n",
        "#to backpropagate through the replication, we need to sum all the gradients of the b1 every time it is used\n",
        "\n",
        "dlogit_maxes = (-dnorm_logits).sum(1, keepdims=True)\n",
        "\n",
        "#------------------\n",
        "\n",
        "#dloss/dlogits = dlogit_maxes/dlogits + dnorm_logits/dlogits\n",
        "#dlogit_maxes/dlogits = 1 in the positions of the max for each row, 0 otherwise * chain_rule\n",
        "#                     = F.one_hot(logits.max(1).indices, num_classes=logits.shape[1]) * chain_rule\n",
        "#dnorm_logits/dlogits = 1 * dnorm_logits\n",
        "\n",
        "dlogits = dnorm_logits + F.one_hot(logits.max(1).indices, num_classes=logits.shape[1]) * dlogit_maxes\n",
        "\n",
        "\n",
        "#------------------\n",
        "\n",
        "#Shapes\n",
        "# h       -> [32, 64]\n",
        "# W2      -> [64, 27]\n",
        "# dlogits -> [32, 27]\n",
        "# b2      -> [27]\n",
        "\n",
        "#dloss/dh = dlogits/dh * chain_rule\n",
        "dh = dlogits @ W2.T #there is only one combination of elements such that dh.shape == h.shape\n",
        "dW2 = h.T @ dlogits #there is only one combination of elements such that dW2.shape == W2.shape\n",
        "db2 = dlogits.sum(0)\n",
        "\n",
        "#------------------\n",
        "\n",
        "#dloss/dhpreact = dh/dhpreact * chain_rule\n",
        "\n",
        "# h = torch.tanh(hpreact)\n",
        "# a = tanh(z) = (e^(z)-e^(-z)) / (e^(z)+e^(-z))\n",
        "# da/dz = 1-a**2\n",
        "# dh/dhpreact = (1.0-h**2)\n",
        "dhpreact = (1.0-h**2) * dh\n",
        "\n",
        "#------------------\n",
        "\n",
        "# * symbol is element-wise multiplier\n",
        "#dloss/dbngain = dhpreact/dbgain * chai_rule\n",
        "dbngain = (bnraw * dhpreact).sum(0, keepdims=True)\n",
        "dbnraw = bngain * dhpreact\n",
        "dbnbias = dhpreact.sum(0, keepdims=True)\n",
        "dbndiff = bnvar_inv * dbnraw\n",
        "dbnvar_inv = (bndiff * dbnraw).sum(0, keepdims=True)\n",
        "\n",
        "#------------------\n",
        "\n",
        "#d(x^n)/dx = n*x^(n-1)\n",
        "dbnvar = (-0.5*(bnvar + 1e-5)**-1.5)*dbnvar_inv\n",
        "dbndiff2 = (1.0/(n-1))*torch.ones_like(bndiff2) * dbnvar #the broadcasting is doing the replication\n",
        "dbndiff += (2.0*bndiff) * dbndiff2\n",
        "dhprebn = dbndiff.clone()\n",
        "dbnmeani = (-dbndiff).sum(0)\n",
        "dhprebn += (1.0/(n))*torch.ones_like(hprebn) * dbnmeani\n",
        "\n",
        "#------------------\n",
        "\n",
        "#Shapes\n",
        "# hprebn  -> [32, 64]\n",
        "# W1      -> [30, 64]\n",
        "# embcat  -> [32, 30]\n",
        "# b1      -> [64]\n",
        "dembcat = dhprebn @ W1.T\n",
        "dW1 = embcat.T @ dhprebn\n",
        "db1 = dhprebn.sum(0)\n",
        "\n",
        "#------------------\n",
        "\n",
        "#Shapes\n",
        "# embcat  -> [32, 30]\n",
        "# emb     -> [32, 3, 10]\n",
        "# forward pass --> embcat = emb.view(emb.shape[0], -1) # concatenate the vectors\n",
        "demb = dembcat.view(emb.shape) #just reinterpret the way we view the shape, as we did in forward pass\n",
        "\n",
        "#------------------\n",
        "\n",
        "#Shapes\n",
        "# emb  -> [32, 3, 10] 32 examples, 3 characters, each one has a 10-dimensional embedding\n",
        "# C    -> [27, 10]\n",
        "\n",
        "dC = torch.zeros_like(C)\n",
        "for k in range(Xb.shape[0]):\n",
        "  for j in range (Xb.shape[1]):\n",
        "    ix = Xb[k,j] #forward pass: take row of C at ix and deposited it into emb[k,j]\n",
        "    dC[ix] += demb[k,j] #re-route the derivatives contained in demb\n",
        "\n",
        "\n",
        "# -----------------\n",
        "\n",
        "cmp('logprobs', dlogprobs, logprobs)\n",
        "cmp('probs', dprobs, probs)\n",
        "cmp('counts_sum_inv', dcounts_sum_inv, counts_sum_inv)\n",
        "cmp('counts_sum', dcounts_sum, counts_sum)\n",
        "cmp('counts', dcounts, counts)\n",
        "cmp('norm_logits', dnorm_logits, norm_logits)\n",
        "cmp('logit_maxes', dlogit_maxes, logit_maxes)\n",
        "cmp('logits', dlogits, logits)\n",
        "cmp('h', dh, h)\n",
        "cmp('W2', dW2, W2)\n",
        "cmp('b2', db2, b2)\n",
        "cmp('hpreact', dhpreact, hpreact)\n",
        "cmp('bngain', dbngain, bngain)\n",
        "cmp('bnbias', dbnbias, bnbias)\n",
        "cmp('bnraw', dbnraw, bnraw)\n",
        "cmp('bnvar_inv', dbnvar_inv, bnvar_inv)\n",
        "cmp('bnvar', dbnvar, bnvar)\n",
        "cmp('bndiff2', dbndiff2, bndiff2)\n",
        "cmp('bndiff', dbndiff, bndiff)\n",
        "cmp('bnmeani', dbnmeani, bnmeani)\n",
        "cmp('hprebn', dhprebn, hprebn)\n",
        "cmp('embcat', dembcat, embcat)\n",
        "cmp('W1', dW1, W1)\n",
        "cmp('b1', db1, b1)\n",
        "cmp('emb', demb, emb)\n",
        "cmp('C', dC, C)"
      ]
    },
    {
      "cell_type": "code",
      "execution_count": null,
      "metadata": {
        "id": "ebLtYji_8PPw",
        "colab": {
          "base_uri": "https://localhost:8080/"
        },
        "outputId": "ca4ce563-5b27-4710-ff83-712243da2877"
      },
      "outputs": [
        {
          "output_type": "stream",
          "name": "stdout",
          "text": [
            "3.3469903469085693 diff: 0.0\n"
          ]
        }
      ],
      "source": [
        "# Exercise 2: backprop through cross_entropy but all in one go\n",
        "# to complete this challenge look at the mathematical expression of the loss,\n",
        "# take the derivative, simplify the expression, and just write it out\n",
        "\n",
        "# forward pass\n",
        "\n",
        "# before:\n",
        "# logit_maxes = logits.max(1, keepdim=True).values\n",
        "# norm_logits = logits - logit_maxes # subtract max for numerical stability\n",
        "# counts = norm_logits.exp()\n",
        "# counts_sum = counts.sum(1, keepdims=True)\n",
        "# counts_sum_inv = counts_sum**-1 # if I use (1.0 / counts_sum) instead then I can't get backprop to be bit exact...\n",
        "# probs = counts * counts_sum_inv\n",
        "# logprobs = probs.log()\n",
        "# loss = -logprobs[range(n), Yb].mean()\n",
        "\n",
        "# now:\n",
        "loss_fast = F.cross_entropy(logits, Yb)\n",
        "print(loss_fast.item(), 'diff:', (loss_fast - loss).item())"
      ]
    },
    {
      "cell_type": "code",
      "execution_count": null,
      "metadata": {
        "id": "-gCXbB4C8PPx",
        "colab": {
          "base_uri": "https://localhost:8080/"
        },
        "outputId": "a056e425-33fb-4154-ee09-7632da972659"
      },
      "outputs": [
        {
          "output_type": "stream",
          "name": "stdout",
          "text": [
            "logits          | exact: False | approximate: True  | maxdiff: 7.683411240577698e-09\n"
          ]
        }
      ],
      "source": [
        "# backward pass\n",
        "\n",
        "# -----------------\n",
        "# YOUR CODE HERE :)\n",
        "\n",
        "#dlogits as a function of logits and Yb\n",
        "\n",
        "#dloss/dlogits =\n",
        "dlogits = F.softmax(logits, 1)\n",
        "dlogits[range(n), Yb] -= 1 #subtract 1 on the correct label\n",
        "dlogits /= n #backpropagate thorugh the divison for the average. Gradient scale down by n\n",
        "\n",
        "# -----------------\n",
        "\n",
        "cmp('logits', dlogits, logits) # I can only get approximate to be true, my maxdiff is 6e-9"
      ]
    },
    {
      "cell_type": "markdown",
      "source": [
        "Visualize dlogits:"
      ],
      "metadata": {
        "id": "mkoKMt4pZyOb"
      }
    },
    {
      "cell_type": "code",
      "source": [
        "plt.figure(figsize=(8,8))\n",
        "plt.imshow(dlogits.detach(), cmap='gray')"
      ],
      "metadata": {
        "colab": {
          "base_uri": "https://localhost:8080/",
          "height": 693
        },
        "id": "sjeRL_EpZwzt",
        "outputId": "66b01853-0fc5-44b4-8914-dc1c1f0397c3"
      },
      "execution_count": null,
      "outputs": [
        {
          "output_type": "execute_result",
          "data": {
            "text/plain": [
              "<matplotlib.image.AxesImage at 0x7cba15082170>"
            ]
          },
          "metadata": {},
          "execution_count": 13
        },
        {
          "output_type": "display_data",
          "data": {
            "text/plain": [
              "<Figure size 800x800 with 1 Axes>"
            ],
            "image/png": "[encoded data removed]"
          },
          "metadata": {}
        }
      ]
    },
    {
      "cell_type": "markdown",
      "source": [
        "Observe only first row:\n"
      ],
      "metadata": {
        "id": "m6_OxjiBaOFL"
      }
    },
    {
      "cell_type": "code",
      "source": [
        "print(F.softmax(logits, 1)[0])\n",
        "print(dlogits[0])"
      ],
      "metadata": {
        "id": "6PvMhEtCaRdD",
        "colab": {
          "base_uri": "https://localhost:8080/"
        },
        "outputId": "dba42f8d-3a38-4bf8-fd2c-22534a6083e8"
      },
      "execution_count": null,
      "outputs": [
        {
          "output_type": "stream",
          "name": "stdout",
          "text": [
            "tensor([0.0748, 0.0896, 0.0189, 0.0476, 0.0214, 0.0785, 0.0224, 0.0375, 0.0184,\n",
            "        0.0320, 0.0353, 0.0364, 0.0359, 0.0298, 0.0339, 0.0147, 0.0095, 0.0187,\n",
            "        0.0165, 0.0560, 0.0464, 0.0214, 0.0253, 0.0705, 0.0612, 0.0274, 0.0199],\n",
            "       grad_fn=<SelectBackward0>)\n",
            "tensor([ 0.0023,  0.0028,  0.0006,  0.0015,  0.0007,  0.0025,  0.0007,  0.0012,\n",
            "        -0.0307,  0.0010,  0.0011,  0.0011,  0.0011,  0.0009,  0.0011,  0.0005,\n",
            "         0.0003,  0.0006,  0.0005,  0.0018,  0.0015,  0.0007,  0.0008,  0.0022,\n",
            "         0.0019,  0.0009,  0.0006], grad_fn=<SelectBackward0>)\n"
          ]
        }
      ]
    },
    {
      "cell_type": "markdown",
      "source": [
        "The amount to which you mispredict is proportional to the strength of the \"pull\" produced by the gradient in that dimension. A completely correct prediction (prob=1 in the correct position and the rest of prob=0) will have all its gradients at 0. dlogits will be a rows of 0s for that example.\n",
        "\n",
        "A confident misprediction is going to be pulled down heavily.\n",
        "\n",
        "\n",
        "---------------"
      ],
      "metadata": {
        "id": "xrEM-LAWcQFE"
      }
    },
    {
      "cell_type": "markdown",
      "source": [
        "Exercise 3"
      ],
      "metadata": {
        "id": "cKPR5WCKdhcZ"
      }
    },
    {
      "cell_type": "markdown",
      "source": [
        "![Captura de pantalla 2023-11-06 a las 12.48.31.png](data:image/png;base64,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)"
      ],
      "metadata": {
        "id": "oSuGRwQmdkzw"
      }
    },
    {
      "cell_type": "code",
      "execution_count": null,
      "metadata": {
        "id": "hd-MkhB68PPy",
        "colab": {
          "base_uri": "https://localhost:8080/"
        },
        "outputId": "7eeb7ae9-ce03-42d1-c1d9-426f0c8dee44"
      },
      "outputs": [
        {
          "output_type": "stream",
          "name": "stdout",
          "text": [
            "max diff: tensor(4.7684e-07, grad_fn=<MaxBackward1>)\n"
          ]
        }
      ],
      "source": [
        "# Exercise 3: backprop through batchnorm but all in one go\n",
        "# to complete this challenge look at the mathematical expression of the output of batchnorm,\n",
        "# take the derivative w.r.t. its input, simplify the expression, and just write it out\n",
        "# BatchNorm paper: https://arxiv.org/abs/1502.03167\n",
        "\n",
        "# forward pass\n",
        "\n",
        "# before:\n",
        "# bnmeani = 1/n*hprebn.sum(0, keepdim=True)\n",
        "# bndiff = hprebn - bnmeani\n",
        "# bndiff2 = bndiff**2\n",
        "# bnvar = 1/(n-1)*(bndiff2).sum(0, keepdim=True) # note: Bessel's correction (dividing by n-1, not n)\n",
        "# bnvar_inv = (bnvar + 1e-5)**-0.5\n",
        "# bnraw = bndiff * bnvar_inv\n",
        "# hpreact = bngain * bnraw + bnbias\n",
        "\n",
        "# now:\n",
        "hpreact_fast = bngain * (hprebn - hprebn.mean(0, keepdim=True)) / torch.sqrt(hprebn.var(0, keepdim=True, unbiased=True) + 1e-5) + bnbias\n",
        "print('max diff:', (hpreact_fast - hpreact).abs().max())"
      ]
    },
    {
      "cell_type": "code",
      "execution_count": null,
      "metadata": {
        "id": "POdeZSKT8PPy",
        "colab": {
          "base_uri": "https://localhost:8080/"
        },
        "outputId": "6b8ec492-6d34-4a5e-9bab-1cc14ddd51a5"
      },
      "outputs": [
        {
          "output_type": "stream",
          "name": "stdout",
          "text": [
            "hprebn          | exact: False | approximate: True  | maxdiff: 9.313225746154785e-10\n"
          ]
        }
      ],
      "source": [
        "# backward pass\n",
        "\n",
        "# before we had:\n",
        "# dbnraw = bngain * dhpreact\n",
        "# dbndiff = bnvar_inv * dbnraw\n",
        "# dbnvar_inv = (bndiff * dbnraw).sum(0, keepdim=True)\n",
        "# dbnvar = (-0.5*(bnvar + 1e-5)**-1.5) * dbnvar_inv\n",
        "# dbndiff2 = (1.0/(n-1))*torch.ones_like(bndiff2) * dbnvar\n",
        "# dbndiff += (2*bndiff) * dbndiff2\n",
        "# dhprebn = dbndiff.clone()\n",
        "# dbnmeani = (-dbndiff).sum(0)\n",
        "# dhprebn += 1.0/n * (torch.ones_like(hprebn) * dbnmeani)\n",
        "\n",
        "# calculate dhprebn given dhpreact (i.e. backprop through the batchnorm)\n",
        "# (you'll also need to use some of the variables from the forward pass up above)\n",
        "\n",
        "# -----------------\n",
        "# YOUR CODE HERE :)\n",
        "dhprebn = bngain*bnvar_inv/n * (n*dhpreact - dhpreact.sum(0) - n/(n-1)*bnraw*(dhpreact*bnraw).sum(0))\n",
        "# -----------------\n",
        "\n",
        "cmp('hprebn', dhprebn, hprebn) # I can only get approximate to be true, my maxdiff is 9e-10"
      ]
    },
    {
      "cell_type": "code",
      "execution_count": null,
      "metadata": {
        "id": "wPy8DhqB8PPz"
      },
      "outputs": [],
      "source": [
        "# Exercise 4: putting it all together!\n",
        "# Train the MLP neural net with your own backward pass\n",
        "\n",
        "# init\n",
        "n_embd = 10 # the dimensionality of the character embedding vectors\n",
        "n_hidden = 200 # the number of neurons in the hidden layer of the MLP\n",
        "\n",
        "g = torch.Generator().manual_seed(2147483647) # for reproducibility\n",
        "C  = torch.randn((vocab_size, n_embd),            generator=g)\n",
        "# Layer 1\n",
        "W1 = torch.randn((n_embd * block_size, n_hidden), generator=g) * (5/3)/((n_embd * block_size)**0.5)\n",
        "b1 = torch.randn(n_hidden,                        generator=g) * 0.1\n",
        "# Layer 2\n",
        "W2 = torch.randn((n_hidden, vocab_size),          generator=g) * 0.1\n",
        "b2 = torch.randn(vocab_size,                      generator=g) * 0.1\n",
        "# BatchNorm parameters\n",
        "bngain = torch.randn((1, n_hidden))*0.1 + 1.0\n",
        "bnbias = torch.randn((1, n_hidden))*0.1\n",
        "\n",
        "parameters = [C, W1, b1, W2, b2, bngain, bnbias]\n",
        "print(sum(p.nelement() for p in parameters)) # number of parameters in total\n",
        "for p in parameters:\n",
        "  p.requires_grad = True\n",
        "\n",
        "# same optimization as last time\n",
        "max_steps = 200000\n",
        "batch_size = 32\n",
        "n = batch_size # convenience\n",
        "lossi = []\n",
        "\n",
        "# use this context manager for efficiency once your backward pass is written (TODO)\n",
        "#with torch.no_grad():\n",
        "\n",
        "# kick off optimization\n",
        "for i in range(max_steps):\n",
        "\n",
        "  # minibatch construct\n",
        "  ix = torch.randint(0, Xtr.shape[0], (batch_size,), generator=g)\n",
        "  Xb, Yb = Xtr[ix], Ytr[ix] # batch X,Y\n",
        "\n",
        "  # forward pass\n",
        "  emb = C[Xb] # embed the characters into vectors\n",
        "  embcat = emb.view(emb.shape[0], -1) # concatenate the vectors\n",
        "  # Linear layer\n",
        "  hprebn = embcat @ W1 + b1 # hidden layer pre-activation\n",
        "  # BatchNorm layer\n",
        "  # -------------------------------------------------------------\n",
        "  bnmean = hprebn.mean(0, keepdim=True)\n",
        "  bnvar = hprebn.var(0, keepdim=True, unbiased=True)\n",
        "  bnvar_inv = (bnvar + 1e-5)**-0.5\n",
        "  bnraw = (hprebn - bnmean) * bnvar_inv\n",
        "  hpreact = bngain * bnraw + bnbias\n",
        "  # -------------------------------------------------------------\n",
        "  # Non-linearity\n",
        "  h = torch.tanh(hpreact) # hidden layer\n",
        "  logits = h @ W2 + b2 # output layer\n",
        "  loss = F.cross_entropy(logits, Yb) # loss function\n",
        "\n",
        "  # backward pass\n",
        "  for p in parameters:\n",
        "    p.grad = None\n",
        "  #loss.backward() # use this for correctness comparisons, delete it later!\n",
        "\n",
        "  # manual backprop! #swole_doge_meme\n",
        "  # -----------------\n",
        "  dlogits = F.softmax(logits, 1)\n",
        "  dlogits[range(n), Yb] -= 1\n",
        "  dlogits /= n\n",
        "  # 2nd layer backprop\n",
        "  dh = dlogits @ W2.T\n",
        "  dW2 = h.T @ dlogits\n",
        "  db2 = dlogits.sum(0)\n",
        "  # tanh\n",
        "  dhpreact = (1.0 - h**2) * dh\n",
        "  # batchnorm backprop\n",
        "  dbngain = (bnraw * dhpreact).sum(0, keepdim=True)\n",
        "  dbnbias = dhpreact.sum(0, keepdim=True)\n",
        "  dhprebn = bngain*bnvar_inv/n * (n*dhpreact - dhpreact.sum(0) - n/(n-1)*bnraw*(dhpreact*bnraw).sum(0))\n",
        "  # 1st layer\n",
        "  dembcat = dhprebn @ W1.T\n",
        "  dW1 = embcat.T @ dhprebn\n",
        "  db1 = dhprebn.sum(0)\n",
        "  # embedding\n",
        "  demb = dembcat.view(emb.shape)\n",
        "  dC = torch.zeros_like(C)\n",
        "  for k in range(Xb.shape[0]):\n",
        "    for j in range(Xb.shape[1]):\n",
        "      ix = Xb[k,j]\n",
        "      dC[ix] += demb[k,j]\n",
        "  grads = [dC, dW1, db1, dW2, db2, dbngain, dbnbias]\n",
        "  # -----------------\n",
        "\n",
        "  # update\n",
        "  lr = 0.1 if i < 100000 else 0.01 # step learning rate decay\n",
        "  for p, grad in zip(parameters, grads):\n",
        "    #p.data += -lr * p.grad # old way of cheems doge (using PyTorch grad from .backward())\n",
        "    p.data += -lr * grad # new way of swole doge TODO: enable\n",
        "\n",
        "  # track stats\n",
        "  if i % 10000 == 0: # print every once in a while\n",
        "    print(f'{i:7d}/{max_steps:7d}: {loss.item():.4f}')\n",
        "  lossi.append(loss.log10().item())\n",
        "\n",
        "  if i >= 100: # TODO: delete early breaking when you're ready to train the full net\n",
        "    break"
      ]
    },
    {
      "cell_type": "code",
      "execution_count": null,
      "metadata": {
        "id": "ZEpI0hMW8PPz"
      },
      "outputs": [],
      "source": [
        "# useful for checking your gradients\n",
        "for p,g in zip(parameters, grads):\n",
        "  cmp(str(tuple(p.shape)), g, p)"
      ]
    },
    {
      "cell_type": "code",
      "execution_count": null,
      "metadata": {
        "id": "KImLWNoh8PP0"
      },
      "outputs": [],
      "source": [
        "# calibrate the batch norm at the end of training\n",
        "\n",
        "with torch.no_grad():\n",
        "  # pass the training set through\n",
        "  emb = C[Xtr]\n",
        "  embcat = emb.view(emb.shape[0], -1)\n",
        "  hpreact = embcat @ W1 + b1\n",
        "  # measure the mean/std over the entire training set\n",
        "  bnmean = hpreact.mean(0, keepdim=True)\n",
        "  bnvar = hpreact.var(0, keepdim=True, unbiased=True)\n"
      ]
    },
    {
      "cell_type": "code",
      "execution_count": null,
      "metadata": {
        "id": "6aFnP_Zc8PP0"
      },
      "outputs": [],
      "source": [
        "# evaluate train and val loss\n",
        "\n",
        "@torch.no_grad() # this decorator disables gradient tracking\n",
        "def split_loss(split):\n",
        "  x,y = {\n",
        "    'train': (Xtr, Ytr),\n",
        "    'val': (Xdev, Ydev),\n",
        "    'test': (Xte, Yte),\n",
        "  }[split]\n",
        "  emb = C[x] # (N, block_size, n_embd)\n",
        "  embcat = emb.view(emb.shape[0], -1) # concat into (N, block_size * n_embd)\n",
        "  hpreact = embcat @ W1 + b1\n",
        "  hpreact = bngain * (hpreact - bnmean) * (bnvar + 1e-5)**-0.5 + bnbias\n",
        "  h = torch.tanh(hpreact) # (N, n_hidden)\n",
        "  logits = h @ W2 + b2 # (N, vocab_size)\n",
        "  loss = F.cross_entropy(logits, y)\n",
        "  print(split, loss.item())\n",
        "\n",
        "split_loss('train')\n",
        "split_loss('val')"
      ]
    },
    {
      "cell_type": "code",
      "execution_count": null,
      "metadata": {
        "id": "esWqmhyj8PP1"
      },
      "outputs": [],
      "source": [
        "# I achieved:\n",
        "# train 2.0718822479248047\n",
        "# val 2.1162495613098145"
      ]
    },
    {
      "cell_type": "code",
      "execution_count": null,
      "metadata": {
        "id": "xHeQNv3s8PP1"
      },
      "outputs": [],
      "source": [
        "# sample from the model\n",
        "g = torch.Generator().manual_seed(2147483647 + 10)\n",
        "\n",
        "for _ in range(20):\n",
        "\n",
        "    out = []\n",
        "    context = [0] * block_size # initialize with all ...\n",
        "    while True:\n",
        "      # forward pass\n",
        "      emb = C[torch.tensor([context])] # (1,block_size,d)\n",
        "      embcat = emb.view(emb.shape[0], -1) # concat into (N, block_size * n_embd)\n",
        "      hpreact = embcat @ W1 + b1\n",
        "      hpreact = bngain * (hpreact - bnmean) * (bnvar + 1e-5)**-0.5 + bnbias\n",
        "      h = torch.tanh(hpreact) # (N, n_hidden)\n",
        "      logits = h @ W2 + b2 # (N, vocab_size)\n",
        "      # sample\n",
        "      probs = F.softmax(logits, dim=1)\n",
        "      ix = torch.multinomial(probs, num_samples=1, generator=g).item()\n",
        "      context = context[1:] + [ix]\n",
        "      out.append(ix)\n",
        "      if ix == 0:\n",
        "        break\n",
        "\n",
        "    print(''.join(itos[i] for i in out))"
      ]
    }
  ],
  "metadata": {
    "kernelspec": {
      "display_name": "Python 3",
      "language": "python",
      "name": "python3"
    },
    "language_info": {
      "codemirror_mode": {
        "name": "ipython",
        "version": 3
      },
      "file_extension": ".py",
      "mimetype": "text/x-python",
      "name": "python",
      "nbconvert_exporter": "python",
      "pygments_lexer": "ipython3",
      "version": "3.8.5"
    },
    "colab": {
      "provenance": []
    }
  },
  "nbformat": 4,
  "nbformat_minor": 0
}