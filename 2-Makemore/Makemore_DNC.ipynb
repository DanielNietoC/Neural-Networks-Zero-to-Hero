{
  "nbformat": 4,
  "nbformat_minor": 0,
  "metadata": {
    "colab": {
      "provenance": [],
      "collapsed_sections": [
        "UUqH2Mdd_4HX",
        "MQt1Vrb4_q8E",
        "jV8LUVqjNJVt",
        "qtbKtUWjpInb",
        "CBQjWJTL5i7z",
        "MrfqjYfR5mFO",
        "47nGDeMs8APy",
        "M2QrqHx2h434",
        "FKNyWV5Sh9Iq",
        "vcsN1h0zDU_N",
        "Rkdf8Byn8DWa",
        "OjpGikwN5OoM",
        "r1mlJ8945ZDf",
        "6ZGgEMHB8G40",
        "CCVfV6-W8IaJ",
        "Cw1K82dW8KQm"
      ]
    },
    "kernelspec": {
      "name": "python3",
      "display_name": "Python 3"
    },
    "language_info": {
      "name": "python"
    }
  },
  "cells": [
    {
      "cell_type": "markdown",
      "source": [
        "#Makemore Class"
      ],
      "metadata": {
        "id": "Ftkel_MM8gdI"
      }
    },
    {
      "cell_type": "markdown",
      "source": [
        "Makemore is a character-level language model. Treats every single line as an example, and within eaxh example is treating them all as sequences of individual characters. The model knows how to predict the next character in the sequence."
      ],
      "metadata": {
        "id": "w9Hz906J9BVv"
      }
    },
    {
      "cell_type": "markdown",
      "source": [
        "###Exploring dataset"
      ],
      "metadata": {
        "id": "UUqH2Mdd_4HX"
      }
    },
    {
      "cell_type": "code",
      "source": [
        "!wget https://raw.githubusercontent.com/karpathy/makemore/master/names.txt\n",
        "\n",
        "words = open('names.txt', 'r').read().splitlines() #splitlines: get data as a Python list of strings"
      ],
      "metadata": {
        "id": "1L1cL8jU8mjV",
        "colab": {
          "base_uri": "https://localhost:8080/"
        },
        "outputId": "d3fd0032-f710-4871-c4c8-e4d436da8792"
      },
      "execution_count": 1,
      "outputs": [
        {
          "output_type": "stream",
          "name": "stdout",
          "text": [
            "--2023-10-16 06:59:25--  https://raw.githubusercontent.com/karpathy/makemore/master/names.txt\n",
            "Resolving raw.githubusercontent.com (raw.githubusercontent.com)... 185.199.109.133, 185.199.108.133, 185.199.110.133, ...\n",
            "Connecting to raw.githubusercontent.com (raw.githubusercontent.com)|185.199.109.133|:443... connected.\n",
            "HTTP request sent, awaiting response... 200 OK\n",
            "Length: 228145 (223K) [text/plain]\n",
            "Saving to: ‘names.txt’\n",
            "\n",
            "\rnames.txt             0%[                    ]       0  --.-KB/s               \rnames.txt           100%[===================>] 222.80K  --.-KB/s    in 0.05s   \n",
            "\n",
            "2023-10-16 06:59:25 (4.66 MB/s) - ‘names.txt’ saved [228145/228145]\n",
            "\n"
          ]
        }
      ]
    },
    {
      "cell_type": "code",
      "source": [
        "words[:10]"
      ],
      "metadata": {
        "colab": {
          "base_uri": "https://localhost:8080/"
        },
        "id": "OCa7tUQb-pqY",
        "outputId": "675c6497-2317-4b90-f5c8-7c3806f9a044"
      },
      "execution_count": null,
      "outputs": [
        {
          "output_type": "execute_result",
          "data": {
            "text/plain": [
              "['emma',\n",
              " 'olivia',\n",
              " 'ava',\n",
              " 'isabella',\n",
              " 'sophia',\n",
              " 'charlotte',\n",
              " 'mia',\n",
              " 'amelia',\n",
              " 'harper',\n",
              " 'evelyn']"
            ]
          },
          "metadata": {},
          "execution_count": 2
        }
      ]
    },
    {
      "cell_type": "code",
      "source": [
        "print ('#Words: ',len(words))\n",
        "print ('Shortest word: ', min(len(w) for w in words))\n",
        "print ('Longest word: ', max(len(w) for w in words))"
      ],
      "metadata": {
        "colab": {
          "base_uri": "https://localhost:8080/"
        },
        "id": "AZjIkgcu-9l_",
        "outputId": "3eed2f6f-e531-45aa-c09f-4a2dc9eb10fa"
      },
      "execution_count": null,
      "outputs": [
        {
          "output_type": "stream",
          "name": "stdout",
          "text": [
            "#Words:  32033\n",
            "Shortest word:  2\n",
            "Longest word:  15\n"
          ]
        }
      ]
    },
    {
      "cell_type": "markdown",
      "source": [
        "###Bigram Language model: Two characters at a time"
      ],
      "metadata": {
        "id": "MQt1Vrb4_q8E"
      }
    },
    {
      "cell_type": "code",
      "source": [
        "b = {} #dictionary to count how often a pair of bigram appears\n",
        "for w in words[:3]:\n",
        "  chs = ['<S>'] + list(w) + ['<E>'] #Special Start and End elements\n",
        "  for ch1, ch2 in zip(chs, chs[1:]): #zip takes two iterators, pairs them up and returns an iterator over the tuples of their consecutive entries\n",
        "    bigram = (ch1, ch2) #tuple\n",
        "    b[bigram] = b.get(bigram, 0) + 1  #dictionary.get(keyname, value)\n",
        "                                      #by default 0; +1 to count\n",
        "    print(ch1, ch2)"
      ],
      "metadata": {
        "colab": {
          "base_uri": "https://localhost:8080/"
        },
        "id": "BRNDn_JG_vh9",
        "outputId": "6fee4eb5-8854-4f48-9eab-821f6fdbd26a"
      },
      "execution_count": null,
      "outputs": [
        {
          "output_type": "stream",
          "name": "stdout",
          "text": [
            "<S> e\n",
            "e m\n",
            "m m\n",
            "m a\n",
            "a <E>\n",
            "<S> o\n",
            "o l\n",
            "l i\n",
            "i v\n",
            "v i\n",
            "i a\n",
            "a <E>\n",
            "<S> a\n",
            "a v\n",
            "v a\n",
            "a <E>\n"
          ]
        }
      ]
    },
    {
      "cell_type": "code",
      "source": [
        "b"
      ],
      "metadata": {
        "colab": {
          "base_uri": "https://localhost:8080/"
        },
        "id": "jsve5DA6CRTK",
        "outputId": "452e30a4-d353-4c17-8b7d-e891e9525c8c"
      },
      "execution_count": null,
      "outputs": [
        {
          "output_type": "execute_result",
          "data": {
            "text/plain": [
              "{('<S>', 'e'): 1,\n",
              " ('e', 'm'): 1,\n",
              " ('m', 'm'): 1,\n",
              " ('m', 'a'): 1,\n",
              " ('a', '<E>'): 3,\n",
              " ('<S>', 'o'): 1,\n",
              " ('o', 'l'): 1,\n",
              " ('l', 'i'): 1,\n",
              " ('i', 'v'): 1,\n",
              " ('v', 'i'): 1,\n",
              " ('i', 'a'): 1,\n",
              " ('<S>', 'a'): 1,\n",
              " ('a', 'v'): 1,\n",
              " ('v', 'a'): 1}"
            ]
          },
          "metadata": {},
          "execution_count": 5
        }
      ]
    },
    {
      "cell_type": "markdown",
      "source": [
        "Do it for all the words"
      ],
      "metadata": {
        "id": "ssTIyv7gCvjV"
      }
    },
    {
      "cell_type": "code",
      "source": [
        "b = {} #dictionary[pair of bigrams, count] (key,value)\n",
        "for w in words:\n",
        "  chs = ['<S>'] + list(w) + ['<E>'] #Special Start and End elements\n",
        "  for ch1, ch2 in zip(chs, chs[1:]): #zip takes two iterators, pairs them up and returns an iterator over the tuples of their consecutive entries\n",
        "    bigram = (ch1, ch2) #tuple\n",
        "    b[bigram] = b.get(bigram, 0) + 1  #dictionary.get(keyname, value)\n",
        "                                      #by default 0; +1 to count"
      ],
      "metadata": {
        "id": "XQTEzzHKCxSd"
      },
      "execution_count": null,
      "outputs": []
    },
    {
      "cell_type": "code",
      "source": [
        "sorted(b.items(), key = lambda kv: -kv[1]) #take kv (key value not at [0] –key– but at [1] –value–)"
      ],
      "metadata": {
        "colab": {
          "base_uri": "https://localhost:8080/"
        },
        "id": "bwX5eRyLC4kj",
        "outputId": "65b805dc-cfc5-4630-8e04-e92a1dea6cf5"
      },
      "execution_count": null,
      "outputs": [
        {
          "output_type": "execute_result",
          "data": {
            "text/plain": [
              "[(('n', '<E>'), 6763),\n",
              " (('a', '<E>'), 6640),\n",
              " (('a', 'n'), 5438),\n",
              " (('<S>', 'a'), 4410),\n",
              " (('e', '<E>'), 3983),\n",
              " (('a', 'r'), 3264),\n",
              " (('e', 'l'), 3248),\n",
              " (('r', 'i'), 3033),\n",
              " (('n', 'a'), 2977),\n",
              " (('<S>', 'k'), 2963),\n",
              " (('l', 'e'), 2921),\n",
              " (('e', 'n'), 2675),\n",
              " (('l', 'a'), 2623),\n",
              " (('m', 'a'), 2590),\n",
              " (('<S>', 'm'), 2538),\n",
              " (('a', 'l'), 2528),\n",
              " (('i', '<E>'), 2489),\n",
              " (('l', 'i'), 2480),\n",
              " (('i', 'a'), 2445),\n",
              " (('<S>', 'j'), 2422),\n",
              " (('o', 'n'), 2411),\n",
              " (('h', '<E>'), 2409),\n",
              " (('r', 'a'), 2356),\n",
              " (('a', 'h'), 2332),\n",
              " (('h', 'a'), 2244),\n",
              " (('y', 'a'), 2143),\n",
              " (('i', 'n'), 2126),\n",
              " (('<S>', 's'), 2055),\n",
              " (('a', 'y'), 2050),\n",
              " (('y', '<E>'), 2007),\n",
              " (('e', 'r'), 1958),\n",
              " (('n', 'n'), 1906),\n",
              " (('y', 'n'), 1826),\n",
              " (('k', 'a'), 1731),\n",
              " (('n', 'i'), 1725),\n",
              " (('r', 'e'), 1697),\n",
              " (('<S>', 'd'), 1690),\n",
              " (('i', 'e'), 1653),\n",
              " (('a', 'i'), 1650),\n",
              " (('<S>', 'r'), 1639),\n",
              " (('a', 'm'), 1634),\n",
              " (('l', 'y'), 1588),\n",
              " (('<S>', 'l'), 1572),\n",
              " (('<S>', 'c'), 1542),\n",
              " (('<S>', 'e'), 1531),\n",
              " (('j', 'a'), 1473),\n",
              " (('r', '<E>'), 1377),\n",
              " (('n', 'e'), 1359),\n",
              " (('l', 'l'), 1345),\n",
              " (('i', 'l'), 1345),\n",
              " (('i', 's'), 1316),\n",
              " (('l', '<E>'), 1314),\n",
              " (('<S>', 't'), 1308),\n",
              " (('<S>', 'b'), 1306),\n",
              " (('d', 'a'), 1303),\n",
              " (('s', 'h'), 1285),\n",
              " (('d', 'e'), 1283),\n",
              " (('e', 'e'), 1271),\n",
              " (('m', 'i'), 1256),\n",
              " (('s', 'a'), 1201),\n",
              " (('s', '<E>'), 1169),\n",
              " (('<S>', 'n'), 1146),\n",
              " (('a', 's'), 1118),\n",
              " (('y', 'l'), 1104),\n",
              " (('e', 'y'), 1070),\n",
              " (('o', 'r'), 1059),\n",
              " (('a', 'd'), 1042),\n",
              " (('t', 'a'), 1027),\n",
              " (('<S>', 'z'), 929),\n",
              " (('v', 'i'), 911),\n",
              " (('k', 'e'), 895),\n",
              " (('s', 'e'), 884),\n",
              " (('<S>', 'h'), 874),\n",
              " (('r', 'o'), 869),\n",
              " (('e', 's'), 861),\n",
              " (('z', 'a'), 860),\n",
              " (('o', '<E>'), 855),\n",
              " (('i', 'r'), 849),\n",
              " (('b', 'r'), 842),\n",
              " (('a', 'v'), 834),\n",
              " (('m', 'e'), 818),\n",
              " (('e', 'i'), 818),\n",
              " (('c', 'a'), 815),\n",
              " (('i', 'y'), 779),\n",
              " (('r', 'y'), 773),\n",
              " (('e', 'm'), 769),\n",
              " (('s', 't'), 765),\n",
              " (('h', 'i'), 729),\n",
              " (('t', 'e'), 716),\n",
              " (('n', 'd'), 704),\n",
              " (('l', 'o'), 692),\n",
              " (('a', 'e'), 692),\n",
              " (('a', 't'), 687),\n",
              " (('s', 'i'), 684),\n",
              " (('e', 'a'), 679),\n",
              " (('d', 'i'), 674),\n",
              " (('h', 'e'), 674),\n",
              " (('<S>', 'g'), 669),\n",
              " (('t', 'o'), 667),\n",
              " (('c', 'h'), 664),\n",
              " (('b', 'e'), 655),\n",
              " (('t', 'h'), 647),\n",
              " (('v', 'a'), 642),\n",
              " (('o', 'l'), 619),\n",
              " (('<S>', 'i'), 591),\n",
              " (('i', 'o'), 588),\n",
              " (('e', 't'), 580),\n",
              " (('v', 'e'), 568),\n",
              " (('a', 'k'), 568),\n",
              " (('a', 'a'), 556),\n",
              " (('c', 'e'), 551),\n",
              " (('a', 'b'), 541),\n",
              " (('i', 't'), 541),\n",
              " (('<S>', 'y'), 535),\n",
              " (('t', 'i'), 532),\n",
              " (('s', 'o'), 531),\n",
              " (('m', '<E>'), 516),\n",
              " (('d', '<E>'), 516),\n",
              " (('<S>', 'p'), 515),\n",
              " (('i', 'c'), 509),\n",
              " (('k', 'i'), 509),\n",
              " (('o', 's'), 504),\n",
              " (('n', 'o'), 496),\n",
              " (('t', '<E>'), 483),\n",
              " (('j', 'o'), 479),\n",
              " (('u', 's'), 474),\n",
              " (('a', 'c'), 470),\n",
              " (('n', 'y'), 465),\n",
              " (('e', 'v'), 463),\n",
              " (('s', 's'), 461),\n",
              " (('m', 'o'), 452),\n",
              " (('i', 'k'), 445),\n",
              " (('n', 't'), 443),\n",
              " (('i', 'd'), 440),\n",
              " (('j', 'e'), 440),\n",
              " (('a', 'z'), 435),\n",
              " (('i', 'g'), 428),\n",
              " (('i', 'm'), 427),\n",
              " (('r', 'r'), 425),\n",
              " (('d', 'r'), 424),\n",
              " (('<S>', 'f'), 417),\n",
              " (('u', 'r'), 414),\n",
              " (('r', 'l'), 413),\n",
              " (('y', 's'), 401),\n",
              " (('<S>', 'o'), 394),\n",
              " (('e', 'd'), 384),\n",
              " (('a', 'u'), 381),\n",
              " (('c', 'o'), 380),\n",
              " (('k', 'y'), 379),\n",
              " (('d', 'o'), 378),\n",
              " (('<S>', 'v'), 376),\n",
              " (('t', 't'), 374),\n",
              " (('z', 'e'), 373),\n",
              " (('z', 'i'), 364),\n",
              " (('k', '<E>'), 363),\n",
              " (('g', 'h'), 360),\n",
              " (('t', 'r'), 352),\n",
              " (('k', 'o'), 344),\n",
              " (('t', 'y'), 341),\n",
              " (('g', 'e'), 334),\n",
              " (('g', 'a'), 330),\n",
              " (('l', 'u'), 324),\n",
              " (('b', 'a'), 321),\n",
              " (('d', 'y'), 317),\n",
              " (('c', 'k'), 316),\n",
              " (('<S>', 'w'), 307),\n",
              " (('k', 'h'), 307),\n",
              " (('u', 'l'), 301),\n",
              " (('y', 'e'), 301),\n",
              " (('y', 'r'), 291),\n",
              " (('m', 'y'), 287),\n",
              " (('h', 'o'), 287),\n",
              " (('w', 'a'), 280),\n",
              " (('s', 'l'), 279),\n",
              " (('n', 's'), 278),\n",
              " (('i', 'z'), 277),\n",
              " (('u', 'n'), 275),\n",
              " (('o', 'u'), 275),\n",
              " (('n', 'g'), 273),\n",
              " (('y', 'd'), 272),\n",
              " (('c', 'i'), 271),\n",
              " (('y', 'o'), 271),\n",
              " (('i', 'v'), 269),\n",
              " (('e', 'o'), 269),\n",
              " (('o', 'm'), 261),\n",
              " (('r', 'u'), 252),\n",
              " (('f', 'a'), 242),\n",
              " (('b', 'i'), 217),\n",
              " (('s', 'y'), 215),\n",
              " (('n', 'c'), 213),\n",
              " (('h', 'y'), 213),\n",
              " (('p', 'a'), 209),\n",
              " (('r', 't'), 208),\n",
              " (('q', 'u'), 206),\n",
              " (('p', 'h'), 204),\n",
              " (('h', 'r'), 204),\n",
              " (('j', 'u'), 202),\n",
              " (('g', 'r'), 201),\n",
              " (('p', 'e'), 197),\n",
              " (('n', 'l'), 195),\n",
              " (('y', 'i'), 192),\n",
              " (('g', 'i'), 190),\n",
              " (('o', 'd'), 190),\n",
              " (('r', 's'), 190),\n",
              " (('r', 'd'), 187),\n",
              " (('h', 'l'), 185),\n",
              " (('s', 'u'), 185),\n",
              " (('a', 'x'), 182),\n",
              " (('e', 'z'), 181),\n",
              " (('e', 'k'), 178),\n",
              " (('o', 'v'), 176),\n",
              " (('a', 'j'), 175),\n",
              " (('o', 'h'), 171),\n",
              " (('u', 'e'), 169),\n",
              " (('m', 'm'), 168),\n",
              " (('a', 'g'), 168),\n",
              " (('h', 'u'), 166),\n",
              " (('x', '<E>'), 164),\n",
              " (('u', 'a'), 163),\n",
              " (('r', 'm'), 162),\n",
              " (('a', 'w'), 161),\n",
              " (('f', 'i'), 160),\n",
              " (('z', '<E>'), 160),\n",
              " (('u', '<E>'), 155),\n",
              " (('u', 'm'), 154),\n",
              " (('e', 'c'), 153),\n",
              " (('v', 'o'), 153),\n",
              " (('e', 'h'), 152),\n",
              " (('p', 'r'), 151),\n",
              " (('d', 'd'), 149),\n",
              " (('o', 'a'), 149),\n",
              " (('w', 'e'), 149),\n",
              " (('w', 'i'), 148),\n",
              " (('y', 'm'), 148),\n",
              " (('z', 'y'), 147),\n",
              " (('n', 'z'), 145),\n",
              " (('y', 'u'), 141),\n",
              " (('r', 'n'), 140),\n",
              " (('o', 'b'), 140),\n",
              " (('k', 'l'), 139),\n",
              " (('m', 'u'), 139),\n",
              " (('l', 'd'), 138),\n",
              " (('h', 'n'), 138),\n",
              " (('u', 'd'), 136),\n",
              " (('<S>', 'x'), 134),\n",
              " (('t', 'l'), 134),\n",
              " (('a', 'f'), 134),\n",
              " (('o', 'e'), 132),\n",
              " (('e', 'x'), 132),\n",
              " (('e', 'g'), 125),\n",
              " (('f', 'e'), 123),\n",
              " (('z', 'l'), 123),\n",
              " (('u', 'i'), 121),\n",
              " (('v', 'y'), 121),\n",
              " (('e', 'b'), 121),\n",
              " (('r', 'h'), 121),\n",
              " (('j', 'i'), 119),\n",
              " (('o', 't'), 118),\n",
              " (('d', 'h'), 118),\n",
              " (('h', 'm'), 117),\n",
              " (('c', 'l'), 116),\n",
              " (('o', 'o'), 115),\n",
              " (('y', 'c'), 115),\n",
              " (('o', 'w'), 114),\n",
              " (('o', 'c'), 114),\n",
              " (('f', 'r'), 114),\n",
              " (('b', '<E>'), 114),\n",
              " (('m', 'b'), 112),\n",
              " (('z', 'o'), 110),\n",
              " (('i', 'b'), 110),\n",
              " (('i', 'u'), 109),\n",
              " (('k', 'r'), 109),\n",
              " (('g', '<E>'), 108),\n",
              " (('y', 'v'), 106),\n",
              " (('t', 'z'), 105),\n",
              " (('b', 'o'), 105),\n",
              " (('c', 'y'), 104),\n",
              " (('y', 't'), 104),\n",
              " (('u', 'b'), 103),\n",
              " (('u', 'c'), 103),\n",
              " (('x', 'a'), 103),\n",
              " (('b', 'l'), 103),\n",
              " (('o', 'y'), 103),\n",
              " (('x', 'i'), 102),\n",
              " (('i', 'f'), 101),\n",
              " (('r', 'c'), 99),\n",
              " (('c', '<E>'), 97),\n",
              " (('m', 'r'), 97),\n",
              " (('n', 'u'), 96),\n",
              " (('o', 'p'), 95),\n",
              " (('i', 'h'), 95),\n",
              " (('k', 's'), 95),\n",
              " (('l', 's'), 94),\n",
              " (('u', 'k'), 93),\n",
              " (('<S>', 'q'), 92),\n",
              " (('d', 'u'), 92),\n",
              " (('s', 'm'), 90),\n",
              " (('r', 'k'), 90),\n",
              " (('i', 'x'), 89),\n",
              " (('v', '<E>'), 88),\n",
              " (('y', 'k'), 86),\n",
              " (('u', 'w'), 86),\n",
              " (('g', 'u'), 85),\n",
              " (('b', 'y'), 83),\n",
              " (('e', 'p'), 83),\n",
              " (('g', 'o'), 83),\n",
              " (('s', 'k'), 82),\n",
              " (('u', 't'), 82),\n",
              " (('a', 'p'), 82),\n",
              " (('e', 'f'), 82),\n",
              " (('i', 'i'), 82),\n",
              " (('r', 'v'), 80),\n",
              " (('f', '<E>'), 80),\n",
              " (('t', 'u'), 78),\n",
              " (('y', 'z'), 78),\n",
              " (('<S>', 'u'), 78),\n",
              " (('l', 't'), 77),\n",
              " (('r', 'g'), 76),\n",
              " (('c', 'r'), 76),\n",
              " (('i', 'j'), 76),\n",
              " (('w', 'y'), 73),\n",
              " (('z', 'u'), 73),\n",
              " (('l', 'v'), 72),\n",
              " (('h', 't'), 71),\n",
              " (('j', '<E>'), 71),\n",
              " (('x', 't'), 70),\n",
              " (('o', 'i'), 69),\n",
              " (('e', 'u'), 69),\n",
              " (('o', 'k'), 68),\n",
              " (('b', 'd'), 65),\n",
              " (('a', 'o'), 63),\n",
              " (('p', 'i'), 61),\n",
              " (('s', 'c'), 60),\n",
              " (('d', 'l'), 60),\n",
              " (('l', 'm'), 60),\n",
              " (('a', 'q'), 60),\n",
              " (('f', 'o'), 60),\n",
              " (('p', 'o'), 59),\n",
              " (('n', 'k'), 58),\n",
              " (('w', 'n'), 58),\n",
              " (('u', 'h'), 58),\n",
              " (('e', 'j'), 55),\n",
              " (('n', 'v'), 55),\n",
              " (('s', 'r'), 55),\n",
              " (('o', 'z'), 54),\n",
              " (('i', 'p'), 53),\n",
              " (('l', 'b'), 52),\n",
              " (('i', 'q'), 52),\n",
              " (('w', '<E>'), 51),\n",
              " (('m', 'c'), 51),\n",
              " (('s', 'p'), 51),\n",
              " (('e', 'w'), 50),\n",
              " (('k', 'u'), 50),\n",
              " (('v', 'r'), 48),\n",
              " (('u', 'g'), 47),\n",
              " (('o', 'x'), 45),\n",
              " (('u', 'z'), 45),\n",
              " (('z', 'z'), 45),\n",
              " (('j', 'h'), 45),\n",
              " (('b', 'u'), 45),\n",
              " (('o', 'g'), 44),\n",
              " (('n', 'r'), 44),\n",
              " (('f', 'f'), 44),\n",
              " (('n', 'j'), 44),\n",
              " (('z', 'h'), 43),\n",
              " (('c', 'c'), 42),\n",
              " (('r', 'b'), 41),\n",
              " (('x', 'o'), 41),\n",
              " (('b', 'h'), 41),\n",
              " (('p', 'p'), 39),\n",
              " (('x', 'l'), 39),\n",
              " (('h', 'v'), 39),\n",
              " (('b', 'b'), 38),\n",
              " (('m', 'p'), 38),\n",
              " (('x', 'x'), 38),\n",
              " (('u', 'v'), 37),\n",
              " (('x', 'e'), 36),\n",
              " (('w', 'o'), 36),\n",
              " (('c', 't'), 35),\n",
              " (('z', 'm'), 35),\n",
              " (('t', 's'), 35),\n",
              " (('m', 's'), 35),\n",
              " (('c', 'u'), 35),\n",
              " (('o', 'f'), 34),\n",
              " (('u', 'x'), 34),\n",
              " (('k', 'w'), 34),\n",
              " (('p', '<E>'), 33),\n",
              " (('g', 'l'), 32),\n",
              " (('z', 'r'), 32),\n",
              " (('d', 'n'), 31),\n",
              " (('g', 't'), 31),\n",
              " (('g', 'y'), 31),\n",
              " (('h', 's'), 31),\n",
              " (('x', 's'), 31),\n",
              " (('g', 's'), 30),\n",
              " (('x', 'y'), 30),\n",
              " (('y', 'g'), 30),\n",
              " (('d', 'm'), 30),\n",
              " (('d', 's'), 29),\n",
              " (('h', 'k'), 29),\n",
              " (('y', 'x'), 28),\n",
              " (('q', '<E>'), 28),\n",
              " (('g', 'n'), 27),\n",
              " (('y', 'b'), 27),\n",
              " (('g', 'w'), 26),\n",
              " (('n', 'h'), 26),\n",
              " (('k', 'n'), 26),\n",
              " (('g', 'g'), 25),\n",
              " (('d', 'g'), 25),\n",
              " (('l', 'c'), 25),\n",
              " (('r', 'j'), 25),\n",
              " (('w', 'u'), 25),\n",
              " (('l', 'k'), 24),\n",
              " (('m', 'd'), 24),\n",
              " (('s', 'w'), 24),\n",
              " (('s', 'n'), 24),\n",
              " (('h', 'd'), 24),\n",
              " (('w', 'h'), 23),\n",
              " (('y', 'j'), 23),\n",
              " (('y', 'y'), 23),\n",
              " (('r', 'z'), 23),\n",
              " (('d', 'w'), 23),\n",
              " (('w', 'r'), 22),\n",
              " (('t', 'n'), 22),\n",
              " (('l', 'f'), 22),\n",
              " (('y', 'h'), 22),\n",
              " (('r', 'w'), 21),\n",
              " (('s', 'b'), 21),\n",
              " (('m', 'n'), 20),\n",
              " (('f', 'l'), 20),\n",
              " (('w', 's'), 20),\n",
              " (('k', 'k'), 20),\n",
              " (('h', 'z'), 20),\n",
              " (('g', 'd'), 19),\n",
              " (('l', 'h'), 19),\n",
              " (('n', 'm'), 19),\n",
              " (('x', 'z'), 19),\n",
              " (('u', 'f'), 19),\n",
              " (('f', 't'), 18),\n",
              " (('l', 'r'), 18),\n",
              " (('p', 't'), 17),\n",
              " (('t', 'c'), 17),\n",
              " (('k', 't'), 17),\n",
              " (('d', 'v'), 17),\n",
              " (('u', 'p'), 16),\n",
              " (('p', 'l'), 16),\n",
              " (('l', 'w'), 16),\n",
              " (('p', 's'), 16),\n",
              " (('o', 'j'), 16),\n",
              " (('r', 'q'), 16),\n",
              " (('y', 'p'), 15),\n",
              " (('l', 'p'), 15),\n",
              " (('t', 'v'), 15),\n",
              " (('r', 'p'), 14),\n",
              " (('l', 'n'), 14),\n",
              " (('e', 'q'), 14),\n",
              " (('f', 'y'), 14),\n",
              " (('s', 'v'), 14),\n",
              " (('u', 'j'), 14),\n",
              " (('v', 'l'), 14),\n",
              " (('q', 'a'), 13),\n",
              " (('u', 'y'), 13),\n",
              " (('q', 'i'), 13),\n",
              " (('w', 'l'), 13),\n",
              " (('p', 'y'), 12),\n",
              " (('y', 'f'), 12),\n",
              " (('c', 'q'), 11),\n",
              " (('j', 'r'), 11),\n",
              " (('n', 'w'), 11),\n",
              " (('n', 'f'), 11),\n",
              " (('t', 'w'), 11),\n",
              " (('m', 'z'), 11),\n",
              " (('u', 'o'), 10),\n",
              " (('f', 'u'), 10),\n",
              " (('l', 'z'), 10),\n",
              " (('h', 'w'), 10),\n",
              " (('u', 'q'), 10),\n",
              " (('j', 'y'), 10),\n",
              " (('s', 'z'), 10),\n",
              " (('s', 'd'), 9),\n",
              " (('j', 'l'), 9),\n",
              " (('d', 'j'), 9),\n",
              " (('k', 'm'), 9),\n",
              " (('r', 'f'), 9),\n",
              " (('h', 'j'), 9),\n",
              " (('v', 'n'), 8),\n",
              " (('n', 'b'), 8),\n",
              " (('i', 'w'), 8),\n",
              " (('h', 'b'), 8),\n",
              " (('b', 's'), 8),\n",
              " (('w', 't'), 8),\n",
              " (('w', 'd'), 8),\n",
              " (('v', 'v'), 7),\n",
              " (('v', 'u'), 7),\n",
              " (('j', 's'), 7),\n",
              " (('m', 'j'), 7),\n",
              " (('f', 's'), 6),\n",
              " (('l', 'g'), 6),\n",
              " (('l', 'j'), 6),\n",
              " (('j', 'w'), 6),\n",
              " (('n', 'x'), 6),\n",
              " (('y', 'q'), 6),\n",
              " (('w', 'k'), 6),\n",
              " (('g', 'm'), 6),\n",
              " (('x', 'u'), 5),\n",
              " (('m', 'h'), 5),\n",
              " (('m', 'l'), 5),\n",
              " (('j', 'm'), 5),\n",
              " (('c', 's'), 5),\n",
              " (('j', 'v'), 5),\n",
              " (('n', 'p'), 5),\n",
              " (('d', 'f'), 5),\n",
              " (('x', 'd'), 5),\n",
              " (('z', 'b'), 4),\n",
              " (('f', 'n'), 4),\n",
              " (('x', 'c'), 4),\n",
              " (('m', 't'), 4),\n",
              " (('t', 'm'), 4),\n",
              " (('z', 'n'), 4),\n",
              " (('z', 't'), 4),\n",
              " (('p', 'u'), 4),\n",
              " (('c', 'z'), 4),\n",
              " (('b', 'n'), 4),\n",
              " (('z', 's'), 4),\n",
              " (('f', 'w'), 4),\n",
              " (('d', 't'), 4),\n",
              " (('j', 'd'), 4),\n",
              " (('j', 'c'), 4),\n",
              " (('y', 'w'), 4),\n",
              " (('v', 'k'), 3),\n",
              " (('x', 'w'), 3),\n",
              " (('t', 'j'), 3),\n",
              " (('c', 'j'), 3),\n",
              " (('q', 'w'), 3),\n",
              " (('g', 'b'), 3),\n",
              " (('o', 'q'), 3),\n",
              " (('r', 'x'), 3),\n",
              " (('d', 'c'), 3),\n",
              " (('g', 'j'), 3),\n",
              " (('x', 'f'), 3),\n",
              " (('z', 'w'), 3),\n",
              " (('d', 'k'), 3),\n",
              " (('u', 'u'), 3),\n",
              " (('m', 'v'), 3),\n",
              " (('c', 'x'), 3),\n",
              " (('l', 'q'), 3),\n",
              " (('p', 'b'), 2),\n",
              " (('t', 'g'), 2),\n",
              " (('q', 's'), 2),\n",
              " (('t', 'x'), 2),\n",
              " (('f', 'k'), 2),\n",
              " (('b', 't'), 2),\n",
              " (('j', 'n'), 2),\n",
              " (('k', 'c'), 2),\n",
              " (('z', 'k'), 2),\n",
              " (('s', 'j'), 2),\n",
              " (('s', 'f'), 2),\n",
              " (('z', 'j'), 2),\n",
              " (('n', 'q'), 2),\n",
              " (('f', 'z'), 2),\n",
              " (('h', 'g'), 2),\n",
              " (('w', 'w'), 2),\n",
              " (('k', 'j'), 2),\n",
              " (('j', 'k'), 2),\n",
              " (('w', 'm'), 2),\n",
              " (('z', 'c'), 2),\n",
              " (('z', 'v'), 2),\n",
              " (('w', 'f'), 2),\n",
              " (('q', 'm'), 2),\n",
              " (('k', 'z'), 2),\n",
              " (('j', 'j'), 2),\n",
              " (('z', 'p'), 2),\n",
              " (('j', 't'), 2),\n",
              " (('k', 'b'), 2),\n",
              " (('m', 'w'), 2),\n",
              " (('h', 'f'), 2),\n",
              " (('c', 'g'), 2),\n",
              " (('t', 'f'), 2),\n",
              " (('h', 'c'), 2),\n",
              " (('q', 'o'), 2),\n",
              " (('k', 'd'), 2),\n",
              " (('k', 'v'), 2),\n",
              " (('s', 'g'), 2),\n",
              " (('z', 'd'), 2),\n",
              " (('q', 'r'), 1),\n",
              " (('d', 'z'), 1),\n",
              " (('p', 'j'), 1),\n",
              " (('q', 'l'), 1),\n",
              " (('p', 'f'), 1),\n",
              " (('q', 'e'), 1),\n",
              " (('b', 'c'), 1),\n",
              " (('c', 'd'), 1),\n",
              " (('m', 'f'), 1),\n",
              " (('p', 'n'), 1),\n",
              " (('w', 'b'), 1),\n",
              " (('p', 'c'), 1),\n",
              " (('h', 'p'), 1),\n",
              " (('f', 'h'), 1),\n",
              " (('b', 'j'), 1),\n",
              " (('f', 'g'), 1),\n",
              " (('z', 'g'), 1),\n",
              " (('c', 'p'), 1),\n",
              " (('p', 'k'), 1),\n",
              " (('p', 'm'), 1),\n",
              " (('x', 'n'), 1),\n",
              " (('s', 'q'), 1),\n",
              " (('k', 'f'), 1),\n",
              " (('m', 'k'), 1),\n",
              " (('x', 'h'), 1),\n",
              " (('g', 'f'), 1),\n",
              " (('v', 'b'), 1),\n",
              " (('j', 'p'), 1),\n",
              " (('g', 'z'), 1),\n",
              " (('v', 'd'), 1),\n",
              " (('d', 'b'), 1),\n",
              " (('v', 'h'), 1),\n",
              " (('h', 'h'), 1),\n",
              " (('g', 'v'), 1),\n",
              " (('d', 'q'), 1),\n",
              " (('x', 'b'), 1),\n",
              " (('w', 'z'), 1),\n",
              " (('h', 'q'), 1),\n",
              " (('j', 'b'), 1),\n",
              " (('x', 'm'), 1),\n",
              " (('w', 'g'), 1),\n",
              " (('t', 'b'), 1),\n",
              " (('z', 'x'), 1)]"
            ]
          },
          "metadata": {},
          "execution_count": 7
        }
      ]
    },
    {
      "cell_type": "markdown",
      "source": [
        "Instead of using a dictionary, we will use a Python  bidimensional array. Rows are first character and columns second character. Each entry in this two-dimensioanl array will tell us how often the second character follows the first in the dataset."
      ],
      "metadata": {
        "id": "YrHhs3W1EKaK"
      }
    },
    {
      "cell_type": "code",
      "source": [
        "import torch"
      ],
      "metadata": {
        "id": "eCdRdSxyEPXP"
      },
      "execution_count": null,
      "outputs": []
    },
    {
      "cell_type": "code",
      "source": [
        "N = torch.zeros((27, 27), dtype =torch.int32)   #array of 26 letters+start+ending\n",
        "                                                #we'll be using integers, not floats"
      ],
      "metadata": {
        "id": "XyOCNVnTEpEI"
      },
      "execution_count": null,
      "outputs": []
    },
    {
      "cell_type": "code",
      "source": [
        "chars = sorted(list(set(''.join(words)))) #sorted alphabet\n",
        "\n",
        "#we need a lookup table from string characters (dictionary) to integers (two-dimensional array)\n",
        "stoi = {s:i+1 for i,s in enumerate(chars)} # s to i mapping\n",
        "#set special characters\n",
        "stoi['.'] = 0\n",
        "itos = {i:s for s,i in stoi.items()} #reversed mapping: i to s"
      ],
      "metadata": {
        "id": "QppJf6X0Phop"
      },
      "execution_count": null,
      "outputs": []
    },
    {
      "cell_type": "code",
      "source": [
        "for w in words:\n",
        "  chs = ['.'] + list(w) + ['.']\n",
        "  for ch1, ch2 in zip(chs, chs[1:]):\n",
        "    #map ch1 and ch2 into their integers\n",
        "    ix1 = stoi[ch1] #indexing\n",
        "    ix2 = stoi[ch2]\n",
        "    N[ix1, ix2] += 1"
      ],
      "metadata": {
        "id": "eEIf0xdfPPjM"
      },
      "execution_count": null,
      "outputs": []
    },
    {
      "cell_type": "code",
      "source": [
        "import matplotlib.pyplot as plt\n",
        "%matplotlib inline\n",
        "\n",
        "plt.figure(figsize=(16,16))\n",
        "plt.imshow(N, cmap='Blues')\n",
        "for i in range(27):\n",
        "    for j in range(27):\n",
        "        chstr = itos[i] + itos[j] #character string\n",
        "        plt.text(j, i, chstr, ha=\"center\", va=\"bottom\", color='gray') #plot bigram text\n",
        "        plt.text(j, i, N[i, j].item(), ha=\"center\", va=\"top\", color='gray') # number of times bigram occurs\n",
        "                                                                            # we need .item() to recover the content of the Tensor\n",
        "plt.axis('off');"
      ],
      "metadata": {
        "colab": {
          "base_uri": "https://localhost:8080/",
          "height": 1000
        },
        "id": "Y-pBFfdOQwRk",
        "outputId": "d8882f69-deb6-495a-8312-d62fb79e0640"
      },
      "execution_count": null,
      "outputs": [
        {
          "output_type": "display_data",
          "data": {
            "text/plain": [
              "<Figure size 1600x1600 with 1 Axes>"
            ],
            "image/png": "[encoded data removed]"
          },
          "metadata": {}
        }
      ]
    },
    {
      "cell_type": "code",
      "source": [
        "N[0]"
      ],
      "metadata": {
        "colab": {
          "base_uri": "https://localhost:8080/"
        },
        "id": "LQrF2XtiTFpQ",
        "outputId": "8e1ca243-3f9f-43b2-d0b6-8e43b707e2f7"
      },
      "execution_count": null,
      "outputs": [
        {
          "output_type": "execute_result",
          "data": {
            "text/plain": [
              "tensor([   0, 4410, 1306, 1542, 1690, 1531,  417,  669,  874,  591, 2422, 2963,\n",
              "        1572, 2538, 1146,  394,  515,   92, 1639, 2055, 1308,   78,  376,  307,\n",
              "         134,  535,  929], dtype=torch.int32)"
            ]
          },
          "metadata": {},
          "execution_count": 13
        }
      ]
    },
    {
      "cell_type": "code",
      "source": [
        "p=N[0].float() #convert integers to float so we can normalize the counts and assign probabilities\n",
        "p = p/p.sum() #probability of every single character to be the first in a word\n",
        "p"
      ],
      "metadata": {
        "colab": {
          "base_uri": "https://localhost:8080/"
        },
        "id": "myWDHNjjTF-e",
        "outputId": "41c198ee-2880-4126-d43a-0cf05df5fda8"
      },
      "execution_count": null,
      "outputs": [
        {
          "output_type": "execute_result",
          "data": {
            "text/plain": [
              "tensor([0.0000, 0.1377, 0.0408, 0.0481, 0.0528, 0.0478, 0.0130, 0.0209, 0.0273,\n",
              "        0.0184, 0.0756, 0.0925, 0.0491, 0.0792, 0.0358, 0.0123, 0.0161, 0.0029,\n",
              "        0.0512, 0.0642, 0.0408, 0.0024, 0.0117, 0.0096, 0.0042, 0.0167, 0.0290])"
            ]
          },
          "metadata": {},
          "execution_count": 14
        }
      ]
    },
    {
      "cell_type": "markdown",
      "source": [
        "Multinomial gives integers sampled according to the multinomial probability distribution\n",
        "Generator object makes everything deterministic"
      ],
      "metadata": {
        "id": "KjqoIa5RT19s"
      }
    },
    {
      "cell_type": "code",
      "source": [
        "g = torch.Generator().manual_seed(2147483647)\n",
        "p = torch.rand(3, generator=g)\n",
        "p = p / p.sum()\n",
        "p #torch tensor of prob. distribution. First element is tho most probable one"
      ],
      "metadata": {
        "colab": {
          "base_uri": "https://localhost:8080/"
        },
        "id": "qQEaiM9YTGAz",
        "outputId": "bc0b7c1f-0f8e-42fe-826a-2d6a9607045d"
      },
      "execution_count": null,
      "outputs": [
        {
          "output_type": "execute_result",
          "data": {
            "text/plain": [
              "tensor([0.6064, 0.3033, 0.0903])"
            ]
          },
          "metadata": {},
          "execution_count": 15
        }
      ]
    },
    {
      "cell_type": "code",
      "source": [
        "torch.multinomial(p, num_samples=100, replacement=True, generator=g)"
      ],
      "metadata": {
        "colab": {
          "base_uri": "https://localhost:8080/"
        },
        "id": "iScwZPiYTGDC",
        "outputId": "c4947ac8-ee11-4430-b613-379629c51616"
      },
      "execution_count": null,
      "outputs": [
        {
          "output_type": "execute_result",
          "data": {
            "text/plain": [
              "tensor([1, 1, 2, 0, 0, 2, 1, 1, 0, 0, 0, 1, 1, 0, 0, 1, 1, 0, 0, 1, 0, 2, 0, 0,\n",
              "        1, 0, 0, 1, 0, 0, 0, 1, 1, 1, 0, 1, 1, 0, 0, 1, 1, 1, 0, 1, 1, 0, 1, 1,\n",
              "        0, 2, 0, 0, 0, 0, 0, 0, 0, 0, 0, 0, 1, 1, 0, 0, 0, 0, 0, 0, 0, 0, 1, 0,\n",
              "        0, 1, 0, 0, 0, 0, 0, 0, 0, 1, 2, 0, 0, 0, 0, 0, 0, 1, 0, 0, 2, 0, 1, 0,\n",
              "        0, 1, 1, 1])"
            ]
          },
          "metadata": {},
          "execution_count": 16
        }
      ]
    },
    {
      "cell_type": "markdown",
      "source": [
        "We will now sample from probability distribution p"
      ],
      "metadata": {
        "id": "Jw67sZucVL5N"
      }
    },
    {
      "cell_type": "code",
      "source": [
        "p=N[0].float() #convert integers to float so we can normalize the counts and assign probabilities\n",
        "p = p/p.sum() #probability of every single character to be the first in a word\n",
        "p\n",
        "\n",
        "g = torch.Generator().manual_seed(2147483647)\n",
        "ix = torch.multinomial(p, num_samples=1, replacement=True, generator=g).item() #index\n",
        "itos[ix]"
      ],
      "metadata": {
        "colab": {
          "base_uri": "https://localhost:8080/",
          "height": 36
        },
        "id": "V9NsuN3nTGFQ",
        "outputId": "87afba25-e6b8-4826-8a6c-bba5da1131c4"
      },
      "execution_count": null,
      "outputs": [
        {
          "output_type": "execute_result",
          "data": {
            "text/plain": [
              "'j'"
            ],
            "application/vnd.google.colaboratory.intrinsic+json": {
              "type": "string"
            }
          },
          "metadata": {},
          "execution_count": 17
        }
      ]
    },
    {
      "cell_type": "code",
      "source": [
        "#P is a matrix in which we already calculate the normalised probabilities, such that we don't need to do it in every iteration of the for loop\n",
        "P = (N+1).float() #add a count of 1 for model smoothing: avoid a probability = 0 and a log(prob)=infinite\n",
        "P /= P.sum(1, keepdim=True) #this operation is broadcastable (either one of the dimensions is 1, it does not exist, or both dimensions are equal. See documentation: https://pytorch.org/docs/stable/notes/broadcasting.html)\n",
        "#with keepdim=False, the division would also be broadcastable ([27, 27] / [ , 27]) since the non existing dimension would be considered as a 1, such that\n",
        "# [27, 27] / [1, 27]. However, this will be a ROW vector with the sum over the columns, not the rows, and would give us an incorrect result."
      ],
      "metadata": {
        "id": "MqhLQ4twxxKA"
      },
      "execution_count": null,
      "outputs": []
    },
    {
      "cell_type": "code",
      "source": [
        "P.sum(1, keepdim=True).shape\n",
        "P.shape"
      ],
      "metadata": {
        "colab": {
          "base_uri": "https://localhost:8080/"
        },
        "id": "fB1U51Kry0cU",
        "outputId": "f631710f-591c-492c-a840-4748764a22db"
      },
      "execution_count": null,
      "outputs": [
        {
          "output_type": "execute_result",
          "data": {
            "text/plain": [
              "torch.Size([27, 27])"
            ]
          },
          "metadata": {},
          "execution_count": 19
        }
      ]
    },
    {
      "cell_type": "code",
      "source": [
        "g = torch.Generator().manual_seed(2147483647)\n",
        "\n",
        "for i in range(10):\n",
        "  out = []\n",
        "  ix = 0\n",
        "  while True:\n",
        "    p = P[ix]\n",
        "    #p = N[ix].float() #fetching a row of Ns\n",
        "    #p = p /p.sum() #normalize\n",
        "    #p = torch.ones(27) / 27.0 #Uniform distribution, with everything equally likely. Output will be an untrained model.\n",
        "    ix = torch.multinomial(p, num_samples=1, replacement=True, generator=g).item()\n",
        "    out.append(itos[ix])\n",
        "    if ix == 0:\n",
        "      break\n",
        "  print(''.join(out))"
      ],
      "metadata": {
        "colab": {
          "base_uri": "https://localhost:8080/"
        },
        "id": "3DN-U6CgTGHZ",
        "outputId": "4c7a0180-1181-4d4d-e2f3-ce086b669758"
      },
      "execution_count": null,
      "outputs": [
        {
          "output_type": "stream",
          "name": "stdout",
          "text": [
            "junide.\n",
            "janasah.\n",
            "p.\n",
            "cony.\n",
            "a.\n",
            "nn.\n",
            "kohin.\n",
            "tolian.\n",
            "juee.\n",
            "ksahnaauranilevias.\n"
          ]
        }
      ]
    },
    {
      "cell_type": "markdown",
      "source": [
        "We'd like to evaluate the quality of this model. To do so, we can evaluate the training loss: a single number referncing the quality of the model. We can use the negative log likelihood as our loss function."
      ],
      "metadata": {
        "id": "HHjKsSUT6gUQ"
      }
    },
    {
      "cell_type": "markdown",
      "source": [
        "Likelihood is the product of all the probabilities, so log(likelihood) is the sum of all the log(prob).\n",
        "log(a*b*c) = log(a)+log(b)+log(c)"
      ],
      "metadata": {
        "id": "Az3yMODN8Z0D"
      }
    },
    {
      "cell_type": "code",
      "source": [
        "log_likelihood = 0.0\n",
        "n = 0 #counts for averaging\n",
        "for w in [\"daniel\"]: #Test the probability of any string\n",
        "#for w in words:\n",
        "  chs = ['.'] + list(w) + ['.']\n",
        "  for ch1, ch2 in zip(chs, chs[1:]):\n",
        "    #map ch1 and ch2 into their integers\n",
        "    ix1 = stoi[ch1] #indexing\n",
        "    ix2 = stoi[ch2]\n",
        "    prob = P[ix1, ix2] #probability that the model assign to the bigram [ix1, ix2]\n",
        "    logprob = torch.log(prob)\n",
        "    log_likelihood += logprob\n",
        "    n +=1\n",
        "    print(f'{ch1}{ch2}: {prob:.4f} {logprob:.4f}')\n",
        "\n",
        "print(f'{log_likelihood = }')\n",
        "nll = -log_likelihood #negative log likelihood is our loss function\n",
        "print(f'{nll=}')\n",
        "print('average log likelihood = ', f'{nll/n}') #average log likelihood (normalised)"
      ],
      "metadata": {
        "id": "YSQbvkHhTGJ_",
        "colab": {
          "base_uri": "https://localhost:8080/"
        },
        "outputId": "176ef403-80bc-4294-9cfc-4e64e8290413"
      },
      "execution_count": null,
      "outputs": [
        {
          "output_type": "stream",
          "name": "stdout",
          "text": [
            ".d: 0.0527 -2.9423\n",
            "da: 0.2361 -1.4435\n",
            "an: 0.1604 -1.8302\n",
            "ni: 0.0940 -2.3640\n",
            "ie: 0.0933 -2.3719\n",
            "el: 0.1589 -1.8396\n",
            "l.: 0.0940 -2.3641\n",
            "log_likelihood = tensor(-15.1557)\n",
            "nll=tensor(15.1557)\n",
            "average log likelihood =  2.1651031970977783\n"
          ]
        }
      ]
    },
    {
      "cell_type": "markdown",
      "source": [
        "GOAL of training: maximize likelihood of the data w.r.t. model parameters (statistical modeling)\n",
        "\n",
        "equivalent to maximizing the log likelihood (because log is monotonic)\n",
        "\n",
        "equivalent to minimizing the negative log likelihood\n",
        "\n",
        "equivalent to minimizing the average negative log likelihood\n",
        "\n",
        "The lower it is, the better the model, because it will be assigning high probabilities to certain combinations of characters."
      ],
      "metadata": {
        "id": "g0v0Al2N-lEY"
      }
    },
    {
      "cell_type": "code",
      "source": [],
      "metadata": {
        "id": "exqIYDOLTGMA"
      },
      "execution_count": null,
      "outputs": []
    },
    {
      "cell_type": "markdown",
      "source": [
        "#Part 2: Neural network\n",
        "We already have a bigram character-level language model. We assigned probabilities to every combination of characters and performed sampling to create new names. We also evaluated the quality of the model with the negative log likelihood (summarizing in a single number) loss function.\n",
        "\n",
        "\n",
        "\n",
        "\n",
        "We can take an alternative approach to achieve the same results. We can cast the problem of bigram character-level language modeling into the neural network framework.\n",
        "The neural network is going to receive a character as an input, have weights, parameters, biases, etc. and output the probability distribution over the next character in a sequence. We will use gradient-based optimization."
      ],
      "metadata": {
        "id": "jV8LUVqjNJVt"
      }
    },
    {
      "cell_type": "code",
      "source": [
        "#create the training set of bigrams (x,y), made of two lists\n",
        "xs, ys = [], []\n",
        "\n",
        "for w in words[:1]:\n",
        "  chs = ['.'] + list(w) + ['.']\n",
        "  for ch1, ch2 in zip(chs, chs[1:]):\n",
        "    #map ch1 and ch2 into their integers\n",
        "    ix1 = stoi[ch1] #indexing\n",
        "    ix2 = stoi[ch2]\n",
        "    print(ch1, ch2)\n",
        "    xs.append(ix1)\n",
        "    ys.append(ix2)\n",
        "\n",
        "xs = torch.tensor(xs) #xs.dtype changes when using torch.tensor (integers) and torch.Tensor (floats)\n",
        "ys = torch.tensor(ys)"
      ],
      "metadata": {
        "id": "qbA4xLdJTGN3",
        "colab": {
          "base_uri": "https://localhost:8080/"
        },
        "outputId": "d2e0f92b-5614-4ecd-d43c-81599c65afae"
      },
      "execution_count": null,
      "outputs": [
        {
          "output_type": "stream",
          "name": "stdout",
          "text": [
            ". e\n",
            "e m\n",
            "m m\n",
            "m a\n",
            "a .\n"
          ]
        }
      ]
    },
    {
      "cell_type": "code",
      "source": [
        "xs"
      ],
      "metadata": {
        "colab": {
          "base_uri": "https://localhost:8080/"
        },
        "id": "idv0DW-rO60R",
        "outputId": "9ffe6d79-d9f3-4e78-ae84-b1e35464cf34"
      },
      "execution_count": null,
      "outputs": [
        {
          "output_type": "execute_result",
          "data": {
            "text/plain": [
              "tensor([ 0,  5, 13, 13,  1])"
            ]
          },
          "metadata": {},
          "execution_count": 23
        }
      ]
    },
    {
      "cell_type": "code",
      "source": [
        "ys #for character 0 ('.'), it is likely to have output 5 ('e')"
      ],
      "metadata": {
        "colab": {
          "base_uri": "https://localhost:8080/"
        },
        "id": "hIWHzQHqO62j",
        "outputId": "daed6df3-69e1-4ab5-d9a3-93525d3a25bd"
      },
      "execution_count": null,
      "outputs": [
        {
          "output_type": "execute_result",
          "data": {
            "text/plain": [
              "tensor([ 5, 13, 13,  1,  0])"
            ]
          },
          "metadata": {},
          "execution_count": 24
        }
      ]
    },
    {
      "cell_type": "markdown",
      "source": [
        "One-hot encoding (To represent integer n, every bit is 0 except for the nth bit) encodes integers into vectors to feed the neural network."
      ],
      "metadata": {
        "id": "eEseupTVRyxi"
      }
    },
    {
      "cell_type": "code",
      "source": [
        "import torch.nn.functional as F\n",
        "xenc = F.one_hot(xs, num_classes=27).float() #x-encoded. Casted to float\n",
        "xenc"
      ],
      "metadata": {
        "colab": {
          "base_uri": "https://localhost:8080/"
        },
        "id": "6kW72W2qO64m",
        "outputId": "b91be576-d1cb-4c08-b689-f8d6a1e330ac"
      },
      "execution_count": null,
      "outputs": [
        {
          "output_type": "execute_result",
          "data": {
            "text/plain": [
              "tensor([[1., 0., 0., 0., 0., 0., 0., 0., 0., 0., 0., 0., 0., 0., 0., 0., 0., 0.,\n",
              "         0., 0., 0., 0., 0., 0., 0., 0., 0.],\n",
              "        [0., 0., 0., 0., 0., 1., 0., 0., 0., 0., 0., 0., 0., 0., 0., 0., 0., 0.,\n",
              "         0., 0., 0., 0., 0., 0., 0., 0., 0.],\n",
              "        [0., 0., 0., 0., 0., 0., 0., 0., 0., 0., 0., 0., 0., 1., 0., 0., 0., 0.,\n",
              "         0., 0., 0., 0., 0., 0., 0., 0., 0.],\n",
              "        [0., 0., 0., 0., 0., 0., 0., 0., 0., 0., 0., 0., 0., 1., 0., 0., 0., 0.,\n",
              "         0., 0., 0., 0., 0., 0., 0., 0., 0.],\n",
              "        [0., 1., 0., 0., 0., 0., 0., 0., 0., 0., 0., 0., 0., 0., 0., 0., 0., 0.,\n",
              "         0., 0., 0., 0., 0., 0., 0., 0., 0.]])"
            ]
          },
          "metadata": {},
          "execution_count": 25
        }
      ]
    },
    {
      "cell_type": "code",
      "source": [
        "xenc.shape"
      ],
      "metadata": {
        "colab": {
          "base_uri": "https://localhost:8080/"
        },
        "id": "ypRDk7WcO667",
        "outputId": "964733ba-3542-4c56-b903-6f88759ae25b"
      },
      "execution_count": null,
      "outputs": [
        {
          "output_type": "execute_result",
          "data": {
            "text/plain": [
              "torch.Size([5, 27])"
            ]
          },
          "metadata": {},
          "execution_count": 26
        }
      ]
    },
    {
      "cell_type": "code",
      "source": [
        "plt.imshow(xenc)"
      ],
      "metadata": {
        "colab": {
          "base_uri": "https://localhost:8080/",
          "height": 170
        },
        "id": "33VtTM9wS3SR",
        "outputId": "17cc7600-4cc6-4c94-d6c0-594bc4c4b979"
      },
      "execution_count": null,
      "outputs": [
        {
          "output_type": "execute_result",
          "data": {
            "text/plain": [
              "<matplotlib.image.AxesImage at 0x7cb8683bc280>"
            ]
          },
          "metadata": {},
          "execution_count": 27
        },
        {
          "output_type": "display_data",
          "data": {
            "text/plain": [
              "<Figure size 640x480 with 1 Axes>"
            ],
            "image/png": "[encoded data removed]"
          },
          "metadata": {}
        }
      ]
    },
    {
      "cell_type": "markdown",
      "source": [
        "Let's construct the first neuron:"
      ],
      "metadata": {
        "id": "zBZOtLeDeYEA"
      }
    },
    {
      "cell_type": "code",
      "source": [
        "W = torch.randn((27,27)) #create 27 neurons\n",
        "xenc @ W # @ is matrix multiplication operator in Pytorch\n",
        "#(5, 27) @ (27, 27) -> (5, 27)"
      ],
      "metadata": {
        "colab": {
          "base_uri": "https://localhost:8080/"
        },
        "id": "q1prA6fWS3z_",
        "outputId": "f34d3f08-0dd7-4dba-fad5-f6528610cd88"
      },
      "execution_count": null,
      "outputs": [
        {
          "output_type": "execute_result",
          "data": {
            "text/plain": [
              "tensor([[-0.5023,  0.2737, -0.7040,  1.2859, -1.2839, -0.0954, -1.4243, -1.9242,\n",
              "         -1.4305, -0.3720, -2.2555,  0.0437,  0.5143, -1.7029,  0.2167, -0.1636,\n",
              "          1.2915,  0.7253, -0.3544,  0.0930,  0.0731, -1.5825,  1.3939, -1.3907,\n",
              "         -0.1938, -1.2698,  0.3577],\n",
              "        [-1.7161, -0.2245,  0.2029, -0.3998, -2.0817,  0.6146, -1.0192,  0.4130,\n",
              "          1.5548, -0.3982,  0.2999,  1.5060, -0.2639, -0.6531,  0.4903,  1.1029,\n",
              "         -0.7289,  0.9763, -0.2341, -1.0607, -0.7388,  1.1374, -1.7223,  0.7723,\n",
              "          0.6906,  0.4122,  1.1141],\n",
              "        [ 2.8094,  1.6446,  0.9895,  0.0570, -1.6142,  0.2609, -0.7156, -1.1090,\n",
              "         -1.0029, -0.0374, -1.8957,  0.6420,  1.6987, -0.2327,  0.2578,  0.9591,\n",
              "         -0.2608, -0.7567,  1.7598,  1.1581,  0.7161,  0.5504,  0.4272,  0.0402,\n",
              "          1.2446,  0.5618, -0.4012],\n",
              "        [ 2.8094,  1.6446,  0.9895,  0.0570, -1.6142,  0.2609, -0.7156, -1.1090,\n",
              "         -1.0029, -0.0374, -1.8957,  0.6420,  1.6987, -0.2327,  0.2578,  0.9591,\n",
              "         -0.2608, -0.7567,  1.7598,  1.1581,  0.7161,  0.5504,  0.4272,  0.0402,\n",
              "          1.2446,  0.5618, -0.4012],\n",
              "        [ 1.0059,  0.3282, -0.4273, -0.1327, -0.8501,  1.5551, -0.0427,  0.4879,\n",
              "          0.3573,  0.4398, -0.2879,  1.9210, -0.1828,  0.9509, -0.3823,  0.6171,\n",
              "         -0.7255, -1.7899,  0.8370,  0.2248,  0.8824,  0.8218,  0.7384,  0.6356,\n",
              "         -0.4847,  0.0923,  0.2895]])"
            ]
          },
          "metadata": {},
          "execution_count": 28
        }
      ]
    },
    {
      "cell_type": "code",
      "source": [
        "(xenc @ W)[3,13] #firing rate of the 13th neuron looking at the 3rd input"
      ],
      "metadata": {
        "colab": {
          "base_uri": "https://localhost:8080/"
        },
        "id": "r9lZPBa-fgUU",
        "outputId": "e2f48221-6cf9-4ed6-db68-89be9cca56b0"
      },
      "execution_count": null,
      "outputs": [
        {
          "output_type": "execute_result",
          "data": {
            "text/plain": [
              "tensor(-0.2327)"
            ]
          },
          "metadata": {},
          "execution_count": 29
        }
      ]
    },
    {
      "cell_type": "markdown",
      "source": [
        "We will consider the output of the neural network as a log(count). To get the count and obtain probabilities, we need to exponentiate the output of the layer of 27 neurons.\n",
        "\n",
        "After exponentiating, all the negative numbers are converted to a number below 1 (but positive)."
      ],
      "metadata": {
        "id": "HtFe3IhkmsRM"
      }
    },
    {
      "cell_type": "code",
      "source": [
        "logits = (xenc @ W).exp() #log-counts\n",
        "counts = logits.exp() #equivalent to N matrix (arrays of counts)\n",
        "probs = counts / counts.sum(1, keepdims=True) #normalize counts to get a probability distribution\n",
        "probs"
      ],
      "metadata": {
        "colab": {
          "base_uri": "https://localhost:8080/"
        },
        "id": "GAHURsypnNpC",
        "outputId": "5307d04b-72b5-4c26-f32f-268a253fd39c"
      },
      "execution_count": null,
      "outputs": [
        {
          "output_type": "execute_result",
          "data": {
            "text/plain": [
              "tensor([[9.6051e-03, 1.9531e-02, 8.5998e-03, 1.9541e-01, 6.9178e-03, 1.3015e-02,\n",
              "         6.6713e-03, 6.0686e-03, 6.6614e-03, 1.0449e-02, 5.8239e-03, 1.4907e-02,\n",
              "         2.7927e-02, 6.2921e-03, 1.8158e-02, 1.2258e-02, 1.9943e-01, 4.1368e-02,\n",
              "         1.0578e-02, 1.5715e-02, 1.5379e-02, 6.4405e-03, 2.9526e-01, 6.7264e-03,\n",
              "         1.1953e-02, 6.9450e-03, 2.1915e-02],\n",
              "        [3.4350e-03, 6.3799e-03, 9.7691e-03, 5.6109e-03, 3.2510e-03, 1.8232e-02,\n",
              "         4.1170e-03, 1.3008e-02, 3.2652e-01, 5.6170e-03, 1.1067e-02, 2.6059e-01,\n",
              "         6.1859e-03, 4.8292e-03, 1.4689e-02, 5.8397e-02, 4.6491e-03, 4.0809e-02,\n",
              "         6.3312e-03, 4.0570e-03, 4.6271e-03, 6.4903e-02, 3.4312e-03, 2.5002e-02,\n",
              "         2.1095e-02, 1.2992e-02, 6.0405e-02],\n",
              "        [9.9994e-01, 1.0968e-05, 9.1034e-07, 1.7814e-07, 7.5413e-08, 2.2633e-07,\n",
              "         1.0077e-07, 8.5953e-08, 8.9187e-08, 1.6193e-07, 7.1818e-08, 4.1328e-07,\n",
              "         1.4633e-05, 1.3650e-07, 2.2542e-07, 8.3978e-07, 1.3353e-07, 9.8803e-08,\n",
              "         2.0648e-05, 1.4917e-06, 4.7839e-07, 3.5000e-07, 2.8626e-07, 1.7502e-07,\n",
              "         1.9895e-06, 3.5702e-07, 1.2072e-07],\n",
              "        [9.9994e-01, 1.0968e-05, 9.1034e-07, 1.7814e-07, 7.5413e-08, 2.2633e-07,\n",
              "         1.0077e-07, 8.5953e-08, 8.9187e-08, 1.6193e-07, 7.1818e-08, 4.1328e-07,\n",
              "         1.4633e-05, 1.3650e-07, 2.2542e-07, 8.3978e-07, 1.3353e-07, 9.8803e-08,\n",
              "         2.0648e-05, 1.4917e-06, 4.7839e-07, 3.5000e-07, 2.8626e-07, 1.7502e-07,\n",
              "         1.9895e-06, 3.5702e-07, 1.2072e-07],\n",
              "        [1.3212e-02, 3.4387e-03, 1.6469e-03, 2.0593e-03, 1.3152e-03, 9.7715e-02,\n",
              "         2.2363e-03, 4.3733e-03, 3.5826e-03, 4.0513e-03, 1.8157e-03, 7.9196e-01,\n",
              "         1.9730e-03, 1.1411e-02, 1.6970e-03, 5.4752e-03, 1.3920e-03, 1.0137e-03,\n",
              "         8.6376e-03, 3.0002e-03, 9.6141e-03, 8.3406e-03, 6.9529e-03, 5.6674e-03,\n",
              "         1.5881e-03, 2.5684e-03, 3.2620e-03]])"
            ]
          },
          "metadata": {},
          "execution_count": 30
        }
      ]
    },
    {
      "cell_type": "code",
      "source": [
        "probs[0] #probability distribution of each of the 27 character coming after a [0], a dot."
      ],
      "metadata": {
        "colab": {
          "base_uri": "https://localhost:8080/"
        },
        "id": "j1qysDwDp7zw",
        "outputId": "986b3adf-fbbd-46a4-a246-e1c5f1c21918"
      },
      "execution_count": null,
      "outputs": [
        {
          "output_type": "execute_result",
          "data": {
            "text/plain": [
              "tensor([0.0096, 0.0195, 0.0086, 0.1954, 0.0069, 0.0130, 0.0067, 0.0061, 0.0067,\n",
              "        0.0104, 0.0058, 0.0149, 0.0279, 0.0063, 0.0182, 0.0123, 0.1994, 0.0414,\n",
              "        0.0106, 0.0157, 0.0154, 0.0064, 0.2953, 0.0067, 0.0120, 0.0069, 0.0219])"
            ]
          },
          "metadata": {},
          "execution_count": 31
        }
      ]
    },
    {
      "cell_type": "markdown",
      "source": [
        "#Summary\n",
        "of the feeding and output process. Feeding an 'a' into the neural network:\n",
        "\n",
        "1- Got 'a' index (=1)\n",
        "2- One-hot encode it (27 sized vector of zeroes except for 1st position, representing 'a')\n",
        "3- Into the neural net\n",
        "4- Out interpreted as log-counts(logit)\n",
        "5- Exponentiate to eliminate negative counts\n",
        "6- nrmalize to get probability distribution"
      ],
      "metadata": {
        "id": "qtbKtUWjpInb"
      }
    },
    {
      "cell_type": "code",
      "source": [
        "xs"
      ],
      "metadata": {
        "colab": {
          "base_uri": "https://localhost:8080/"
        },
        "id": "4tFRxeQT0OJ_",
        "outputId": "26cfb74b-f62a-490b-e91d-6de0edf5cd78"
      },
      "execution_count": null,
      "outputs": [
        {
          "output_type": "execute_result",
          "data": {
            "text/plain": [
              "tensor([ 0,  5, 13, 13,  1])"
            ]
          },
          "metadata": {},
          "execution_count": 32
        }
      ]
    },
    {
      "cell_type": "code",
      "source": [
        "ys"
      ],
      "metadata": {
        "colab": {
          "base_uri": "https://localhost:8080/"
        },
        "id": "IDXXZS4n0TOQ",
        "outputId": "e03f69f6-24e5-4abb-f7b2-a18880a382eb"
      },
      "execution_count": null,
      "outputs": [
        {
          "output_type": "execute_result",
          "data": {
            "text/plain": [
              "tensor([ 5, 13, 13,  1,  0])"
            ]
          },
          "metadata": {},
          "execution_count": 33
        }
      ]
    },
    {
      "cell_type": "code",
      "source": [
        "# randomly initialize 27 neurons' weights. each neuron receives 27 inputs\n",
        "g = torch.Generator().manual_seed(2147483647)\n",
        "W = torch.randn((27, 27), generator=g)"
      ],
      "metadata": {
        "id": "0zo-_hGn0UAR"
      },
      "execution_count": null,
      "outputs": []
    },
    {
      "cell_type": "code",
      "source": [
        "xenc = F.one_hot(xs, num_classes=27).float() # input to the network: one-hot encoding\n",
        "logits = xenc @ W # predict log-counts\n",
        "counts = logits.exp() # counts, equivalent to N\n",
        "probs = counts / counts.sum(1, keepdims=True) # probabilities for next character\n",
        "# btw: the last 2 lines here are together called a 'softmax'"
      ],
      "metadata": {
        "id": "SChcgvve0UlZ"
      },
      "execution_count": null,
      "outputs": []
    },
    {
      "cell_type": "code",
      "source": [
        "probs.shape"
      ],
      "metadata": {
        "colab": {
          "base_uri": "https://localhost:8080/"
        },
        "id": "tXg4wneL0Uxp",
        "outputId": "460d7505-1936-4437-d7d5-44eb83e4bf9a"
      },
      "execution_count": null,
      "outputs": [
        {
          "output_type": "execute_result",
          "data": {
            "text/plain": [
              "torch.Size([5, 27])"
            ]
          },
          "metadata": {},
          "execution_count": 36
        }
      ]
    },
    {
      "cell_type": "code",
      "source": [
        "nlls = torch.zeros(5)\n",
        "for i in range(5):\n",
        "  # i-th bigram:\n",
        "  x = xs[i].item() # input character index\n",
        "  y = ys[i].item() # label character index\n",
        "  print('--------')\n",
        "  print(f'bigram example {i+1}: {itos[x]}{itos[y]} (indexes {x},{y})')\n",
        "  print('input to the neural net:', x)\n",
        "  print('output probabilities from the neural net:', probs[i])\n",
        "  print('label (actual next character):', y)\n",
        "  p = probs[i, y]\n",
        "  print('probability assigned by the net to the the correct character:', p.item())\n",
        "  logp = torch.log(p)\n",
        "  print('log likelihood:', logp.item())\n",
        "  nll = -logp\n",
        "  print('negative log likelihood:', nll.item())\n",
        "  nlls[i] = nll\n",
        "\n",
        "print('=========')\n",
        "print('average negative log likelihood, i.e. loss =', nlls.mean().item())"
      ],
      "metadata": {
        "colab": {
          "base_uri": "https://localhost:8080/"
        },
        "id": "bAWzZyio0asI",
        "outputId": "c4728309-0071-4d59-8ed3-5d72d84bad25"
      },
      "execution_count": null,
      "outputs": [
        {
          "output_type": "stream",
          "name": "stdout",
          "text": [
            "--------\n",
            "bigram example 1: .e (indexes 0,5)\n",
            "input to the neural net: 0\n",
            "output probabilities from the neural net: tensor([0.0607, 0.0100, 0.0123, 0.0042, 0.0168, 0.0123, 0.0027, 0.0232, 0.0137,\n",
            "        0.0313, 0.0079, 0.0278, 0.0091, 0.0082, 0.0500, 0.2378, 0.0603, 0.0025,\n",
            "        0.0249, 0.0055, 0.0339, 0.0109, 0.0029, 0.0198, 0.0118, 0.1537, 0.1459])\n",
            "label (actual next character): 5\n",
            "probability assigned by the net to the the correct character: 0.01228625513613224\n",
            "log likelihood: -4.399273872375488\n",
            "negative log likelihood: 4.399273872375488\n",
            "--------\n",
            "bigram example 2: em (indexes 5,13)\n",
            "input to the neural net: 5\n",
            "output probabilities from the neural net: tensor([0.0290, 0.0796, 0.0248, 0.0521, 0.1989, 0.0289, 0.0094, 0.0335, 0.0097,\n",
            "        0.0301, 0.0702, 0.0228, 0.0115, 0.0181, 0.0108, 0.0315, 0.0291, 0.0045,\n",
            "        0.0916, 0.0215, 0.0486, 0.0300, 0.0501, 0.0027, 0.0118, 0.0022, 0.0472])\n",
            "label (actual next character): 13\n",
            "probability assigned by the net to the the correct character: 0.018050700426101685\n",
            "log likelihood: -4.014570713043213\n",
            "negative log likelihood: 4.014570713043213\n",
            "--------\n",
            "bigram example 3: mm (indexes 13,13)\n",
            "input to the neural net: 13\n",
            "output probabilities from the neural net: tensor([0.0312, 0.0737, 0.0484, 0.0333, 0.0674, 0.0200, 0.0263, 0.0249, 0.1226,\n",
            "        0.0164, 0.0075, 0.0789, 0.0131, 0.0267, 0.0147, 0.0112, 0.0585, 0.0121,\n",
            "        0.0650, 0.0058, 0.0208, 0.0078, 0.0133, 0.0203, 0.1204, 0.0469, 0.0126])\n",
            "label (actual next character): 13\n",
            "probability assigned by the net to the the correct character: 0.026691533625125885\n",
            "log likelihood: -3.623408794403076\n",
            "negative log likelihood: 3.623408794403076\n",
            "--------\n",
            "bigram example 4: ma (indexes 13,1)\n",
            "input to the neural net: 13\n",
            "output probabilities from the neural net: tensor([0.0312, 0.0737, 0.0484, 0.0333, 0.0674, 0.0200, 0.0263, 0.0249, 0.1226,\n",
            "        0.0164, 0.0075, 0.0789, 0.0131, 0.0267, 0.0147, 0.0112, 0.0585, 0.0121,\n",
            "        0.0650, 0.0058, 0.0208, 0.0078, 0.0133, 0.0203, 0.1204, 0.0469, 0.0126])\n",
            "label (actual next character): 1\n",
            "probability assigned by the net to the the correct character: 0.07367686182260513\n",
            "log likelihood: -2.6080665588378906\n",
            "negative log likelihood: 2.6080665588378906\n",
            "--------\n",
            "bigram example 5: a. (indexes 1,0)\n",
            "input to the neural net: 1\n",
            "output probabilities from the neural net: tensor([0.0150, 0.0086, 0.0396, 0.0100, 0.0606, 0.0308, 0.1084, 0.0131, 0.0125,\n",
            "        0.0048, 0.1024, 0.0086, 0.0988, 0.0112, 0.0232, 0.0207, 0.0408, 0.0078,\n",
            "        0.0899, 0.0531, 0.0463, 0.0309, 0.0051, 0.0329, 0.0654, 0.0503, 0.0091])\n",
            "label (actual next character): 0\n",
            "probability assigned by the net to the the correct character: 0.014977526850998402\n",
            "log likelihood: -4.201204299926758\n",
            "negative log likelihood: 4.201204299926758\n",
            "=========\n",
            "average negative log likelihood, i.e. loss = 3.7693049907684326\n"
          ]
        }
      ]
    },
    {
      "cell_type": "markdown",
      "source": [
        "#Optimization of the neural network"
      ],
      "metadata": {
        "id": "6Gwno-YQ2O10"
      }
    },
    {
      "cell_type": "markdown",
      "source": [
        "##Example"
      ],
      "metadata": {
        "id": "CBQjWJTL5i7z"
      }
    },
    {
      "cell_type": "code",
      "source": [
        "xs"
      ],
      "metadata": {
        "colab": {
          "base_uri": "https://localhost:8080/",
          "height": 176
        },
        "id": "TAYHXTNM0a6p",
        "outputId": "9fbf2515-796f-4bfb-eacc-c7843eafea26"
      },
      "execution_count": 2,
      "outputs": [
        {
          "output_type": "error",
          "ename": "NameError",
          "evalue": "ignored",
          "traceback": [
            "\u001b[0;31m---------------------------------------------------------------------------\u001b[0m",
            "\u001b[0;31mNameError\u001b[0m                                 Traceback (most recent call last)",
            "\u001b[0;32m<ipython-input-2-6ac47325ab89>\u001b[0m in \u001b[0;36m<cell line: 1>\u001b[0;34m()\u001b[0m\n\u001b[0;32m----> 1\u001b[0;31m \u001b[0mxs\u001b[0m\u001b[0;34m\u001b[0m\u001b[0;34m\u001b[0m\u001b[0m\n\u001b[0m",
            "\u001b[0;31mNameError\u001b[0m: name 'xs' is not defined"
          ]
        }
      ]
    },
    {
      "cell_type": "code",
      "source": [
        "ys"
      ],
      "metadata": {
        "colab": {
          "base_uri": "https://localhost:8080/",
          "height": 176
        },
        "id": "CMTNTU0l3O79",
        "outputId": "b09af9a9-fe74-4a39-868d-828d93a6aaf4"
      },
      "execution_count": 3,
      "outputs": [
        {
          "output_type": "error",
          "ename": "NameError",
          "evalue": "ignored",
          "traceback": [
            "\u001b[0;31m---------------------------------------------------------------------------\u001b[0m",
            "\u001b[0;31mNameError\u001b[0m                                 Traceback (most recent call last)",
            "\u001b[0;32m<ipython-input-3-7176a10176a2>\u001b[0m in \u001b[0;36m<cell line: 1>\u001b[0;34m()\u001b[0m\n\u001b[0;32m----> 1\u001b[0;31m \u001b[0mys\u001b[0m\u001b[0;34m\u001b[0m\u001b[0;34m\u001b[0m\u001b[0m\n\u001b[0m",
            "\u001b[0;31mNameError\u001b[0m: name 'ys' is not defined"
          ]
        }
      ]
    },
    {
      "cell_type": "code",
      "source": [
        "# randomly initialize 27 neurons' weights. each neuron receives 27 inputs\n",
        "g = torch.Generator().manual_seed(2147483647)\n",
        "W = torch.randn((27, 27), generator=g, requires_grad = True)"
      ],
      "metadata": {
        "id": "mLhAidf-3PZc"
      },
      "execution_count": null,
      "outputs": []
    },
    {
      "cell_type": "code",
      "source": [
        "# forward pass\n",
        "xenc = F.one_hot(xs, num_classes=27).float() # input to the network: one-hot encoding\n",
        "logits = xenc @ W # predict log-counts\n",
        "counts = logits.exp() # counts, equivalent to N\n",
        "probs = counts / counts.sum(1, keepdims=True) # probabilities for next character\n",
        "loss = -probs[torch.arange(5), ys].log().mean()"
      ],
      "metadata": {
        "id": "bCf6OE4x3Tge"
      },
      "execution_count": null,
      "outputs": []
    },
    {
      "cell_type": "code",
      "source": [
        "# backward pass\n",
        "W.grad = None #set the gradient to zero\n",
        "loss.backward() #Pytorch stores all the dependencies"
      ],
      "metadata": {
        "id": "9s3xV-IS4FyD"
      },
      "execution_count": null,
      "outputs": []
    },
    {
      "cell_type": "code",
      "source": [
        "# update\n",
        "W.data += -0.1 * W.grad #negative (we want to minimize loss) learning step"
      ],
      "metadata": {
        "id": "4CShYr9D4p4b"
      },
      "execution_count": null,
      "outputs": []
    },
    {
      "cell_type": "code",
      "source": [
        "print(loss.item())"
      ],
      "metadata": {
        "id": "ylzNMmIX5PZj"
      },
      "execution_count": null,
      "outputs": []
    },
    {
      "cell_type": "markdown",
      "source": [
        "## Rearranged"
      ],
      "metadata": {
        "id": "MrfqjYfR5mFO"
      }
    },
    {
      "cell_type": "code",
      "source": [
        "# create the dataset\n",
        "xs, ys = [], []\n",
        "for w in words:\n",
        "  chs = ['.'] + list(w) + ['.']\n",
        "  for ch1, ch2 in zip(chs, chs[1:]):\n",
        "    ix1 = stoi[ch1]\n",
        "    ix2 = stoi[ch2]\n",
        "    xs.append(ix1)\n",
        "    ys.append(ix2)\n",
        "xs = torch.tensor(xs)\n",
        "ys = torch.tensor(ys)\n",
        "num = xs.nelement()\n",
        "print('number of examples: ', num)\n",
        "\n",
        "# initialize the 'network'\n",
        "g = torch.Generator().manual_seed(2147483647)\n",
        "W = torch.randn((27, 27), generator=g, requires_grad=True)"
      ],
      "metadata": {
        "colab": {
          "base_uri": "https://localhost:8080/"
        },
        "id": "VtAqHnDv5qME",
        "outputId": "c2678a19-df28-41fa-e447-c222e3e0fa59"
      },
      "execution_count": null,
      "outputs": [
        {
          "output_type": "stream",
          "name": "stdout",
          "text": [
            "number of examples:  228146\n"
          ]
        }
      ]
    },
    {
      "cell_type": "code",
      "source": [
        "#Regularization loss and model smoothing\n",
        "# Same as we added 1 to eliminate bigrams wit 0 probability, we can make the matrix of parameters W close to 0 to make the probabilities more uniform\n",
        "(W**2).mean()\n",
        "#This term 'forces' probabilities to be uniform (W has to be close to 0)."
      ],
      "metadata": {
        "colab": {
          "base_uri": "https://localhost:8080/"
        },
        "id": "FU55pAgGWEc0",
        "outputId": "1f6f5b7f-d479-4e61-94c4-cf0452ac296d"
      },
      "execution_count": null,
      "outputs": [
        {
          "output_type": "execute_result",
          "data": {
            "text/plain": [
              "tensor(0.9665, grad_fn=<MeanBackward0>)"
            ]
          },
          "metadata": {},
          "execution_count": 50
        }
      ]
    },
    {
      "cell_type": "code",
      "source": [
        "# gradient descent\n",
        "for k in range(10):\n",
        "\n",
        "  # forward pass\n",
        "  xenc = F.one_hot(xs, num_classes=27).float() # input to the network: one-hot encoding\n",
        "  logits = xenc @ W # predict log-counts\n",
        "  counts = logits.exp() # counts, equivalent to N\n",
        "  probs = counts / counts.sum(1, keepdims=True) # probabilities for next character\n",
        "  loss = -probs[torch.arange(num), ys].log().mean() + 0.01*(W**2).mean() #regularization loss added\n",
        "  print(loss.item())\n",
        "\n",
        "  # backward pass\n",
        "  W.grad = None # set to zero the gradient\n",
        "  loss.backward()\n",
        "\n",
        "  # update\n",
        "  W.data += -50 * W.grad"
      ],
      "metadata": {
        "colab": {
          "base_uri": "https://localhost:8080/"
        },
        "id": "2pGTcWxp5sXt",
        "outputId": "53ddeb76-9a66-45b3-8868-127182733bfd"
      },
      "execution_count": null,
      "outputs": [
        {
          "output_type": "stream",
          "name": "stdout",
          "text": [
            "3.7686190605163574\n",
            "3.3788065910339355\n",
            "3.16109037399292\n",
            "3.0271859169006348\n",
            "2.9344842433929443\n",
            "2.867231607437134\n",
            "2.8166542053222656\n",
            "2.777146339416504\n",
            "2.7452542781829834\n",
            "2.7188303470611572\n"
          ]
        }
      ]
    },
    {
      "cell_type": "code",
      "source": [
        "# finally, sample from the 'neural net' model\n",
        "g = torch.Generator().manual_seed(2147483647)\n",
        "\n",
        "for i in range(5):\n",
        "\n",
        "  out = []\n",
        "  ix = 0\n",
        "  while True:\n",
        "\n",
        "    # ----------\n",
        "    # BEFORE:\n",
        "    #p = P[ix]\n",
        "    # ----------\n",
        "    # NOW:\n",
        "    xenc = F.one_hot(torch.tensor([ix]), num_classes=27).float()\n",
        "    logits = xenc @ W # predict log-counts\n",
        "    counts = logits.exp() # counts, equivalent to N\n",
        "    p = counts / counts.sum(1, keepdims=True) # probabilities for next character\n",
        "    # ----------\n",
        "\n",
        "    ix = torch.multinomial(p, num_samples=1, replacement=True, generator=g).item()\n",
        "    out.append(itos[ix])\n",
        "    if ix == 0:\n",
        "      break\n",
        "  print(''.join(out))"
      ],
      "metadata": {
        "colab": {
          "base_uri": "https://localhost:8080/"
        },
        "id": "qkWP7dCx5tzc",
        "outputId": "6073ebe4-7466-480e-da44-c7bbb782d9e2"
      },
      "execution_count": null,
      "outputs": [
        {
          "output_type": "stream",
          "name": "stdout",
          "text": [
            "juwjde.\n",
            "janaqydjufhfbywe.\n",
            "nn.\n",
            "ksh.\n",
            "ritoleras.\n"
          ]
        }
      ]
    },
    {
      "cell_type": "markdown",
      "source": [
        "#Makemore Exercises\n",
        "\n",
        "Makemore source code: https://github.com/karpathy/makemore\n",
        "Makemore YouTube spelled-out:https://www.youtube.com/watch?v=PaCmpygFfXo&ab_channel=AndrejKarpathy"
      ],
      "metadata": {
        "id": "RThI-H5-8QUg"
      }
    },
    {
      "cell_type": "markdown",
      "source": [
        "#E01 Trigram language model\n",
        "Train a trigram language model, i.e. take two characters as an input to predict the 3rd one. Feel free to use either counting or a neural net. Evaluate the loss; Did it improve over a bigram model?"
      ],
      "metadata": {
        "id": "47nGDeMs8APy"
      }
    },
    {
      "cell_type": "markdown",
      "source": [
        "##Using Counting"
      ],
      "metadata": {
        "id": "M2QrqHx2h434"
      }
    },
    {
      "cell_type": "code",
      "source": [
        "import torch"
      ],
      "metadata": {
        "id": "U-RW7g8G8Cbc"
      },
      "execution_count": null,
      "outputs": []
    },
    {
      "cell_type": "code",
      "source": [
        "N = torch.zeros((27, 27, 27), dtype =torch.int32)   #3D-array of 26 letters+start/ending\n"
      ],
      "metadata": {
        "id": "pFA1woiraSit"
      },
      "execution_count": null,
      "outputs": []
    },
    {
      "cell_type": "code",
      "source": [
        "chars = sorted(list(set(''.join(words)))) #sorted alphabet\n",
        "stoi = {s:i+1 for i,s in enumerate(chars)} # s to i mapping: {'a':1, 'b':2,...}\n",
        "stoi['.']=0\n",
        "itos = {i:s for s,i in stoi.items()} #reversed mapping: i to s"
      ],
      "metadata": {
        "id": "vU3APRLHae0-"
      },
      "execution_count": null,
      "outputs": []
    },
    {
      "cell_type": "code",
      "source": [
        "for w in words:\n",
        "  chs = '..' + w + '.'\n",
        "  for ch1, ch2, ch3 in zip(chs, chs[1:], chs[2:]): #chs is 'emma', while chs[1:] is 'mma'\n",
        "    #indexing\n",
        "    ix1 = stoi[ch1]\n",
        "    ix2 = stoi[ch2]\n",
        "    ix3 = stoi[ch3]\n",
        "    #print(ch1,ch2,ch3)\n",
        "    N[ix1, ix2, ix3] += 1 #matrix of counts"
      ],
      "metadata": {
        "id": "bMsp3XiwcKqN"
      },
      "execution_count": null,
      "outputs": []
    },
    {
      "cell_type": "code",
      "source": [
        "N[0,1,13] #frequency of string '.am'"
      ],
      "metadata": {
        "colab": {
          "base_uri": "https://localhost:8080/"
        },
        "id": "6Ecb5DF_fpgU",
        "outputId": "cd24aea8-6dfb-4c55-9d57-fd4c4453ee07"
      },
      "execution_count": null,
      "outputs": [
        {
          "output_type": "execute_result",
          "data": {
            "text/plain": [
              "tensor(384, dtype=torch.int32)"
            ]
          },
          "metadata": {},
          "execution_count": 57
        }
      ]
    },
    {
      "cell_type": "code",
      "source": [
        "p = (N+1).float() #cast N to floats so we can make probabilities. +1 for smoothing and eliminate 0 probability\n",
        "print('#appearances of each letter after \".a \" string: \\n', p[0,1])\n",
        "#p[0,1] = p[0,1,:]"
      ],
      "metadata": {
        "colab": {
          "base_uri": "https://localhost:8080/"
        },
        "id": "hVQu8hkSnwUh",
        "outputId": "b88ebd16-19ba-46cd-8925-954daef231fa"
      },
      "execution_count": null,
      "outputs": [
        {
          "output_type": "stream",
          "name": "stdout",
          "text": [
            "#appearances of each letter after \".a \" string: \n",
            " tensor([  1., 208., 191.,  32., 367.,  56.,  22.,  18.,  92., 155.,  28.,  76.,\n",
            "        633., 385., 624.,  11.,  18.,  10., 483., 195.,  73., 153., 244.,   7.,\n",
            "         28., 174., 153.])\n"
          ]
        }
      ]
    },
    {
      "cell_type": "code",
      "source": [
        "p[0,1] /= p[0,1].sum()\n",
        "print('prob of each letter after \".a \" string: \\n', p[0,1])\n",
        "print('sum of prob: ', p[0,1].sum())"
      ],
      "metadata": {
        "colab": {
          "base_uri": "https://localhost:8080/"
        },
        "id": "iH8kezrkoX07",
        "outputId": "169c586d-2a24-4298-f109-a0651893c17b"
      },
      "execution_count": null,
      "outputs": [
        {
          "output_type": "stream",
          "name": "stdout",
          "text": [
            "prob of each letter after \".a \" string: \n",
            " tensor([0.0002, 0.0469, 0.0430, 0.0072, 0.0827, 0.0126, 0.0050, 0.0041, 0.0207,\n",
            "        0.0349, 0.0063, 0.0171, 0.1427, 0.0868, 0.1406, 0.0025, 0.0041, 0.0023,\n",
            "        0.1089, 0.0439, 0.0165, 0.0345, 0.0550, 0.0016, 0.0063, 0.0392, 0.0345])\n",
            "sum of prob:  tensor(1.0000)\n"
          ]
        }
      ]
    },
    {
      "cell_type": "code",
      "source": [
        "p = (N+1).float() #cast N to floats so we can make probabilities. +1 for smoothing and eliminate 0 probability\n",
        "#We normalize along 3rd dimension. we will have a 2D-matrix containing probability distribution for the next character\n",
        "for ix1 in range(27):\n",
        "  for ix2 in range (27):\n",
        "    p[ix1, ix2] /= p[ix1, ix2].sum()\n"
      ],
      "metadata": {
        "id": "N53J6Y7ZhEep"
      },
      "execution_count": null,
      "outputs": []
    },
    {
      "cell_type": "code",
      "source": [
        "p[0,1]"
      ],
      "metadata": {
        "colab": {
          "base_uri": "https://localhost:8080/"
        },
        "id": "8Cuk68mxmD9w",
        "outputId": "2e718930-f0f7-4bc9-bc53-b9cb7eeb570c"
      },
      "execution_count": null,
      "outputs": [
        {
          "output_type": "execute_result",
          "data": {
            "text/plain": [
              "tensor([0.0002, 0.0469, 0.0430, 0.0072, 0.0827, 0.0126, 0.0050, 0.0041, 0.0207,\n",
              "        0.0349, 0.0063, 0.0171, 0.1427, 0.0868, 0.1406, 0.0025, 0.0041, 0.0023,\n",
              "        0.1089, 0.0439, 0.0165, 0.0345, 0.0550, 0.0016, 0.0063, 0.0392, 0.0345])"
            ]
          },
          "metadata": {},
          "execution_count": 61
        }
      ]
    },
    {
      "cell_type": "code",
      "source": [
        "sample = torch.multinomial(p[0,1], num_samples=20, replacement=True)\n",
        "#sample = torch.multinomial(p[0,1], num_samples=20, replacement=True).item()\n",
        "#print(itos[sample])\n",
        "sample"
      ],
      "metadata": {
        "colab": {
          "base_uri": "https://localhost:8080/"
        },
        "id": "16mbyW7_qwUs",
        "outputId": "699d97e9-bae5-4a40-fb80-49692fc9252d"
      },
      "execution_count": null,
      "outputs": [
        {
          "output_type": "execute_result",
          "data": {
            "text/plain": [
              "tensor([ 2, 14, 12, 18,  5,  4, 26, 22, 21, 12, 12,  1, 18, 12,  4,  1, 18,  5,\n",
              "         4, 14])"
            ]
          },
          "metadata": {},
          "execution_count": 62
        }
      ]
    },
    {
      "cell_type": "code",
      "source": [
        "P=(N+1).float()\n",
        "for ix1 in range(27):\n",
        "  for ix2 in range (27):\n",
        "    P[ix1, ix2] /= P[ix1, ix2].sum()\n",
        "\n",
        "#P is now matrix of probabilities (we don't perform calculations inside the for loop)"
      ],
      "metadata": {
        "id": "IBNtGiMZp6Cm"
      },
      "execution_count": null,
      "outputs": []
    },
    {
      "cell_type": "code",
      "source": [
        "for i in range(10):\n",
        "  out = []\n",
        "  ix1 = 0\n",
        "  ix2 = 0 #second character of first iteration is also .\n",
        "\n",
        "  while True:\n",
        "    p = P[ix1, ix2]\n",
        "    ix_new = torch.multinomial(p, num_samples=1, replacement=True).item()\n",
        "    out.append(itos[ix_new])\n",
        "    ix1 = ix2\n",
        "    ix2 = ix_new\n",
        "    if ix_new == 0:\n",
        "      break\n",
        "  print(''.join(out))"
      ],
      "metadata": {
        "colab": {
          "base_uri": "https://localhost:8080/"
        },
        "id": "5sIUAy8kuwRD",
        "outputId": "ff938eba-cbdd-4ed8-8b91-d6066257ab5b"
      },
      "execution_count": null,
      "outputs": [
        {
          "output_type": "stream",
          "name": "stdout",
          "text": [
            "sa.\n",
            "dalaylestaku.\n",
            "romia.\n",
            "vettuccey.\n",
            "gluwermreyleya.\n",
            "paya.\n",
            "saidylee.\n",
            "beliamahrisirfelanuria.\n",
            "cygegs.\n",
            "khri.\n"
          ]
        }
      ]
    },
    {
      "cell_type": "markdown",
      "source": [
        "Evaluate the quality of the model."
      ],
      "metadata": {
        "id": "b3OddYBGeu2U"
      }
    },
    {
      "cell_type": "code",
      "source": [
        "log_likelihood = 0.0\n",
        "n = 0\n",
        "for w in words:\n",
        "  chs = '..' + w + '.'\n",
        "  for ch1, ch2, ch3 in zip(chs, chs[1:], chs[2:]): #chs is 'emma', while chs[1:] is 'mma'\n",
        "    #indexing\n",
        "    ix1 = stoi[ch1]\n",
        "    ix2 = stoi[ch2]\n",
        "    ix3 = stoi[ch3]\n",
        "    prob = P[ix1, ix2, ix3]\n",
        "    logprob = torch.log(prob)\n",
        "    log_likelihood += logprob\n",
        "    n += 1\n",
        "    #print(f'{ch1}{ch2}{ch3}: {prob:.4f} {logprob:.4f}')\n",
        "\n",
        "print(f'{log_likelihood = }')\n",
        "nll = -log_likelihood\n",
        "print(f'{nll = }')\n",
        "print('average log likelihood = ', f'{nll/n}') #average log likelihood (normalised)\n"
      ],
      "metadata": {
        "colab": {
          "base_uri": "https://localhost:8080/"
        },
        "id": "92nxC6Su9F1I",
        "outputId": "f3b5e598-47f0-489a-bcca-4c9964ac55ab"
      },
      "execution_count": null,
      "outputs": [
        {
          "output_type": "stream",
          "name": "stdout",
          "text": [
            "log_likelihood = tensor(-504653.)\n",
            "nll = tensor(504653.)\n",
            "average log likelihood =  2.2119739055633545\n"
          ]
        }
      ]
    },
    {
      "cell_type": "markdown",
      "source": [
        "The average loss is not significantly different from the bigram model."
      ],
      "metadata": {
        "id": "WD5llhV8hIg6"
      }
    },
    {
      "cell_type": "markdown",
      "source": [
        "##Using neural net"
      ],
      "metadata": {
        "id": "FKNyWV5Sh9Iq"
      }
    },
    {
      "cell_type": "code",
      "source": [
        "!wget https://raw.githubusercontent.com/karpathy/makemore/master/names.txt\n",
        "words = open('names.txt', 'r').read().splitlines() #splitlines: get data as a Python list of strings\n",
        "\n",
        "from itertools import product\n",
        "import matplotlib.pyplot as plt"
      ],
      "metadata": {
        "colab": {
          "base_uri": "https://localhost:8080/"
        },
        "id": "d0zHjSZ1jqKt",
        "outputId": "3bfbb831-ba60-4f7f-ccd0-0c5cb9abf1fe"
      },
      "execution_count": 4,
      "outputs": [
        {
          "output_type": "stream",
          "name": "stdout",
          "text": [
            "--2023-10-16 06:59:41--  https://raw.githubusercontent.com/karpathy/makemore/master/names.txt\n",
            "Resolving raw.githubusercontent.com (raw.githubusercontent.com)... 185.199.108.133, 185.199.109.133, 185.199.111.133, ...\n",
            "Connecting to raw.githubusercontent.com (raw.githubusercontent.com)|185.199.108.133|:443... connected.\n",
            "HTTP request sent, awaiting response... 200 OK\n",
            "Length: 228145 (223K) [text/plain]\n",
            "Saving to: ‘names.txt.1’\n",
            "\n",
            "\rnames.txt.1           0%[                    ]       0  --.-KB/s               \rnames.txt.1         100%[===================>] 222.80K  --.-KB/s    in 0.04s   \n",
            "\n",
            "2023-10-16 06:59:41 (5.51 MB/s) - ‘names.txt.1’ saved [228145/228145]\n",
            "\n"
          ]
        }
      ]
    },
    {
      "cell_type": "code",
      "source": [
        "#create indexing of single characters 'a','b', ...\n",
        "alphabet = sorted(list(set(''.join(words))))\n",
        "len(alphabet)\n",
        "stoi = {s:idx for idx, s in enumerate(alphabet, 1)}\n",
        "stoi['.'] = 0\n",
        "itos = {idx:s for s, idx in stoi.items()}\n",
        "itos\n",
        "\n",
        "##create indexing of double characters 'aa','ab', ... , 'ba', 'bb',...\n",
        "alphabet_copy = alphabet.copy()\n",
        "alphabet_copy.append('.')\n",
        "alphabet2 = set()\n",
        "for comb in product(alphabet_copy, repeat=2): #cartesian product of alphabet\n",
        "  alphabet2.add(\"\".join(comb))\n",
        "alphabet_comb = sorted(list(alphabet2))\n",
        "print(len(alphabet_comb))\n",
        "\n",
        "stoi2 = {s:idx  for idx, s in enumerate(alphabet_comb)}\n",
        "itos2 = {idx: s for s, idx in stoi2.items()}"
      ],
      "metadata": {
        "colab": {
          "base_uri": "https://localhost:8080/"
        },
        "id": "wuQG6PT2mW7I",
        "outputId": "348a73d2-69e1-4d2d-9d54-68b253e9abf2"
      },
      "execution_count": 5,
      "outputs": [
        {
          "output_type": "stream",
          "name": "stdout",
          "text": [
            "729\n"
          ]
        }
      ]
    },
    {
      "cell_type": "code",
      "source": [
        "#create set of trigrams\n",
        "xs, ys = [], []\n",
        "\n",
        "\n",
        "for w in words[:1]:\n",
        "  chs = '..' + w + '.'\n",
        "  for ch1, ch2, ch3 in zip (chs, chs[1:], chs[2:]):\n",
        "    print(f\"{ch1}{ch2}-> {ch3}\")\n",
        "    ix1 = stoi2[ch1+ch2] #sum of characters is concatenate\n",
        "    ix2 = stoi[ch3]\n",
        "\n",
        "    xs.append(ix1)\n",
        "    ys.append(ix2)\n",
        "\n",
        "xs = torch.tensor(xs)\n",
        "ys = torch.tensor(ys)\n",
        "\n",
        "print('xs: ', xs)\n",
        "print('ys: ', ys)"
      ],
      "metadata": {
        "colab": {
          "base_uri": "https://localhost:8080/"
        },
        "id": "0T226MIgiBbW",
        "outputId": "26784728-5837-41b8-b847-8ce571cb632b"
      },
      "execution_count": null,
      "outputs": [
        {
          "output_type": "stream",
          "name": "stdout",
          "text": [
            "..-> e\n",
            ".e-> m\n",
            "em-> m\n",
            "mm-> a\n",
            "ma-> .\n",
            "xs:  tensor([  0,   5, 148, 364, 352])\n",
            "ys:  tensor([ 5, 13, 13,  1,  0])\n"
          ]
        }
      ]
    },
    {
      "cell_type": "code",
      "source": [
        "#one-hot encoding\n",
        "import torch.nn.functional as F\n",
        "xenc = F.one_hot(xs, num_classes=len(alphabet_comb)).float() #x-encoded. Casted to float\n",
        "\n",
        "plt.imshow(xenc, aspect=25);"
      ],
      "metadata": {
        "colab": {
          "base_uri": "https://localhost:8080/",
          "height": 145
        },
        "id": "DG8txEiplvD1",
        "outputId": "a5c22085-6086-46fa-9dd7-6d669ba30cb8"
      },
      "execution_count": null,
      "outputs": [
        {
          "output_type": "display_data",
          "data": {
            "text/plain": [
              "<Figure size 640x480 with 1 Axes>"
            ],
            "image/png": "[encoded data removed]"
          },
          "metadata": {}
        }
      ]
    },
    {
      "cell_type": "code",
      "source": [
        "xenc.shape"
      ],
      "metadata": {
        "colab": {
          "base_uri": "https://localhost:8080/"
        },
        "id": "Je2SB0TV-T9i",
        "outputId": "2c161029-fb84-4789-f4be-7d46bdb0516e"
      },
      "execution_count": null,
      "outputs": [
        {
          "output_type": "execute_result",
          "data": {
            "text/plain": [
              "torch.Size([5, 729])"
            ]
          },
          "metadata": {},
          "execution_count": 91
        }
      ]
    },
    {
      "cell_type": "code",
      "source": [
        "#generate Weight matrix\n",
        "W = torch.randn((xenc.shape[1], 27), requires_grad=True) #729(input) x 27(output)\n",
        "W.shape"
      ],
      "metadata": {
        "colab": {
          "base_uri": "https://localhost:8080/"
        },
        "id": "pad1FUI1-D0t",
        "outputId": "23dd8eea-6635-4265-f83f-5b1e84e9ccfd"
      },
      "execution_count": null,
      "outputs": [
        {
          "output_type": "execute_result",
          "data": {
            "text/plain": [
              "torch.Size([729, 27])"
            ]
          },
          "metadata": {},
          "execution_count": 92
        }
      ]
    },
    {
      "cell_type": "code",
      "source": [
        "##forward pass\n",
        "\n",
        "logits = xenc @ W #predicted log-counts\n",
        "\n",
        "#Softmax\n",
        "counts = logits.exp()\n",
        "probs = counts / counts.sum(1, keepdims=True) #probabilities for next character\n",
        "probs"
      ],
      "metadata": {
        "colab": {
          "base_uri": "https://localhost:8080/"
        },
        "id": "ZC8NKGOV-8Bd",
        "outputId": "03c6e03a-f564-4ef2-a267-acddad6195a1"
      },
      "execution_count": null,
      "outputs": [
        {
          "output_type": "execute_result",
          "data": {
            "text/plain": [
              "tensor([[0.0501, 0.0038, 0.0114, 0.0216, 0.0111, 0.0181, 0.0117, 0.1415, 0.0126,\n",
              "         0.0377, 0.0653, 0.0731, 0.0303, 0.0309, 0.0662, 0.0270, 0.0107, 0.0090,\n",
              "         0.0474, 0.0086, 0.0397, 0.0106, 0.0456, 0.0437, 0.0029, 0.0071, 0.1624],\n",
              "        [0.0485, 0.0653, 0.0020, 0.0518, 0.0148, 0.0053, 0.0171, 0.0839, 0.0389,\n",
              "         0.0513, 0.0249, 0.0495, 0.0644, 0.0204, 0.0435, 0.0904, 0.0460, 0.0091,\n",
              "         0.0084, 0.0093, 0.0173, 0.0706, 0.0063, 0.0338, 0.0409, 0.0541, 0.0324],\n",
              "        [0.0060, 0.1299, 0.0097, 0.3121, 0.0068, 0.0204, 0.0052, 0.0450, 0.0111,\n",
              "         0.0116, 0.0395, 0.0027, 0.0145, 0.0926, 0.0338, 0.0478, 0.0072, 0.0214,\n",
              "         0.0127, 0.0362, 0.0119, 0.0307, 0.0046, 0.0095, 0.0105, 0.0202, 0.0465],\n",
              "        [0.0419, 0.0048, 0.0364, 0.0342, 0.0344, 0.0633, 0.0632, 0.0029, 0.0103,\n",
              "         0.0469, 0.0093, 0.0235, 0.0041, 0.0192, 0.0703, 0.0275, 0.1499, 0.0237,\n",
              "         0.0055, 0.0390, 0.0212, 0.0466, 0.0297, 0.0141, 0.0124, 0.0950, 0.0706],\n",
              "        [0.0085, 0.0205, 0.0167, 0.0407, 0.0416, 0.0431, 0.0221, 0.0340, 0.1388,\n",
              "         0.0034, 0.0145, 0.0178, 0.1234, 0.0083, 0.0047, 0.0597, 0.0363, 0.0137,\n",
              "         0.0208, 0.0418, 0.0276, 0.0287, 0.0303, 0.0610, 0.0511, 0.0093, 0.0819]],\n",
              "       grad_fn=<DivBackward0>)"
            ]
          },
          "metadata": {},
          "execution_count": 93
        }
      ]
    },
    {
      "cell_type": "code",
      "source": [
        "plt.bar(range(27), probs[0].tolist())\n",
        "plt.xlabel(\"Character indices (idx)\")\n",
        "plt.ylabel(\"P(idx)\")\n",
        "plt.title(\"Probability distribution of the next character\")\n",
        "plt.grid()"
      ],
      "metadata": {
        "colab": {
          "base_uri": "https://localhost:8080/",
          "height": 472
        },
        "id": "YRjj5SBwAPq2",
        "outputId": "68bfac38-d716-4bbe-efbc-d611753c158e"
      },
      "execution_count": null,
      "outputs": [
        {
          "output_type": "display_data",
          "data": {
            "text/plain": [
              "<Figure size 640x480 with 1 Axes>"
            ],
            "image/png": "[encoded data removed]"
          },
          "metadata": {}
        }
      ]
    },
    {
      "cell_type": "code",
      "source": [
        "#for first trigram [0], we want the probability of being the 5th index -> probs[0,5]\n",
        "print(probs)\n",
        "print(ys)\n",
        "probs[[0,1,2], [5, 13, 13]]"
      ],
      "metadata": {
        "colab": {
          "base_uri": "https://localhost:8080/"
        },
        "id": "poT98ahtCgh2",
        "outputId": "28b2b383-498e-4cf7-8b6b-fa343889b5c9"
      },
      "execution_count": null,
      "outputs": [
        {
          "output_type": "stream",
          "name": "stdout",
          "text": [
            "tensor([[0.0501, 0.0038, 0.0114, 0.0216, 0.0111, 0.0181, 0.0117, 0.1415, 0.0126,\n",
            "         0.0377, 0.0653, 0.0731, 0.0303, 0.0309, 0.0662, 0.0270, 0.0107, 0.0090,\n",
            "         0.0474, 0.0086, 0.0397, 0.0106, 0.0456, 0.0437, 0.0029, 0.0071, 0.1624],\n",
            "        [0.0485, 0.0653, 0.0020, 0.0518, 0.0148, 0.0053, 0.0171, 0.0839, 0.0389,\n",
            "         0.0513, 0.0249, 0.0495, 0.0644, 0.0204, 0.0435, 0.0904, 0.0460, 0.0091,\n",
            "         0.0084, 0.0093, 0.0173, 0.0706, 0.0063, 0.0338, 0.0409, 0.0541, 0.0324],\n",
            "        [0.0060, 0.1299, 0.0097, 0.3121, 0.0068, 0.0204, 0.0052, 0.0450, 0.0111,\n",
            "         0.0116, 0.0395, 0.0027, 0.0145, 0.0926, 0.0338, 0.0478, 0.0072, 0.0214,\n",
            "         0.0127, 0.0362, 0.0119, 0.0307, 0.0046, 0.0095, 0.0105, 0.0202, 0.0465],\n",
            "        [0.0419, 0.0048, 0.0364, 0.0342, 0.0344, 0.0633, 0.0632, 0.0029, 0.0103,\n",
            "         0.0469, 0.0093, 0.0235, 0.0041, 0.0192, 0.0703, 0.0275, 0.1499, 0.0237,\n",
            "         0.0055, 0.0390, 0.0212, 0.0466, 0.0297, 0.0141, 0.0124, 0.0950, 0.0706],\n",
            "        [0.0085, 0.0205, 0.0167, 0.0407, 0.0416, 0.0431, 0.0221, 0.0340, 0.1388,\n",
            "         0.0034, 0.0145, 0.0178, 0.1234, 0.0083, 0.0047, 0.0597, 0.0363, 0.0137,\n",
            "         0.0208, 0.0418, 0.0276, 0.0287, 0.0303, 0.0610, 0.0511, 0.0093, 0.0819]],\n",
            "       grad_fn=<DivBackward0>)\n",
            "tensor([ 5, 13, 13,  1,  0])\n"
          ]
        },
        {
          "output_type": "execute_result",
          "data": {
            "text/plain": [
              "tensor([0.0181, 0.0204, 0.0926], grad_fn=<IndexBackward0>)"
            ]
          },
          "metadata": {},
          "execution_count": 95
        }
      ]
    },
    {
      "cell_type": "code",
      "source": [
        "#loss\n",
        "loss = -probs[torch.arange(5), ys].log().mean()"
      ],
      "metadata": {
        "id": "u_9otQs5As2Y"
      },
      "execution_count": null,
      "outputs": []
    },
    {
      "cell_type": "code",
      "source": [
        "print(probs.shape)\n",
        "len(probs)"
      ],
      "metadata": {
        "colab": {
          "base_uri": "https://localhost:8080/"
        },
        "id": "8x03eRo2FVbh",
        "outputId": "3e59a817-a199-42a0-ca76-fad393ed3193"
      },
      "execution_count": null,
      "outputs": [
        {
          "output_type": "stream",
          "name": "stdout",
          "text": [
            "torch.Size([5, 27])\n"
          ]
        },
        {
          "output_type": "execute_result",
          "data": {
            "text/plain": [
              "5"
            ]
          },
          "metadata": {},
          "execution_count": 98
        }
      ]
    },
    {
      "cell_type": "code",
      "source": [
        "#backward pass\n",
        "W.grad = None\n",
        "loss.backward()"
      ],
      "metadata": {
        "id": "h_jUz04QC-yB"
      },
      "execution_count": null,
      "outputs": []
    },
    {
      "cell_type": "code",
      "source": [
        "#update\n",
        "W.data += -0.1 * W.grad"
      ],
      "metadata": {
        "id": "GwnzS3e6DFe_"
      },
      "execution_count": null,
      "outputs": []
    },
    {
      "cell_type": "code",
      "source": [
        "print(loss.item())"
      ],
      "metadata": {
        "colab": {
          "base_uri": "https://localhost:8080/"
        },
        "id": "jcYJniptDLB9",
        "outputId": "e72d9ebd-6de6-46b8-ae90-83575d8089df"
      },
      "execution_count": null,
      "outputs": [
        {
          "output_type": "stream",
          "name": "stdout",
          "text": [
            "4.076936721801758\n"
          ]
        }
      ]
    },
    {
      "cell_type": "markdown",
      "source": [
        "## Trigram neural network rearranged"
      ],
      "metadata": {
        "id": "vcsN1h0zDU_N"
      }
    },
    {
      "cell_type": "code",
      "source": [
        "!wget https://raw.githubusercontent.com/karpathy/makemore/master/names.txt\n",
        "words = open('names.txt', 'r').read().splitlines() #splitlines: get data as a Python list of strings"
      ],
      "metadata": {
        "colab": {
          "base_uri": "https://localhost:8080/"
        },
        "id": "GkHAViUXSTYP",
        "outputId": "740d5cb2-f119-4eee-9e2e-3e465c7665fd"
      },
      "execution_count": 8,
      "outputs": [
        {
          "output_type": "stream",
          "name": "stdout",
          "text": [
            "--2023-10-16 07:01:03--  https://raw.githubusercontent.com/karpathy/makemore/master/names.txt\n",
            "Resolving raw.githubusercontent.com (raw.githubusercontent.com)... 185.199.109.133, 185.199.110.133, 185.199.108.133, ...\n",
            "Connecting to raw.githubusercontent.com (raw.githubusercontent.com)|185.199.109.133|:443... connected.\n",
            "HTTP request sent, awaiting response... 200 OK\n",
            "Length: 228145 (223K) [text/plain]\n",
            "Saving to: ‘names.txt.2’\n",
            "\n",
            "\rnames.txt.2           0%[                    ]       0  --.-KB/s               \rnames.txt.2         100%[===================>] 222.80K  --.-KB/s    in 0.04s   \n",
            "\n",
            "2023-10-16 07:01:03 (4.92 MB/s) - ‘names.txt.2’ saved [228145/228145]\n",
            "\n"
          ]
        }
      ]
    },
    {
      "cell_type": "code",
      "source": [
        "from itertools import product\n",
        "import matplotlib.pyplot as plt\n",
        "import torch.nn.functional as F\n",
        "import torch"
      ],
      "metadata": {
        "id": "_LJPmARQSsQv"
      },
      "execution_count": 11,
      "outputs": []
    },
    {
      "cell_type": "code",
      "source": [
        "#create indexing of single characters 'a','b', ...\n",
        "alphabet = sorted(list(set(''.join(words))))\n",
        "len(alphabet)\n",
        "stoi = {s:idx for idx, s in enumerate(alphabet, 1)}\n",
        "stoi['.'] = 0\n",
        "itos = {idx:s for s, idx in stoi.items()}\n",
        "itos\n",
        "\n",
        "##create indexing of double characters 'aa','ab', ... , 'ba', 'bb',...\n",
        "alphabet_copy = alphabet.copy()\n",
        "alphabet_copy.append('.')\n",
        "alphabet2 = set()\n",
        "for comb in product(alphabet_copy, repeat=2): #cartesian product of alphabet\n",
        "  alphabet2.add(\"\".join(comb))\n",
        "alphabet_comb = sorted(list(alphabet2))\n",
        "\n",
        "stoi2 = {s:idx for idx, s in enumerate(alphabet_comb)}\n",
        "itos2 = {idx: s for s, idx in stoi2.items()}"
      ],
      "metadata": {
        "id": "BbwzJ9AeDasR"
      },
      "execution_count": 13,
      "outputs": []
    },
    {
      "cell_type": "code",
      "source": [
        "#create set of trigrams\n",
        "xs, ys = [], []\n",
        "\n",
        "\n",
        "for w in words:\n",
        "  chs = '..' + w + '.'\n",
        "  for ch1, ch2, ch3 in zip (chs, chs[1:], chs[2:]):\n",
        "    #print(f\"{ch1}{ch2}-> {ch3}\")\n",
        "    ix1 = stoi2[ch1+ch2] #sum of characters is concatenate\n",
        "    ix2 = stoi[ch3]\n",
        "\n",
        "    xs.append(ix1)\n",
        "    ys.append(ix2)\n",
        "\n",
        "xs = torch.tensor(xs)\n",
        "ys = torch.tensor(ys)\n",
        "n_trigrams = len(xs)\n",
        "\n",
        "print('xs: ', xs)\n",
        "print('ys: ', ys)\n",
        "print('#trigrams: ', n_trigrams)"
      ],
      "metadata": {
        "colab": {
          "base_uri": "https://localhost:8080/"
        },
        "id": "csu8hzp4DvTG",
        "outputId": "034f9e56-5fd4-4ebd-bbe6-76c0dcf29122"
      },
      "execution_count": 14,
      "outputs": [
        {
          "output_type": "stream",
          "name": "stdout",
          "text": [
            "xs:  tensor([  0,   5, 148,  ..., 727, 701, 726])\n",
            "ys:  tensor([ 5, 13, 13,  ..., 26, 24,  0])\n",
            "#trigrams:  228146\n"
          ]
        }
      ]
    },
    {
      "cell_type": "code",
      "source": [
        "# train with gradient descent\n",
        "xenc = F.one_hot(xs, num_classes=len(alphabet_comb)+1).float() #x-encoded. Casted to float\n",
        "W = torch.randn((xenc.shape[1], 27), requires_grad=True) #729(input) x 27(output)"
      ],
      "metadata": {
        "id": "yJgpS_bWGPcI"
      },
      "execution_count": 15,
      "outputs": []
    },
    {
      "cell_type": "code",
      "source": [
        "N_ITERS = 100\n",
        "LEARN_RATE = 100\n",
        "REG = 0.01 #regularization\n",
        "losses = []\n",
        "\n",
        "for k in range (N_ITERS):\n",
        "\n",
        "  #forward pass\n",
        "  logits = xenc @ W #predicted log-counts\n",
        "  #Softmax\n",
        "  counts = logits.exp()\n",
        "  probs = counts / counts.sum(1, keepdims=True) #probabilities for next character\n",
        "  loss = -probs[torch.arange(n_trigrams), ys].log().mean() + REG*(W**2).mean()\n",
        "  #print(loss.item())\n",
        "  losses.append(loss.data)\n",
        "\n",
        "\n",
        "  #backward pass\n",
        "  W.grad = None #set gradient to zero\n",
        "  loss.backward()\n",
        "\n",
        "  #update\n",
        "  W.data -= LEARN_RATE * W.grad\n",
        "\n",
        "print(f\"train_loss (final): {losses[-1]}\")\n",
        "plt.plot(losses)\n",
        "plt.xlabel(\"epoch\")\n",
        "plt.ylabel(\"loss\")\n",
        "plt.title(\"Loss on training data\")\n",
        "plt.grid()\n",
        "plt.plot()"
      ],
      "metadata": {
        "colab": {
          "base_uri": "https://localhost:8080/",
          "height": 508
        },
        "id": "Oy3nZcT5EJx7",
        "outputId": "dcf44f66-3865-4551-f90d-3e8ecc8df657"
      },
      "execution_count": null,
      "outputs": [
        {
          "output_type": "stream",
          "name": "stdout",
          "text": [
            "train_loss (final): 2.3924484252929688\n"
          ]
        },
        {
          "output_type": "execute_result",
          "data": {
            "text/plain": [
              "[]"
            ]
          },
          "metadata": {},
          "execution_count": 113
        },
        {
          "output_type": "display_data",
          "data": {
            "text/plain": [
              "<Figure size 640x480 with 1 Axes>"
            ],
            "image/png": "[encoded data removed]"
          },
          "metadata": {}
        }
      ]
    },
    {
      "cell_type": "code",
      "source": [
        "#sample from the neural net model\n",
        "\n",
        "for i in range(5):\n",
        "  out = []\n",
        "  ix = 0\n",
        "\n",
        "  while True:\n",
        "    #one-hot encode input\n",
        "    xenc = F.one_hot(torch.tensor([ix]), num_classes=len(alphabet_comb)+1).float() #create a tensor with the last character (starts from 0) and one-hot encode it\n",
        "\n",
        "    #make prediction\n",
        "    logits = xenc @ W #predict log-counts\n",
        "    counts = logits.exp()\n",
        "    p = counts / counts.sum(1, keepdims=True)\n",
        "\n",
        "    #sample from prob. distribution\n",
        "    sampled_ix = torch.multinomial(p, num_samples=1, replacement=True).item()\n",
        "    out.append(itos[sampled_ix])\n",
        "\n",
        "    #rearrange indexes\n",
        "    last_char = itos2[ix][-1] #last character read in this iteration\n",
        "    predicted_char = itos[sampled_ix]\n",
        "    ix = stoi2[last_char + predicted_char]\n",
        "\n",
        "\n",
        "    if sampled_ix == 0:\n",
        "      break\n",
        "  print(''.join(out))"
      ],
      "metadata": {
        "colab": {
          "base_uri": "https://localhost:8080/"
        },
        "id": "7gXerSQXLBxh",
        "outputId": "feb755fa-86a4-44e5-8174-2b4b49166e10"
      },
      "execution_count": null,
      "outputs": [
        {
          "output_type": "stream",
          "name": "stdout",
          "text": [
            "niveoiozalan.\n",
            "matmmarli.\n",
            "ann.\n",
            "dodi.\n",
            "kalynni.\n"
          ]
        }
      ]
    },
    {
      "cell_type": "code",
      "source": [
        "itos2[0][-1]"
      ],
      "metadata": {
        "colab": {
          "base_uri": "https://localhost:8080/",
          "height": 36
        },
        "id": "ruOV0pnnQRrh",
        "outputId": "2909d782-3d68-4b50-bdd9-176e5ac8f139"
      },
      "execution_count": null,
      "outputs": [
        {
          "output_type": "execute_result",
          "data": {
            "text/plain": [
              "'.'"
            ],
            "application/vnd.google.colaboratory.intrinsic+json": {
              "type": "string"
            }
          },
          "metadata": {},
          "execution_count": 115
        }
      ]
    },
    {
      "cell_type": "markdown",
      "source": [
        "#E02\n",
        "split up the dataset randomly into 80% train set, 10% dev set, 10% test set. Train the bigram and trigram models only on the training set. Evaluate them on dev and test splits. What can you see?\n"
      ],
      "metadata": {
        "id": "Rkdf8Byn8DWa"
      }
    },
    {
      "cell_type": "code",
      "source": [
        "from sklearn.model_selection import train_test_split\n",
        "\n",
        "def split_data (xs, ys):\n",
        "  x_train, x_aux, y_train, y_aux = train_test_split(xs, ys, test_size=0.2, random_state=1)\n",
        "  x_val, x_test, y_val, y_test = train_test_split(x_aux, y_aux, test_size=0.5, random_state=1)\n",
        "\n",
        "  return (x_train, y_train, x_val, y_val, x_test, y_test)"
      ],
      "metadata": {
        "id": "sOcUuYz7zm-k"
      },
      "execution_count": 16,
      "outputs": []
    },
    {
      "cell_type": "markdown",
      "source": [
        "##Bigram model"
      ],
      "metadata": {
        "id": "OjpGikwN5OoM"
      }
    },
    {
      "cell_type": "code",
      "source": [
        "# create the dataset\n",
        "xs, ys = [], []\n",
        "for w in words:\n",
        "  chs = ['.'] + list(w) + ['.']\n",
        "  for ch1, ch2 in zip(chs, chs[1:]):\n",
        "    ix1 = stoi[ch1]\n",
        "    ix2 = stoi[ch2]\n",
        "    xs.append(ix1)\n",
        "    ys.append(ix2)\n",
        "xs = torch.tensor(xs)\n",
        "ys = torch.tensor(ys)\n",
        "num = xs.nelement()\n",
        "\n",
        "x_train, y_train, x_val, y_val, x_test, y_test = split_data(xs, ys)\n",
        "\n",
        "# initialize the 'network'\n",
        "W = torch.randn((27, 27), requires_grad=True)"
      ],
      "metadata": {
        "id": "M16UjgUn5Ju4"
      },
      "execution_count": null,
      "outputs": []
    },
    {
      "cell_type": "code",
      "source": [
        "print('Total #elements: ', len(xs))\n",
        "print('size of train set: ', len(x_train))\n",
        "print('size of dev set: ', len(x_val))\n",
        "print('size of test set: ', len(x_test))"
      ],
      "metadata": {
        "colab": {
          "base_uri": "https://localhost:8080/"
        },
        "id": "DwEFpdVb47Il",
        "outputId": "9fb442c3-19ca-4ab7-dfb4-f0dc6a86c0da"
      },
      "execution_count": null,
      "outputs": [
        {
          "output_type": "stream",
          "name": "stdout",
          "text": [
            "Total #elements:  228146\n",
            "size of train set:  182516\n",
            "size of dev set:  22815\n",
            "size of test set:  22815\n"
          ]
        }
      ]
    },
    {
      "cell_type": "code",
      "source": [
        "# gradient descent\n",
        "N_ITERS = 50\n",
        "LEARN_RATE = 50\n",
        "REG = 0.01 #regularization\n",
        "train_losses = []\n",
        "val_losses = []\n",
        "test_losses = []\n",
        "\n",
        "xenc_train = F.one_hot(x_train, num_classes=27).float() # input to the network one-hot encoded\n",
        "xenc_val = F.one_hot(x_val, num_classes=27).float()\n",
        "xenc_test = F.one_hot(x_test, num_classes=27).float()\n",
        "\n",
        "\n",
        "for k in range(N_ITERS):\n",
        "\n",
        "  # forward pass\n",
        "  logits = xenc_train @ W # predict log-counts\n",
        "  counts = logits.exp() # counts, equivalent to N\n",
        "  probs = counts / counts.sum(1, keepdims=True) # probabilities for next character\n",
        "\n",
        "  #loss\n",
        "  train_loss = -probs[torch.arange(len(x_train)), y_train].log().mean() + REG*(W**2).mean() #regularization loss added\n",
        "  train_losses.append(train_loss.data)\n",
        "\n",
        "  with torch.no_grad():\n",
        "        logits_val = xenc_val @ W # predict log-counts\n",
        "        counts_val = logits_val.exp()\n",
        "        probs_val = counts_val / counts_val.sum(1, keepdims=True)\n",
        "        val_loss = -1 * probs_val[torch.arange(len(xenc_val)), y_val].log().mean()\n",
        "        val_losses.append(val_loss)\n",
        "\n",
        "        logits_test = xenc_test @ W\n",
        "        counts_test = logits_test.exp()\n",
        "        probs_test = counts_test / counts_test.sum(1, keepdims=True)\n",
        "        test_loss = -1 * probs_test[torch.arange(len(xenc_test)), y_test].log().mean()\n",
        "        test_losses.append(test_loss)\n",
        "\n",
        "\n",
        "\n",
        "  # backward pass\n",
        "  W.grad = None # set to zero the gradient\n",
        "  train_loss.backward()\n",
        "\n",
        "  # update\n",
        "  W.data -= LEARN_RATE * W.grad\n",
        "\n",
        "\n",
        "print(f\"train_loss (final): {train_losses[-1]}\")\n",
        "print(f\"validation_loss (final): {val_losses[-1]}\")\n",
        "print(f\"test_loss (final): {test_losses[-1]}\")\n",
        "\n",
        "plt.plot(train_losses, label='Train loss')\n",
        "plt.plot(val_losses, label='Val loss')\n",
        "plt.plot(test_losses, label='Test loss')\n",
        "\n",
        "plt.xlabel(\"epoch\")\n",
        "plt.ylabel(\"loss\")\n",
        "plt.title(\"Loss on training data\")\n",
        "plt.grid()\n",
        "plt.legend()\n",
        "plt.plot();"
      ],
      "metadata": {
        "colab": {
          "base_uri": "https://localhost:8080/",
          "height": 526
        },
        "id": "5RUS26zW5ynd",
        "outputId": "dd215b57-34a3-45da-cce0-0ebc4ac9d189"
      },
      "execution_count": null,
      "outputs": [
        {
          "output_type": "stream",
          "name": "stdout",
          "text": [
            "train_loss (final): 2.511627197265625\n",
            "validation_loss (final): 2.5075109004974365\n",
            "test_loss (final): 2.5017035007476807\n"
          ]
        },
        {
          "output_type": "display_data",
          "data": {
            "text/plain": [
              "<Figure size 640x480 with 1 Axes>"
            ],
            "image/png": "[encoded data removed]"
          },
          "metadata": {}
        }
      ]
    },
    {
      "cell_type": "markdown",
      "source": [
        "## Trigram model"
      ],
      "metadata": {
        "id": "r1mlJ8945ZDf"
      }
    },
    {
      "cell_type": "code",
      "source": [
        "#create indexing of single characters 'a','b', ...\n",
        "alphabet = sorted(list(set(''.join(words))))\n",
        "len(alphabet)\n",
        "stoi = {s:idx for idx, s in enumerate(alphabet, 1)}\n",
        "stoi['.'] = 0\n",
        "itos = {idx:s for s, idx in stoi.items()}\n",
        "itos\n",
        "\n",
        "##create indexing of double characters 'aa','ab', ... , 'ba', 'bb',...\n",
        "alphabet_copy = alphabet.copy()\n",
        "alphabet_copy.append('.')\n",
        "alphabet2 = set()\n",
        "for comb in product(alphabet_copy, repeat=2): #cartesian product of alphabet\n",
        "  alphabet2.add(\"\".join(comb))\n",
        "alphabet_comb = sorted(list(alphabet2))\n",
        "\n",
        "stoi2 = {s:idx for idx, s in enumerate(alphabet_comb)}\n",
        "itos2 = {idx: s for s, idx in stoi2.items()}\n",
        "\n",
        "\n",
        "\n",
        "#create set of trigrams\n",
        "xs, ys = [], []\n",
        "\n",
        "for w in words:\n",
        "  chs = '..' + w + '.'\n",
        "  for ch1, ch2, ch3 in zip (chs, chs[1:], chs[2:]):\n",
        "    #print(f\"{ch1}{ch2}-> {ch3}\")\n",
        "    ix1 = stoi2[ch1+ch2] #sum of characters is concatenate\n",
        "    ix2 = stoi[ch3]\n",
        "\n",
        "    xs.append(ix1)\n",
        "    ys.append(ix2)\n",
        "\n",
        "xs = torch.tensor(xs)\n",
        "ys = torch.tensor(ys)\n",
        "n_trigrams = len(xs)\n",
        "\n",
        "print('xs: ', xs)\n",
        "print('ys: ', ys)\n",
        "print('#trigrams: ', n_trigrams)\n",
        "\n",
        "#split data\n",
        "x_train, y_train, x_val, y_val, x_test, y_test = split_data(xs, ys)"
      ],
      "metadata": {
        "colab": {
          "base_uri": "https://localhost:8080/"
        },
        "id": "YFJPjjHrPP-C",
        "outputId": "5aa54869-663e-40df-9bb0-18844d1ac6ca"
      },
      "execution_count": null,
      "outputs": [
        {
          "output_type": "stream",
          "name": "stdout",
          "text": [
            "xs:  tensor([  0,   5, 148,  ..., 727, 701, 726])\n",
            "ys:  tensor([ 5, 13, 13,  ..., 26, 24,  0])\n",
            "#trigrams:  228146\n"
          ]
        }
      ]
    },
    {
      "cell_type": "code",
      "source": [
        "print('Total #elements: ', len(xs))\n",
        "print('size of train set: ', len(x_train))\n",
        "print('size of dev set: ', len(x_val))\n",
        "print('size of test set: ', len(x_test))"
      ],
      "metadata": {
        "colab": {
          "base_uri": "https://localhost:8080/"
        },
        "id": "73k1HAbQPoT1",
        "outputId": "ed7c15e1-4c36-4b9d-a50c-d28c40c506c1"
      },
      "execution_count": null,
      "outputs": [
        {
          "output_type": "stream",
          "name": "stdout",
          "text": [
            "Total #elements:  228146\n",
            "size of train set:  182516\n",
            "size of dev set:  22815\n",
            "size of test set:  22815\n"
          ]
        }
      ]
    },
    {
      "cell_type": "code",
      "source": [
        "# gradient descent\n",
        "N_ITERS = 50\n",
        "LEARN_RATE = 50\n",
        "REG = 0.01 #regularization\n",
        "train_losses = []\n",
        "val_losses = []\n",
        "test_losses = []\n",
        "\n",
        "\n",
        "xenc_train = F.one_hot(x_train, num_classes=len(alphabet_comb)).float() #x-encoded. Casted to float\n",
        "xenc_val = F.one_hot(x_val, num_classes=len(alphabet_comb)).float()\n",
        "xenc_test = F.one_hot(x_test, num_classes=len(alphabet_comb)).float()\n",
        "\n",
        "#initialize the network\n",
        "W = torch.randn((xenc_train.shape[1], 27), requires_grad=True) #729(input) x 27(output)\n",
        "\n",
        "\n",
        "#gradient descent\n",
        "for k in range(N_ITERS):\n",
        "\n",
        "  # forward pass\n",
        "  logits = xenc_train @ W # predict log-counts\n",
        "  counts = logits.exp() # counts, equivalent to N\n",
        "  probs = counts / counts.sum(1, keepdims=True) # probabilities for next character\n",
        "\n",
        "  #loss\n",
        "  train_loss = -probs[torch.arange(len(xenc_train)), y_train].log().mean() + REG*(W**2).mean() #regularization loss added\n",
        "  train_losses.append(train_loss.data)\n",
        "\n",
        "  with torch.no_grad():\n",
        "        logits_val = xenc_val @ W # predict log-counts\n",
        "        counts_val = logits_val.exp()\n",
        "        probs_val = counts_val / counts_val.sum(1, keepdims=True)\n",
        "        val_loss = -1 * probs_val[torch.arange(len(xenc_val)), y_val].log().mean()\n",
        "        val_losses.append(val_loss)\n",
        "\n",
        "        logits_test = xenc_test @ W\n",
        "        counts_test = logits_test.exp()\n",
        "        probs_test = counts_test / counts_test.sum(1, keepdims=True)\n",
        "        test_loss = -1 * probs_test[torch.arange(len(xenc_test)), y_test].log().mean()\n",
        "        test_losses.append(test_loss)\n",
        "\n",
        "\n",
        "\n",
        "  # backward pass\n",
        "  W.grad = None # set to zero the gradient\n",
        "  train_loss.backward()\n",
        "\n",
        "  # update\n",
        "  W.data -= LEARN_RATE * W.grad\n",
        "\n",
        "\n",
        "print(f\"train_loss (final): {train_losses[-1]}\")\n",
        "print(f\"validation_loss (final): {val_losses[-1]}\")\n",
        "print(f\"test_loss (final): {test_losses[-1]}\")\n",
        "\n",
        "plt.plot(train_losses, label='Train loss')\n",
        "plt.plot(val_losses, label='Val loss')\n",
        "plt.plot(test_losses, label='Test loss')\n",
        "\n",
        "plt.xlabel(\"epoch\")\n",
        "plt.ylabel(\"loss\")\n",
        "plt.title(\"Loss on training data\")\n",
        "plt.grid()\n",
        "plt.legend()\n",
        "plt.plot();"
      ],
      "metadata": {
        "colab": {
          "base_uri": "https://localhost:8080/",
          "height": 526
        },
        "id": "1AmVjuRKPtfU",
        "outputId": "eae2f113-4d63-479f-d2ea-36b8e7bf770d"
      },
      "execution_count": null,
      "outputs": [
        {
          "output_type": "stream",
          "name": "stdout",
          "text": [
            "train_loss (final): 2.699500322341919\n",
            "validation_loss (final): 2.6992602348327637\n",
            "test_loss (final): 2.69442081451416\n"
          ]
        },
        {
          "output_type": "display_data",
          "data": {
            "text/plain": [
              "<Figure size 640x480 with 1 Axes>"
            ],
            "image/png": "[encoded data removed]"
          },
          "metadata": {}
        }
      ]
    },
    {
      "cell_type": "markdown",
      "source": [
        "The model seems to underfit the training data, since both validation and test loss are similar to the training loss."
      ],
      "metadata": {
        "id": "NdlFvDhfRdjs"
      }
    },
    {
      "cell_type": "markdown",
      "source": [
        "#E03\n",
        "Use the dev set to tune the strength of smoothing (or regularization) for the trigram model - i.e. try many possibilities and see which one works best based on the dev set loss. What patterns can you see in the train and dev set loss as you tune this strength? Take the best setting of the smoothing and evaluate on the test set once and at the end. How good of a loss do you achieve?\n"
      ],
      "metadata": {
        "id": "6ZGgEMHB8G40"
      }
    },
    {
      "cell_type": "code",
      "source": [
        "#create indexing of single characters 'a','b', ...\n",
        "alphabet = sorted(list(set(''.join(words))))\n",
        "len(alphabet)\n",
        "stoi = {s:idx for idx, s in enumerate(alphabet, 1)}\n",
        "stoi['.'] = 0\n",
        "itos = {idx:s for s, idx in stoi.items()}\n",
        "itos\n",
        "\n",
        "##create indexing of double characters 'aa','ab', ... , 'ba', 'bb',...\n",
        "alphabet_copy = alphabet.copy()\n",
        "alphabet_copy.append('.')\n",
        "alphabet2 = set()\n",
        "for comb in product(alphabet_copy, repeat=2): #cartesian product of alphabet\n",
        "  alphabet2.add(\"\".join(comb))\n",
        "alphabet_comb = sorted(list(alphabet2))\n",
        "\n",
        "stoi2 = {s:idx for idx, s in enumerate(alphabet_comb)}\n",
        "itos2 = {idx: s for s, idx in stoi2.items()}\n",
        "\n",
        "\n",
        "\n",
        "#create set of trigrams\n",
        "xs, ys = [], []\n",
        "\n",
        "for w in words:\n",
        "  chs = '..' + w + '.'\n",
        "  for ch1, ch2, ch3 in zip (chs, chs[1:], chs[2:]):\n",
        "    #print(f\"{ch1}{ch2}-> {ch3}\")\n",
        "    ix1 = stoi2[ch1+ch2] #sum of characters is concatenate\n",
        "    ix2 = stoi[ch3]\n",
        "\n",
        "    xs.append(ix1)\n",
        "    ys.append(ix2)\n",
        "\n",
        "xs = torch.tensor(xs)\n",
        "ys = torch.tensor(ys)\n",
        "n_trigrams = len(xs)\n",
        "\n",
        "print('xs: ', xs)\n",
        "print('ys: ', ys)\n",
        "print('#trigrams: ', n_trigrams)\n",
        "\n",
        "#split data\n",
        "x_train, y_train, x_val, y_val, x_test, y_test = split_data(xs, ys)"
      ],
      "metadata": {
        "id": "lBp_7UlM8H3r",
        "colab": {
          "base_uri": "https://localhost:8080/"
        },
        "outputId": "de64dc0d-19f7-4028-d7d1-cfa6f2f36148"
      },
      "execution_count": null,
      "outputs": [
        {
          "output_type": "stream",
          "name": "stdout",
          "text": [
            "xs:  tensor([  0,   5, 148,  ..., 727, 701, 726])\n",
            "ys:  tensor([ 5, 13, 13,  ..., 26, 24,  0])\n",
            "#trigrams:  228146\n"
          ]
        }
      ]
    },
    {
      "cell_type": "code",
      "source": [
        "xenc_train = F.one_hot(x_train, num_classes=len(alphabet_comb)).float() #x-encoded. Casted to float\n",
        "xenc_val = F.one_hot(x_val, num_classes=len(alphabet_comb)).float()\n",
        "xenc_test = F.one_hot(x_test, num_classes=len(alphabet_comb)).float()"
      ],
      "metadata": {
        "id": "623Ck-6-Vyz9"
      },
      "execution_count": null,
      "outputs": []
    },
    {
      "cell_type": "code",
      "source": [
        "from tqdm import tqdm\n",
        "import numpy as np\n",
        "\n",
        "# gradient descent\n",
        "N_ITERS = 5\n",
        "LEARN_RATE = 100\n",
        "\n",
        "\n",
        "reg_strenghts = np.arange(0,0.8,0.02)\n",
        "\n",
        "loss_dict = {} # <reg_strength: [final train loss, final val loss]>\n",
        "W = torch.randn((729, 27), requires_grad=True) #729(input) x 27(output)\n",
        "\n",
        "for REG in tqdm(reg_strenghts):\n",
        "\n",
        "  train_losses = []\n",
        "  val_losses = []\n",
        "  test_losses = []\n",
        "\n",
        "  W = torch.randn((729, 27), requires_grad=True) #729(input) x 27(output)\n",
        "\n",
        "\n",
        "  #gradient descent\n",
        "  for k in range(N_ITERS):\n",
        "\n",
        "    # forward pass\n",
        "    logits = xenc_train @ W # predict log-counts\n",
        "    counts = logits.exp() # counts, equivalent to N\n",
        "    probs = counts / counts.sum(1, keepdims=True) # probabilities for next character\n",
        "\n",
        "    #loss\n",
        "    train_loss = -probs[torch.arange(len(xenc_train)), y_train].log().mean() + REG*(W**2).mean() #regularization loss added\n",
        "    train_losses.append(train_loss.data)\n",
        "\n",
        "    with torch.no_grad():\n",
        "          logits_val = xenc_val @ W # predict log-counts\n",
        "          counts_val = logits_val.exp()\n",
        "          probs_val = counts_val / counts_val.sum(1, keepdims=True)\n",
        "          val_loss = -1 * probs_val[torch.arange(len(xenc_val)), y_val].log().mean()\n",
        "          val_losses.append(val_loss)\n",
        "\n",
        "\n",
        "    # backward pass\n",
        "    W.grad = None # set to zero the gradient\n",
        "    train_loss.backward()\n",
        "\n",
        "    # update\n",
        "    W.data -= LEARN_RATE * W.grad\n",
        "\n",
        "  print('train loss: ',train_losses[-1])\n",
        "  print('val loss: ',val_losses[-1])\n",
        "  loss_dict[REG] = [train_losses[-1], val_losses[-1]]\n"
      ],
      "metadata": {
        "colab": {
          "base_uri": "https://localhost:8080/"
        },
        "id": "KSAbrVHOU8Gy",
        "outputId": "ebcc7d91-681d-4c9b-8f58-0f12e623739c"
      },
      "execution_count": null,
      "outputs": [
        {
          "output_type": "stream",
          "name": "stderr",
          "text": [
            "  2%|▎         | 1/40 [00:03<02:19,  3.58s/it]"
          ]
        },
        {
          "output_type": "stream",
          "name": "stdout",
          "text": [
            "train loss:  tensor(3.2676)\n",
            "val loss:  tensor(3.2664)\n"
          ]
        },
        {
          "output_type": "stream",
          "name": "stderr",
          "text": [
            "\r  5%|▌         | 2/40 [00:06<02:07,  3.34s/it]"
          ]
        },
        {
          "output_type": "stream",
          "name": "stdout",
          "text": [
            "train loss:  tensor(3.2585)\n",
            "val loss:  tensor(3.2409)\n"
          ]
        },
        {
          "output_type": "stream",
          "name": "stderr",
          "text": [
            "\r  8%|▊         | 3/40 [00:09<01:57,  3.16s/it]"
          ]
        },
        {
          "output_type": "stream",
          "name": "stdout",
          "text": [
            "train loss:  tensor(3.2989)\n",
            "val loss:  tensor(3.2598)\n"
          ]
        },
        {
          "output_type": "stream",
          "name": "stderr",
          "text": [
            "\r 10%|█         | 4/40 [00:12<01:50,  3.07s/it]"
          ]
        },
        {
          "output_type": "stream",
          "name": "stdout",
          "text": [
            "train loss:  tensor(3.2768)\n",
            "val loss:  tensor(3.2213)\n"
          ]
        },
        {
          "output_type": "stream",
          "name": "stderr",
          "text": [
            "\r 12%|█▎        | 5/40 [00:16<01:52,  3.21s/it]"
          ]
        },
        {
          "output_type": "stream",
          "name": "stdout",
          "text": [
            "train loss:  tensor(3.3940)\n",
            "val loss:  tensor(3.3263)\n"
          ]
        },
        {
          "output_type": "stream",
          "name": "stderr",
          "text": [
            "\r 15%|█▌        | 6/40 [00:19<01:49,  3.22s/it]"
          ]
        },
        {
          "output_type": "stream",
          "name": "stdout",
          "text": [
            "train loss:  tensor(3.3997)\n",
            "val loss:  tensor(3.3058)\n"
          ]
        },
        {
          "output_type": "stream",
          "name": "stderr",
          "text": [
            "\r 18%|█▊        | 7/40 [00:22<01:43,  3.12s/it]"
          ]
        },
        {
          "output_type": "stream",
          "name": "stdout",
          "text": [
            "train loss:  tensor(3.3954)\n",
            "val loss:  tensor(3.2894)\n"
          ]
        },
        {
          "output_type": "stream",
          "name": "stderr",
          "text": [
            "\r 20%|██        | 8/40 [00:25<01:38,  3.07s/it]"
          ]
        },
        {
          "output_type": "stream",
          "name": "stdout",
          "text": [
            "train loss:  tensor(3.4325)\n",
            "val loss:  tensor(3.2956)\n"
          ]
        },
        {
          "output_type": "stream",
          "name": "stderr",
          "text": [
            "\r 22%|██▎       | 9/40 [00:28<01:38,  3.18s/it]"
          ]
        },
        {
          "output_type": "stream",
          "name": "stdout",
          "text": [
            "train loss:  tensor(3.4068)\n",
            "val loss:  tensor(3.2615)\n"
          ]
        },
        {
          "output_type": "stream",
          "name": "stderr",
          "text": [
            "\r 25%|██▌       | 10/40 [00:31<01:36,  3.22s/it]"
          ]
        },
        {
          "output_type": "stream",
          "name": "stdout",
          "text": [
            "train loss:  tensor(3.4237)\n",
            "val loss:  tensor(3.2604)\n"
          ]
        },
        {
          "output_type": "stream",
          "name": "stderr",
          "text": [
            "\r 28%|██▊       | 11/40 [00:34<01:30,  3.14s/it]"
          ]
        },
        {
          "output_type": "stream",
          "name": "stdout",
          "text": [
            "train loss:  tensor(3.4504)\n",
            "val loss:  tensor(3.2613)\n"
          ]
        },
        {
          "output_type": "stream",
          "name": "stderr",
          "text": [
            "\r 30%|███       | 12/40 [00:37<01:26,  3.08s/it]"
          ]
        },
        {
          "output_type": "stream",
          "name": "stdout",
          "text": [
            "train loss:  tensor(3.4276)\n",
            "val loss:  tensor(3.2150)\n"
          ]
        },
        {
          "output_type": "stream",
          "name": "stderr",
          "text": [
            "\r 32%|███▎      | 13/40 [00:41<01:25,  3.17s/it]"
          ]
        },
        {
          "output_type": "stream",
          "name": "stdout",
          "text": [
            "train loss:  tensor(3.4428)\n",
            "val loss:  tensor(3.2221)\n"
          ]
        },
        {
          "output_type": "stream",
          "name": "stderr",
          "text": [
            "\r 35%|███▌      | 14/40 [00:44<01:23,  3.23s/it]"
          ]
        },
        {
          "output_type": "stream",
          "name": "stdout",
          "text": [
            "train loss:  tensor(3.4707)\n",
            "val loss:  tensor(3.2170)\n"
          ]
        },
        {
          "output_type": "stream",
          "name": "stderr",
          "text": [
            "\r 38%|███▊      | 15/40 [00:47<01:18,  3.14s/it]"
          ]
        },
        {
          "output_type": "stream",
          "name": "stdout",
          "text": [
            "train loss:  tensor(3.5001)\n",
            "val loss:  tensor(3.2218)\n"
          ]
        },
        {
          "output_type": "stream",
          "name": "stderr",
          "text": [
            "\r 40%|████      | 16/40 [00:50<01:14,  3.08s/it]"
          ]
        },
        {
          "output_type": "stream",
          "name": "stdout",
          "text": [
            "train loss:  tensor(3.5341)\n",
            "val loss:  tensor(3.2566)\n"
          ]
        },
        {
          "output_type": "stream",
          "name": "stderr",
          "text": [
            "\r 42%|████▎     | 17/40 [00:53<01:12,  3.15s/it]"
          ]
        },
        {
          "output_type": "stream",
          "name": "stdout",
          "text": [
            "train loss:  tensor(3.5839)\n",
            "val loss:  tensor(3.2800)\n"
          ]
        },
        {
          "output_type": "stream",
          "name": "stderr",
          "text": [
            "\r 45%|████▌     | 18/40 [00:57<01:10,  3.23s/it]"
          ]
        },
        {
          "output_type": "stream",
          "name": "stdout",
          "text": [
            "train loss:  tensor(3.5836)\n",
            "val loss:  tensor(3.2608)\n"
          ]
        },
        {
          "output_type": "stream",
          "name": "stderr",
          "text": [
            "\r 48%|████▊     | 19/40 [01:00<01:10,  3.36s/it]"
          ]
        },
        {
          "output_type": "stream",
          "name": "stdout",
          "text": [
            "train loss:  tensor(3.6339)\n",
            "val loss:  tensor(3.2984)\n"
          ]
        },
        {
          "output_type": "stream",
          "name": "stderr",
          "text": [
            "\r 50%|█████     | 20/40 [01:03<01:05,  3.27s/it]"
          ]
        },
        {
          "output_type": "stream",
          "name": "stdout",
          "text": [
            "train loss:  tensor(3.6085)\n",
            "val loss:  tensor(3.2569)\n"
          ]
        },
        {
          "output_type": "stream",
          "name": "stderr",
          "text": [
            "\r 52%|█████▎    | 21/40 [01:07<01:03,  3.35s/it]"
          ]
        },
        {
          "output_type": "stream",
          "name": "stdout",
          "text": [
            "train loss:  tensor(3.6720)\n",
            "val loss:  tensor(3.2889)\n"
          ]
        },
        {
          "output_type": "stream",
          "name": "stderr",
          "text": [
            "\r 55%|█████▌    | 22/40 [01:10<00:59,  3.29s/it]"
          ]
        },
        {
          "output_type": "stream",
          "name": "stdout",
          "text": [
            "train loss:  tensor(3.6768)\n",
            "val loss:  tensor(3.2743)\n"
          ]
        },
        {
          "output_type": "stream",
          "name": "stderr",
          "text": [
            "\r 57%|█████▊    | 23/40 [01:13<00:54,  3.18s/it]"
          ]
        },
        {
          "output_type": "stream",
          "name": "stdout",
          "text": [
            "train loss:  tensor(3.6458)\n",
            "val loss:  tensor(3.2270)\n"
          ]
        },
        {
          "output_type": "stream",
          "name": "stderr",
          "text": [
            "\r 60%|██████    | 24/40 [01:16<00:49,  3.11s/it]"
          ]
        },
        {
          "output_type": "stream",
          "name": "stdout",
          "text": [
            "train loss:  tensor(3.6835)\n",
            "val loss:  tensor(3.2529)\n"
          ]
        },
        {
          "output_type": "stream",
          "name": "stderr",
          "text": [
            "\r 62%|██████▎   | 25/40 [01:20<00:48,  3.23s/it]"
          ]
        },
        {
          "output_type": "stream",
          "name": "stdout",
          "text": [
            "train loss:  tensor(3.7107)\n",
            "val loss:  tensor(3.2544)\n"
          ]
        },
        {
          "output_type": "stream",
          "name": "stderr",
          "text": [
            "\r 65%|██████▌   | 26/40 [01:23<00:45,  3.22s/it]"
          ]
        },
        {
          "output_type": "stream",
          "name": "stdout",
          "text": [
            "train loss:  tensor(3.7520)\n",
            "val loss:  tensor(3.2795)\n"
          ]
        },
        {
          "output_type": "stream",
          "name": "stderr",
          "text": [
            "\r 68%|██████▊   | 27/40 [01:26<00:40,  3.14s/it]"
          ]
        },
        {
          "output_type": "stream",
          "name": "stdout",
          "text": [
            "train loss:  tensor(3.7520)\n",
            "val loss:  tensor(3.2546)\n"
          ]
        },
        {
          "output_type": "stream",
          "name": "stderr",
          "text": [
            "\r 70%|███████   | 28/40 [01:29<00:37,  3.08s/it]"
          ]
        },
        {
          "output_type": "stream",
          "name": "stdout",
          "text": [
            "train loss:  tensor(3.7493)\n",
            "val loss:  tensor(3.2609)\n"
          ]
        },
        {
          "output_type": "stream",
          "name": "stderr",
          "text": [
            "\r 72%|███████▎  | 29/40 [01:32<00:35,  3.19s/it]"
          ]
        },
        {
          "output_type": "stream",
          "name": "stdout",
          "text": [
            "train loss:  tensor(3.7977)\n",
            "val loss:  tensor(3.2766)\n"
          ]
        },
        {
          "output_type": "stream",
          "name": "stderr",
          "text": [
            "\r 75%|███████▌  | 30/40 [01:35<00:32,  3.21s/it]"
          ]
        },
        {
          "output_type": "stream",
          "name": "stdout",
          "text": [
            "train loss:  tensor(3.7551)\n",
            "val loss:  tensor(3.2097)\n"
          ]
        },
        {
          "output_type": "stream",
          "name": "stderr",
          "text": [
            "\r 78%|███████▊  | 31/40 [01:38<00:28,  3.13s/it]"
          ]
        },
        {
          "output_type": "stream",
          "name": "stdout",
          "text": [
            "train loss:  tensor(3.7777)\n",
            "val loss:  tensor(3.2312)\n"
          ]
        },
        {
          "output_type": "stream",
          "name": "stderr",
          "text": [
            "\r 80%|████████  | 32/40 [01:41<00:24,  3.07s/it]"
          ]
        },
        {
          "output_type": "stream",
          "name": "stdout",
          "text": [
            "train loss:  tensor(3.8301)\n",
            "val loss:  tensor(3.2578)\n"
          ]
        },
        {
          "output_type": "stream",
          "name": "stderr",
          "text": [
            "\r 82%|████████▎ | 33/40 [01:45<00:22,  3.16s/it]"
          ]
        },
        {
          "output_type": "stream",
          "name": "stdout",
          "text": [
            "train loss:  tensor(3.8741)\n",
            "val loss:  tensor(3.2924)\n"
          ]
        },
        {
          "output_type": "stream",
          "name": "stderr",
          "text": [
            "\r 85%|████████▌ | 34/40 [01:48<00:19,  3.21s/it]"
          ]
        },
        {
          "output_type": "stream",
          "name": "stdout",
          "text": [
            "train loss:  tensor(3.8718)\n",
            "val loss:  tensor(3.2464)\n"
          ]
        },
        {
          "output_type": "stream",
          "name": "stderr",
          "text": [
            "\r 88%|████████▊ | 35/40 [01:51<00:15,  3.12s/it]"
          ]
        },
        {
          "output_type": "stream",
          "name": "stdout",
          "text": [
            "train loss:  tensor(3.8427)\n",
            "val loss:  tensor(3.2233)\n"
          ]
        },
        {
          "output_type": "stream",
          "name": "stderr",
          "text": [
            "\r 90%|█████████ | 36/40 [01:54<00:12,  3.07s/it]"
          ]
        },
        {
          "output_type": "stream",
          "name": "stdout",
          "text": [
            "train loss:  tensor(3.8591)\n",
            "val loss:  tensor(3.2169)\n"
          ]
        },
        {
          "output_type": "stream",
          "name": "stderr",
          "text": [
            "\r 92%|█████████▎| 37/40 [01:57<00:09,  3.15s/it]"
          ]
        },
        {
          "output_type": "stream",
          "name": "stdout",
          "text": [
            "train loss:  tensor(3.8771)\n",
            "val loss:  tensor(3.2167)\n"
          ]
        },
        {
          "output_type": "stream",
          "name": "stderr",
          "text": [
            "\r 95%|█████████▌| 38/40 [02:00<00:06,  3.22s/it]"
          ]
        },
        {
          "output_type": "stream",
          "name": "stdout",
          "text": [
            "train loss:  tensor(3.9360)\n",
            "val loss:  tensor(3.2530)\n"
          ]
        },
        {
          "output_type": "stream",
          "name": "stderr",
          "text": [
            "\r 98%|█████████▊| 39/40 [02:03<00:03,  3.14s/it]"
          ]
        },
        {
          "output_type": "stream",
          "name": "stdout",
          "text": [
            "train loss:  tensor(3.9337)\n",
            "val loss:  tensor(3.2349)\n"
          ]
        },
        {
          "output_type": "stream",
          "name": "stderr",
          "text": [
            "100%|██████████| 40/40 [02:06<00:00,  3.17s/it]"
          ]
        },
        {
          "output_type": "stream",
          "name": "stdout",
          "text": [
            "train loss:  tensor(3.9454)\n",
            "val loss:  tensor(3.2249)\n"
          ]
        },
        {
          "output_type": "stream",
          "name": "stderr",
          "text": [
            "\n"
          ]
        }
      ]
    },
    {
      "cell_type": "code",
      "source": [
        "plt.title(f\"Final Negative Log Likelihood Loss for diff. vals of regularization strenght\")\n",
        "plt.plot(list(loss_dict.keys()), [train_loss for train_loss, _ in loss_dict.values()], \"o--\", label='train')\n",
        "plt.plot(list(loss_dict.keys()), [val_loss for _, val_loss in loss_dict.values()], \"o--\", label='validation')\n",
        "plt.xlabel(\"Regularization (L2) Strength\")\n",
        "plt.ylabel(\"Final Negative Log Likelihood\")\n",
        "plt.legend()\n",
        "plt.grid()\n",
        "plt.plot()"
      ],
      "metadata": {
        "colab": {
          "base_uri": "https://localhost:8080/",
          "height": 490
        },
        "id": "LEkvbxxzZXnB",
        "outputId": "a2d43b27-15f7-4cc1-d15f-89f76785f969"
      },
      "execution_count": null,
      "outputs": [
        {
          "output_type": "execute_result",
          "data": {
            "text/plain": [
              "[]"
            ]
          },
          "metadata": {},
          "execution_count": 211
        },
        {
          "output_type": "display_data",
          "data": {
            "text/plain": [
              "<Figure size 640x480 with 1 Axes>"
            ],
            "image/png": "[encoded data removed]"
          },
          "metadata": {}
        }
      ]
    },
    {
      "cell_type": "markdown",
      "source": [
        "Ideally, we would like to find the regularization term that minimizes the loss, both on train and validation."
      ],
      "metadata": {
        "id": "t_b9RHLvedNy"
      }
    },
    {
      "cell_type": "code",
      "source": [
        "a=list(loss_dict.values())[0]\n",
        "a"
      ],
      "metadata": {
        "colab": {
          "base_uri": "https://localhost:8080/"
        },
        "id": "solpJNe4e4NZ",
        "outputId": "892a1a3a-fda2-416a-dc25-4fab4af3dc41"
      },
      "execution_count": null,
      "outputs": [
        {
          "output_type": "execute_result",
          "data": {
            "text/plain": [
              "[tensor(3.2676), tensor(3.2664)]"
            ]
          },
          "metadata": {},
          "execution_count": 234
        }
      ]
    },
    {
      "cell_type": "code",
      "source": [
        "train_loss_total = []\n",
        "val_loss_total = []\n",
        "total_loss = []\n",
        "for train_loss, val_loss in loss_dict.values():\n",
        "  train_loss_total.append(train_loss)\n",
        "  val_loss_total.append(val_loss)\n",
        "  total_loss.append((train_loss+val_loss).item())\n",
        "\n",
        "#index of the minimum loss (train+validation)\n",
        "idx = total_loss.index(min(total_loss))\n",
        "\n",
        "\n",
        "print('Val loss = ', train_loss_total[idx].item())\n",
        "print('Train loss = ', val_loss_total[idx].item())\n",
        "\n",
        "print('Best REG value = ', reg_strenghts[idx])\n",
        "print('Found on iteration',idx)"
      ],
      "metadata": {
        "colab": {
          "base_uri": "https://localhost:8080/"
        },
        "id": "3Qw74Xw4hK3B",
        "outputId": "ae62324a-8818-4672-9166-dab75dd22c49"
      },
      "execution_count": null,
      "outputs": [
        {
          "output_type": "stream",
          "name": "stdout",
          "text": [
            "Val loss =  3.2767608165740967\n",
            "Train loss =  3.221332550048828\n",
            "Best REG value =  0.06\n",
            "Found on iteration 3\n"
          ]
        }
      ]
    },
    {
      "cell_type": "markdown",
      "source": [
        "#E04\n",
        "We saw that our 1-hot vectors merely select a row of W, so producing these vectors explicitly feels wasteful. Can you delete our use of F.one_hot in favor of simply indexing into rows of W?\n"
      ],
      "metadata": {
        "id": "CCVfV6-W8IaJ"
      }
    },
    {
      "cell_type": "code",
      "source": [
        "#create indexing of single characters 'a','b', ...\n",
        "alphabet = sorted(list(set(''.join(words))))\n",
        "len(alphabet)\n",
        "stoi = {s:idx for idx, s in enumerate(alphabet, 1)}\n",
        "stoi['.'] = 0\n",
        "itos = {idx:s for s, idx in stoi.items()}\n",
        "itos\n",
        "\n",
        "##create indexing of double characters 'aa','ab', ... , 'ba', 'bb',...\n",
        "alphabet_copy = alphabet.copy()\n",
        "alphabet_copy.append('.')\n",
        "alphabet2 = set()\n",
        "for comb in product(alphabet_copy, repeat=2): #cartesian product of alphabet\n",
        "  alphabet2.add(\"\".join(comb))\n",
        "alphabet_comb = sorted(list(alphabet2))\n",
        "\n",
        "stoi2 = {s:idx for idx, s in enumerate(alphabet_comb)}\n",
        "itos2 = {idx: s for s, idx in stoi2.items()}\n",
        "\n",
        "\n",
        "\n",
        "#create set of trigrams\n",
        "xs, ys = [], []\n",
        "\n",
        "for w in words:\n",
        "  chs = '..' + w + '.'\n",
        "  for ch1, ch2, ch3 in zip (chs, chs[1:], chs[2:]):\n",
        "    #print(f\"{ch1}{ch2}-> {ch3}\")\n",
        "    ix1 = stoi2[ch1+ch2] #sum of characters is concatenate\n",
        "    ix2 = stoi[ch3]\n",
        "\n",
        "    xs.append(ix1)\n",
        "    ys.append(ix2)\n",
        "\n",
        "xs = torch.tensor(xs)\n",
        "ys = torch.tensor(ys)\n",
        "n_trigrams = len(xs)\n",
        "\n",
        "print('xs: ', xs)\n",
        "print('ys: ', ys)\n",
        "print('#trigrams: ', n_trigrams)\n",
        "\n",
        "#split data\n",
        "x_train, y_train, x_val, y_val, x_test, y_test = split_data(xs, ys)"
      ],
      "metadata": {
        "id": "KJ7ov6G98JkD",
        "colab": {
          "base_uri": "https://localhost:8080/"
        },
        "outputId": "66a5bb81-18be-43e2-fea8-e2e36cbc6e8b"
      },
      "execution_count": 17,
      "outputs": [
        {
          "output_type": "stream",
          "name": "stdout",
          "text": [
            "xs:  tensor([  0,   5, 148,  ..., 727, 701, 726])\n",
            "ys:  tensor([ 5, 13, 13,  ..., 26, 24,  0])\n",
            "#trigrams:  228146\n"
          ]
        }
      ]
    },
    {
      "cell_type": "markdown",
      "source": [
        "We are performing the operation:\n",
        "\n",
        "x_enc = one-hot x[idx]\n",
        "\n",
        "logits = x_enc_i @ w\n",
        "\n",
        "logits = [0, 1, 0, 0, ...] @ w\n",
        "\n",
        "logits = w[1, :]\n",
        "\n",
        "\n",
        "We would achieve the sme result by just:\n",
        "\n",
        "logits = W[idx,:]"
      ],
      "metadata": {
        "id": "7TUYq3MJatnV"
      }
    },
    {
      "cell_type": "code",
      "source": [
        "# gradient descent\n",
        "N_ITERS = 50\n",
        "LEARN_RATE = 50\n",
        "REG = 0.06 #regularization\n",
        "train_losses = []\n",
        "\n",
        "\n",
        "#xenc_train = F.one_hot(x_train, num_classes=len(alphabet_comb)).float() #x-encoded. Casted to float\n",
        "\n",
        "#initialize the network\n",
        "W = torch.randn((len(x_train), 27), requires_grad=True) #729(input) x 27(output)\n",
        "\n",
        "\n",
        "#gradient descent\n",
        "for k in range(N_ITERS):\n",
        "\n",
        "  # forward pass\n",
        "  #------------\n",
        "  #before\n",
        "  #logits = xenc_train @ W # predict log-counts\n",
        "  #-------------\n",
        "\n",
        "  #-------------\n",
        "  #now\n",
        "  logits = W[x_train,:]\n",
        "  #-------------\n",
        "\n",
        "  counts = logits.exp() # counts, equivalent to N\n",
        "  probs = counts / counts.sum(1, keepdims=True) # probabilities for next character\n",
        "\n",
        "  #loss\n",
        "  train_loss = -probs[torch.arange(len(x_train)), y_train].log().mean() + REG*(W**2).mean() #regularization loss added\n",
        "  train_losses.append(train_loss.data)\n",
        "\n",
        "  # backward pass\n",
        "  W.grad = None # set to zero the gradient\n",
        "  train_loss.backward()\n",
        "\n",
        "  # update\n",
        "  W.data -= LEARN_RATE * W.grad\n",
        "\n",
        "\n",
        "print(f\"train_loss (final): {train_losses[-1]}\")\n",
        "\n",
        "\n",
        "plt.plot(train_losses, label='Train loss')\n",
        "\n",
        "plt.xlabel(\"epoch\")\n",
        "plt.ylabel(\"loss\")\n",
        "plt.title(\"Loss on training data\")\n",
        "plt.grid()\n",
        "plt.plot();"
      ],
      "metadata": {
        "colab": {
          "base_uri": "https://localhost:8080/",
          "height": 489
        },
        "id": "JCvmnC-lTUqK",
        "outputId": "a5c49b65-6c8b-444d-986b-4d4fa8e2cecf"
      },
      "execution_count": 63,
      "outputs": [
        {
          "output_type": "stream",
          "name": "stdout",
          "text": [
            "train_loss (final): 2.7429087162017822\n"
          ]
        },
        {
          "output_type": "display_data",
          "data": {
            "text/plain": [
              "<Figure size 640x480 with 1 Axes>"
            ],
            "image/png": "[encoded data removed]"
          },
          "metadata": {}
        }
      ]
    },
    {
      "cell_type": "markdown",
      "source": [
        "#E05\n",
        "Look up and use F.cross_entropy instead. You should achieve the same result. Can you think of why we'd prefer to use F.cross_entropy instead?"
      ],
      "metadata": {
        "id": "Cw1K82dW8KQm"
      }
    },
    {
      "cell_type": "code",
      "source": [
        "# gradient descent\n",
        "N_ITERS = 50\n",
        "LEARN_RATE = 50\n",
        "REG = 0.06 #regularization\n",
        "train_losses = []\n",
        "\n",
        "\n",
        "#initialize the network\n",
        "W = torch.randn((len(x_train), 27), requires_grad=True) #729(input) x 27(output)\n",
        "\n",
        "\n",
        "#gradient descent\n",
        "for k in range(N_ITERS):\n",
        "\n",
        "  # forward pass\n",
        "  logits = W[x_train,:]\n",
        "\n",
        "  #-------------\n",
        "  #BEFORE\n",
        "\n",
        "  #counts = logits.exp() # counts, equivalent to N\n",
        "  #probs = counts / counts.sum(1, keepdims=True) # probabilities for next character\n",
        "  #train_loss = -probs[torch.arange(len(x_train)), y_train].log().mean() + REG*(W**2).mean() #regularization loss added\n",
        "\n",
        "  #--------------\n",
        "\n",
        "  #now\n",
        "  train_loss = F.cross_entropy(input=logits, target=y_train)\n",
        "\n",
        "\n",
        "  train_losses.append(train_loss.data)\n",
        "\n",
        "  # backward pass\n",
        "  W.grad = None # set to zero the gradient\n",
        "  train_loss.backward()\n",
        "\n",
        "  # update\n",
        "  W.data -= LEARN_RATE * W.grad\n",
        "\n",
        "\n",
        "print(f\"train_loss (final): {train_losses[-1]}\")\n",
        "\n",
        "\n",
        "plt.plot(train_losses, label='Train loss')\n",
        "\n",
        "plt.xlabel(\"epoch\")\n",
        "plt.ylabel(\"loss\")\n",
        "plt.title(\"Loss on training data\")\n",
        "plt.grid()\n",
        "plt.plot();"
      ],
      "metadata": {
        "id": "OEUpmaNo8Lkr",
        "colab": {
          "base_uri": "https://localhost:8080/",
          "height": 489
        },
        "outputId": "18e32c81-70e8-4885-e802-867b0b039a31"
      },
      "execution_count": 70,
      "outputs": [
        {
          "output_type": "stream",
          "name": "stdout",
          "text": [
            "train_loss (final): 2.6851704120635986\n"
          ]
        },
        {
          "output_type": "display_data",
          "data": {
            "text/plain": [
              "<Figure size 640x480 with 1 Axes>"
            ],
            "image/png": "[encoded data removed]"
          },
          "metadata": {}
        }
      ]
    },
    {
      "cell_type": "code",
      "source": [
        "%%timeit\n",
        "loss = F.cross_entropy(input=logits, target=y_train)"
      ],
      "metadata": {
        "colab": {
          "base_uri": "https://localhost:8080/"
        },
        "id": "Zr_sgoQLhjPk",
        "outputId": "dec5789c-6c36-4660-9438-7e93bbe15a82"
      },
      "execution_count": 73,
      "outputs": [
        {
          "output_type": "stream",
          "name": "stdout",
          "text": [
            "35.8 ms ± 1.08 ms per loop (mean ± std. dev. of 7 runs, 10 loops each)\n"
          ]
        }
      ]
    },
    {
      "cell_type": "code",
      "source": [
        "%%timeit\n",
        "counts = logits.exp()\n",
        "probs = counts / counts.sum(1, keepdims=True)\n",
        "train_loss = -probs[torch.arange(len(x_train)), y_train].log().mean() + REG*(W**2).mean()"
      ],
      "metadata": {
        "colab": {
          "base_uri": "https://localhost:8080/"
        },
        "id": "UAUwH_V6hmdJ",
        "outputId": "df66a0cd-7c29-4b68-867e-8eaf9fe15e48"
      },
      "execution_count": 74,
      "outputs": [
        {
          "output_type": "stream",
          "name": "stdout",
          "text": [
            "46.9 ms ± 4.38 ms per loop (mean ± std. dev. of 7 runs, 10 loops each)\n"
          ]
        }
      ]
    },
    {
      "cell_type": "markdown",
      "source": [
        "Same results using less lines of code."
      ],
      "metadata": {
        "id": "8XPWOQiviLXV"
      }
    }
  ]
}